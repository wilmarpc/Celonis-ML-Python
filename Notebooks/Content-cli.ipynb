{
  "cells": [
    {
      "cell_type": "markdown",
      "id": "290a8c35",
      "metadata": {
        "id": "290a8c35"
      },
      "source": [
        "### Definir el perfil a utilizar:\n",
        "<ul>\n",
        "    <li><b>Auteco:<span style=\"color:blue;\">https://snap-plus-auteco-mobility.eu-5.celonis.cloud/</span></b>\n",
        "       <span style=\"color:green;\">YmU2OGY5ZjgtN2JkOS00ZmQ3LTgxYzAtYjExMjllZjQyNzk5OmR6MCt6L3pESUJRMFhXWmN6V0V6aXY5dUxTdW8zOWJ2STNiNnB6VGxOR0tz</span></li>\n",
        "    <li><b>CMPC&nbsp;Produccion:<span style=\"color:blue;\">https://empresas-cmpc.us-1.celonis.cloud/</span></b>\n",
        "       <span style=\"color:green;\">Nzg2YzMxOTQtNTlhYi00NWM3LWI4YWUtMmUzNzcwZDBiNDE1OlZXbUZzVTVjVkxTMzlPemszbS8rTzRacENVQWdxcFBpQWpKbmkvUlpUWVE4</span></li>\n",
        "    <li><b>CMPC&nbsp;Sandbox:<span style=\"color:blue;\">https://empresas-cmpc-sb.us-1.celonis.cloud/</span></b>\n",
        "       <span style=\"color:green;\">MzZkM2U1NzgtNTA2My00ZDZiLWExZjktNDZlMTVjMzE0YWU4OlRaQzZsQ08ySjROSHJGTllpdmVDT3ZWaDFpQmQ5RmdMZXo2UVlKQkM4bVFn</span></li>\n",
        "    <li><b>Nissan&nbsp;Produccion:&nbsp;<span style=\"color:blue;\">https://nissan-mexicana-sa.us-1.celonis.cloud/</span></b>\n",
        "       <span style=\"color:green;\">NmJmZTIxMWMtYzE4Yy00NzAzLTllMjEtNmQ1OTk1Y2Y0Njg0OmR3cTRRemEwbFdpVlZXUWRvOG5Db2J5bkpRTW5kcXdWaWFzckEzQzRnK1hU</span></li>\n",
        "    <li><b>Nissan&nbsp;Sandbox:&nbsp;<span style=\"color:blue;\">https://nissan-mexicana-sa-sb.us-1.celonis.cloud/</span></b>\n",
        "       <span style=\"color:green;\">OWZhMmEwNmYtNTRmZi00YjBkLWE3ZDEtMTA3MjczZjI0NjFhOlUrWDRNVU5SRGtiazZ4VVdYY3g5amkzc2l0bUhBUTZYbkFObHpXdFZWUEpR</span></li>\n",
        "    <li><b>Ofi-Sandbox:&nbsp;<span style=\"color:blue;\">https://ofi-partner-sandbox.us-1.celonis.cloud/</span></b>\n",
        "       <span style=\"color:green;\">ZTEzNTY1Y2MtMGNiMy00ZWNhLTllMDAtMDdlN2JjZDA4NzgwOjhCQWo4QVJ6OE9acjltWGxVcEY5Qk9Gb3g5LzhGSjNKc3NzU0h5OVdST3lI</span></li>\n",
        "    <li><b>La Fabril:<span style=\"color:blue;\">https://lafabril.us-2.celonis.cloud/</span></b>\n",
        "       <span style=\"color:green;\">NDFmZmM5MWItMmU2Zi00ZGUyLWEzNmItMmMwZTE4NmQ3OGQ3OjR4Z0w5MXJVdStnNThsenNLUTB5a21yVVVYOTRFak9GZ0xvSHhmT1FDb0FE</span></li>\n",
        "    <li><b>ProduBanco:<span style=\"color:blue;\">https://ofi-produbanco---cr-dito-hipotecario-c4c.us-1.celonis.cloud/</span></b>\n",
        "       <span style=\"color:green;\">NjAwNjlmMWUtYjI3My00OWMwLWE4MmQtY2MxYzM5ZmQ2MTdhOmc1UTdsVitaUUV6ZlV6UHlBZU1BQkxmaUtpNjFJNnptNzllbklhdUsveHJz</span></li>\n",
        "</ul>\n",
        "\n"
      ]
    },
    {
      "cell_type": "code",
      "execution_count": null,
      "id": "9429cf1a",
      "metadata": {
        "id": "9429cf1a"
      },
      "outputs": [],
      "source": [
        "!pip install --extra-index-url=https://pypi.celonis.cloud/ pycelonis"
      ]
    },
    {
      "cell_type": "markdown",
      "source": [
        "probando\n",
        "\n"
      ],
      "metadata": {
        "id": "eTiOCDkTPmSW"
      },
      "id": "eTiOCDkTPmSW"
    },
    {
      "cell_type": "markdown",
      "id": "c4ff66ea",
      "metadata": {
        "id": "c4ff66ea"
      },
      "source": [
        "### Para ver la ayuda de la herramienta \"Content-cli\" en cualquier momento:"
      ]
    },
    {
      "cell_type": "code",
      "execution_count": null,
      "id": "16bd5d08",
      "metadata": {
        "id": "16bd5d08"
      },
      "outputs": [],
      "source": [
        "!content-cli pull data-pool --help"
      ]
    },
    {
      "cell_type": "code",
      "execution_count": null,
      "id": "94da0689",
      "metadata": {
        "id": "94da0689"
      },
      "outputs": [],
      "source": [
        "import os\n",
        "#from pycelonis import notebooks\n",
        "from pycelonis import get_celonis\n",
        "from pycelonis import pql\n",
        "import pandas as pd"
      ]
    },
    {
      "cell_type": "markdown",
      "id": "de5882e0",
      "metadata": {
        "id": "de5882e0"
      },
      "source": [
        "# Copiar Data-Pools\n",
        "### Definir la URL de origen y el Token:"
      ]
    },
    {
      "cell_type": "code",
      "execution_count": null,
      "id": "af68e18a",
      "metadata": {
        "id": "af68e18a"
      },
      "outputs": [],
      "source": [
        "os.environ['TEAM_URL'] = 'https://empresas-cmpc.us-1.celonis.cloud/'\n",
        "os.environ['API_TOKEN'] = 'Nzg2YzMxOTQtNTlhYi00NWM3LWI4YWUtMmUzNzcwZDBiNDE1OlZXbUZzVTVjVkxTMzlPemszbS8rTzRacENVQWdxcFBpQWpKbmkvUlpUWVE4'"
      ]
    },
    {
      "cell_type": "code",
      "execution_count": null,
      "id": "30530b1c",
      "metadata": {
        "id": "30530b1c",
        "outputId": "5b8371a4-12e2-40b4-c171-7f17d850ef16"
      },
      "outputs": [
        {
          "name": "stdout",
          "output_type": "stream",
          "text": [
            "\u001b[32minfo\u001b[39m:    File downloaded successfully. New filename: data-pool_4ecb0a1b-7f14-458a-aa79-ed08746ad9db.json\n"
          ]
        }
      ],
      "source": [
        "!content-cli pull data-pool --id '4ecb0a1b-7f14-458a-aa79-ed08746ad9db'"
      ]
    },
    {
      "cell_type": "markdown",
      "id": "997ac7c8",
      "metadata": {
        "id": "997ac7c8"
      },
      "source": [
        "### Definir la URL de destino y el Token:"
      ]
    },
    {
      "cell_type": "code",
      "execution_count": null,
      "id": "969fe59f",
      "metadata": {
        "id": "969fe59f"
      },
      "outputs": [],
      "source": [
        "os.environ['TEAM_URL'] = 'https://empresas-cmpc-sb.us-1.celonis.cloud/'\n",
        "os.environ['API_TOKEN'] = 'MzZkM2U1NzgtNTA2My00ZDZiLWExZjktNDZlMTVjMzE0YWU4OlRaQzZsQ08ySjROSHJGTllpdmVDT3ZWaDFpQmQ5RmdMZXo2UVlKQkM4bVFn'"
      ]
    },
    {
      "cell_type": "code",
      "execution_count": null,
      "id": "e2904c83",
      "metadata": {
        "id": "e2904c83",
        "outputId": "98e8439b-f37c-47fc-b9c9-9f20381a8c41"
      },
      "outputs": [
        {
          "name": "stdout",
          "output_type": "stream",
          "text": [
            "\u001b[32minfo\u001b[39m:    Data Pool was pushed successfully. New ID: undefined\n"
          ]
        }
      ],
      "source": [
        "!content-cli push data-pool --file 'data-pool_4ecb0a1b-7f14-458a-aa79-ed08746ad9db.json'"
      ]
    },
    {
      "cell_type": "markdown",
      "id": "6f5f1686",
      "metadata": {
        "id": "6f5f1686"
      },
      "source": [
        "# Copiar Packages de Studio"
      ]
    },
    {
      "cell_type": "code",
      "execution_count": null,
      "id": "97fc4789",
      "metadata": {
        "id": "97fc4789",
        "outputId": "37f9911b-a606-48f5-ced9-e003822a4f93"
      },
      "outputs": [
        {
          "name": "stdout",
          "output_type": "stream",
          "text": [
            "\u001b[32minfo\u001b[39m:    File downloaded successfully. New filename: package_an-lisis.zip\n"
          ]
        }
      ],
      "source": [
        "!content-cli pull package --key 'an-lisis'"
      ]
    },
    {
      "cell_type": "code",
      "execution_count": null,
      "id": "fd7bd404",
      "metadata": {
        "id": "fd7bd404",
        "outputId": "d65186a5-a157-49d9-ea9e-f5cc143d6e86"
      },
      "outputs": [
        {
          "name": "stdout",
          "output_type": "stream",
          "text": [
            "\u001b[32minfo\u001b[39m:    Package was pushed successfully.\n"
          ]
        }
      ],
      "source": [
        "!content-cli push package --spaceKey 'a35cabe4-d28e-472e-9808-359c91786140' --file 'package_an-lisis.zip'"
      ]
    }
  ],
  "metadata": {
    "kernelspec": {
      "display_name": "Python 3 (ipykernel)",
      "language": "python",
      "name": "python3"
    },
    "language_info": {
      "codemirror_mode": {
        "name": "ipython",
        "version": 3
      },
      "file_extension": ".py",
      "mimetype": "text/x-python",
      "name": "python",
      "nbconvert_exporter": "python",
      "pygments_lexer": "ipython3",
      "version": "3.8.15"
    },
    "colab": {
      "provenance": []
    }
  },
  "nbformat": 4,
  "nbformat_minor": 5
}