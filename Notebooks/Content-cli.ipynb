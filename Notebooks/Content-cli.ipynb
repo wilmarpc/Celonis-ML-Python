{
  "cells": [
    {
      "cell_type": "markdown",
      "metadata": {
        "id": "view-in-github",
        "colab_type": "text"
      },
      "source": [
        "<a href=\"https://colab.research.google.com/github/wilmarpc/Celonis-ML-Python/blob/main/Notebooks/Content-cli.ipynb\" target=\"_parent\"><img src=\"https://colab.research.google.com/assets/colab-badge.svg\" alt=\"Open In Colab\"/></a>"
      ]
    },
    {
      "cell_type": "markdown",
      "id": "290a8c35",
      "metadata": {
        "id": "290a8c35"
      },
      "source": [
        "### Definir el perfil a utilizar:\n",
        "<ul>\n",
        "    <li><b>Auteco:<span style=\"color:blue;\">https://snap-plus-auteco-mobility.eu-5.celonis.cloud/</span></b>\n",
        "       <span style=\"color:green;\">YmU2OGY5ZjgtN2JkOS00ZmQ3LTgxYzAtYjExMjllZjQyNzk5OmR6MCt6L3pESUJRMFhXWmN6V0V6aXY5dUxTdW8zOWJ2STNiNnB6VGxOR0tz</span></li>\n",
        "    <li><b>CMPC&nbsp;Produccion:<span style=\"color:blue;\">https://empresas-cmpc.us-1.celonis.cloud/</span></b>\n",
        "       <span style=\"color:green;\">Nzg2YzMxOTQtNTlhYi00NWM3LWI4YWUtMmUzNzcwZDBiNDE1OlZXbUZzVTVjVkxTMzlPemszbS8rTzRacENVQWdxcFBpQWpKbmkvUlpUWVE4</span></li>\n",
        "    <li><b>CMPC&nbsp;Sandbox:<span style=\"color:blue;\">https://empresas-cmpc-sb.us-1.celonis.cloud/</span></b>\n",
        "       <span style=\"color:green;\">MzZkM2U1NzgtNTA2My00ZDZiLWExZjktNDZlMTVjMzE0YWU4OlRaQzZsQ08ySjROSHJGTllpdmVDT3ZWaDFpQmQ5RmdMZXo2UVlKQkM4bVFn</span></li>\n",
        "    <li><b>Nissan&nbsp;Produccion:&nbsp;<span style=\"color:blue;\">https://nissan-mexicana-sa.us-1.celonis.cloud/</span></b>\n",
        "       <span style=\"color:green;\">NmJmZTIxMWMtYzE4Yy00NzAzLTllMjEtNmQ1OTk1Y2Y0Njg0OmR3cTRRemEwbFdpVlZXUWRvOG5Db2J5bkpRTW5kcXdWaWFzckEzQzRnK1hU</span></li>\n",
        "    <li><b>Nissan&nbsp;Sandbox:&nbsp;<span style=\"color:blue;\">https://nissan-mexicana-sa-sb.us-1.celonis.cloud/</span></b>\n",
        "       <span style=\"color:green;\">OWZhMmEwNmYtNTRmZi00YjBkLWE3ZDEtMTA3MjczZjI0NjFhOlUrWDRNVU5SRGtiazZ4VVdYY3g5amkzc2l0bUhBUTZYbkFObHpXdFZWUEpR</span></li>\n",
        "    <li><b>Ofi-Sandbox:&nbsp;<span style=\"color:blue;\">https://ofi-partner-sandbox.us-1.celonis.cloud/</span></b>\n",
        "       <span style=\"color:green;\">ZTEzNTY1Y2MtMGNiMy00ZWNhLTllMDAtMDdlN2JjZDA4NzgwOjhCQWo4QVJ6OE9acjltWGxVcEY5Qk9Gb3g5LzhGSjNKc3NzU0h5OVdST3lI</span></li>\n",
        "    <li><b>La Fabril:<span style=\"color:blue;\">https://lafabril.us-2.celonis.cloud/</span></b>\n",
        "       <span style=\"color:green;\">NDFmZmM5MWItMmU2Zi00ZGUyLWEzNmItMmMwZTE4NmQ3OGQ3OjR4Z0w5MXJVdStnNThsenNLUTB5a21yVVVYOTRFak9GZ0xvSHhmT1FDb0FE</span></li>\n",
        "    <li><b>ProduBanco:<span style=\"color:blue;\">https://ofi-produbanco---cr-dito-hipotecario-c4c.us-1.celonis.cloud/</span></b>\n",
        "       <span style=\"color:green;\">NjAwNjlmMWUtYjI3My00OWMwLWE4MmQtY2MxYzM5ZmQ2MTdhOmc1UTdsVitaUUV6ZlV6UHlBZU1BQkxmaUtpNjFJNnptNzllbklhdUsveHJz</span></li>\n",
        "</ul>\n",
        "\n"
      ]
    },
    {
      "cell_type": "markdown",
      "source": [
        "# Librería que ayuda a poder instalar npm para content-cli\n",
        "# https://pixiedust.github.io/pixiedust/"
      ],
      "metadata": {
        "id": "xt3JJbo-RQkN"
      },
      "id": "xt3JJbo-RQkN"
    },
    {
      "cell_type": "code",
      "source": [
        "!pip install pixiedust\n",
        "!pip install pixiedust_node"
      ],
      "metadata": {
        "id": "a-cy6fAR1ft5"
      },
      "id": "a-cy6fAR1ft5",
      "execution_count": null,
      "outputs": []
    },
    {
      "cell_type": "markdown",
      "source": [
        "##Ahora ya se puede instalar \"content-cli\" con npm 🎇"
      ],
      "metadata": {
        "id": "8CJo4MP_RZxU"
      },
      "id": "8CJo4MP_RZxU"
    },
    {
      "cell_type": "code",
      "source": [
        "!npm install -g @celonis/content-cli"
      ],
      "metadata": {
        "id": "qRF3711z1O4j"
      },
      "id": "qRF3711z1O4j",
      "execution_count": null,
      "outputs": []
    },
    {
      "cell_type": "markdown",
      "id": "c4ff66ea",
      "metadata": {
        "id": "c4ff66ea"
      },
      "source": [
        "### Para ver la ayuda de la herramienta \"Content-cli\" en cualquier momento:"
      ]
    },
    {
      "cell_type": "code",
      "execution_count": null,
      "id": "16bd5d08",
      "metadata": {
        "id": "16bd5d08",
        "outputId": "020f4bb4-0585-4e55-cb47-64cace53f6f5",
        "colab": {
          "base_uri": "https://localhost:8080/"
        }
      },
      "outputs": [
        {
          "output_type": "stream",
          "name": "stdout",
          "text": [
            "Usage: content-cli-pull data-pool [options]\n",
            "\n",
            "Command to pull a data pool\n",
            "\n",
            "Options:\n",
            "  -p, --profile <profile>  Profile which you want to use to pull the data pool\n",
            "  --id <id>                Id of the data pool you want to pull\n",
            "  -h, --help               display help for command\n"
          ]
        }
      ],
      "source": [
        "!content-cli pull data-pool --help"
      ]
    },
    {
      "cell_type": "code",
      "execution_count": 4,
      "id": "94da0689",
      "metadata": {
        "id": "94da0689"
      },
      "outputs": [],
      "source": [
        "import os"
      ]
    },
    {
      "cell_type": "markdown",
      "id": "de5882e0",
      "metadata": {
        "id": "de5882e0"
      },
      "source": [
        "# Copiar Data-Pools\n",
        "### Definir la URL de origen y el Token:"
      ]
    },
    {
      "cell_type": "code",
      "execution_count": 5,
      "id": "af68e18a",
      "metadata": {
        "id": "af68e18a"
      },
      "outputs": [],
      "source": [
        "os.environ['TEAM_URL'] = 'https://empresas-cmpc.us-1.celonis.cloud/'\n",
        "os.environ['API_TOKEN'] = 'Nzg2YzMxOTQtNTlhYi00NWM3LWI4YWUtMmUzNzcwZDBiNDE1OlZXbUZzVTVjVkxTMzlPemszbS8rTzRacENVQWdxcFBpQWpKbmkvUlpUWVE4'"
      ]
    },
    {
      "cell_type": "code",
      "execution_count": 6,
      "id": "30530b1c",
      "metadata": {
        "id": "30530b1c",
        "outputId": "2214d104-5d28-4f73-f3c2-0d90b115ce93",
        "colab": {
          "base_uri": "https://localhost:8080/"
        }
      },
      "outputs": [
        {
          "output_type": "stream",
          "name": "stdout",
          "text": [
            "\u001b[32minfo\u001b[39m:    File downloaded successfully. New filename: data-pool_4ecb0a1b-7f14-458a-aa79-ed08746ad9db.json\n"
          ]
        }
      ],
      "source": [
        "!content-cli pull data-pool --id '4ecb0a1b-7f14-458a-aa79-ed08746ad9db'"
      ]
    },
    {
      "cell_type": "markdown",
      "id": "997ac7c8",
      "metadata": {
        "id": "997ac7c8"
      },
      "source": [
        "### Definir la URL de destino y el Token:"
      ]
    },
    {
      "cell_type": "code",
      "execution_count": null,
      "id": "969fe59f",
      "metadata": {
        "id": "969fe59f"
      },
      "outputs": [],
      "source": [
        "os.environ['TEAM_URL'] = 'https://empresas-cmpc-sb.us-1.celonis.cloud/'\n",
        "os.environ['API_TOKEN'] = 'MzZkM2U1NzgtNTA2My00ZDZiLWExZjktNDZlMTVjMzE0YWU4OlRaQzZsQ08ySjROSHJGTllpdmVDT3ZWaDFpQmQ5RmdMZXo2UVlKQkM4bVFn'"
      ]
    },
    {
      "cell_type": "code",
      "execution_count": null,
      "id": "e2904c83",
      "metadata": {
        "id": "e2904c83"
      },
      "outputs": [],
      "source": [
        "!content-cli push data-pool --file 'data-pool_4ecb0a1b-7f14-458a-aa79-ed08746ad9db.json'"
      ]
    },
    {
      "cell_type": "markdown",
      "id": "6f5f1686",
      "metadata": {
        "id": "6f5f1686"
      },
      "source": [
        "# Copiar Packages de Studio"
      ]
    },
    {
      "cell_type": "code",
      "execution_count": null,
      "id": "97fc4789",
      "metadata": {
        "id": "97fc4789"
      },
      "outputs": [],
      "source": [
        "!content-cli pull package --key 'an-lisis'"
      ]
    },
    {
      "cell_type": "code",
      "execution_count": null,
      "id": "fd7bd404",
      "metadata": {
        "id": "fd7bd404"
      },
      "outputs": [],
      "source": [
        "!content-cli push package --spaceKey 'a35cabe4-d28e-472e-9808-359c91786140' --file 'package_an-lisis.zip'"
      ]
    }
  ],
  "metadata": {
    "kernelspec": {
      "display_name": "Python 3 (ipykernel)",
      "language": "python",
      "name": "python3"
    },
    "language_info": {
      "codemirror_mode": {
        "name": "ipython",
        "version": 3
      },
      "file_extension": ".py",
      "mimetype": "text/x-python",
      "name": "python",
      "nbconvert_exporter": "python",
      "pygments_lexer": "ipython3",
      "version": "3.8.15"
    },
    "colab": {
      "provenance": [],
      "include_colab_link": true
    }
  },
  "nbformat": 4,
  "nbformat_minor": 5
}