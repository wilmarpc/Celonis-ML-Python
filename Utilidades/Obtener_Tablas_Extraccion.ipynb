{
  "nbformat": 4,
  "nbformat_minor": 0,
  "metadata": {
    "colab": {
      "provenance": [],
      "authorship_tag": "ABX9TyOkdrTddRXxdisJ11TFqahG",
      "include_colab_link": true
    },
    "kernelspec": {
      "name": "python3",
      "display_name": "Python 3"
    },
    "language_info": {
      "name": "python"
    }
  },
  "cells": [
    {
      "cell_type": "markdown",
      "metadata": {
        "id": "view-in-github",
        "colab_type": "text"
      },
      "source": [
        "<a href=\"https://colab.research.google.com/github/wilmarpc/Celonis-ML-Python/blob/main/Utilidades/Obtener_Tablas_Extraccion.ipynb\" target=\"_parent\"><img src=\"https://colab.research.google.com/assets/colab-badge.svg\" alt=\"Open In Colab\"/></a>"
      ]
    },
    {
      "cell_type": "code",
      "execution_count": null,
      "metadata": {
        "id": "31Sr62Y0JLLh"
      },
      "outputs": [],
      "source": [
        "!pip install --extra-index-url=https://pypi.celonis.cloud/ pycelonis\n",
        "import pycelonis\n",
        "url = \"https://empresas-cmpc.us-1.celonis.cloud/\"\n",
        "# Application Key:\n",
        "api_token = \"MTlkYzJhZmEtNDc5Mi00YTM3LTg5MjEtNTY0YjhkMDA1YzFjOnJQSExxT0RzWENoUm5ITEJwV2FZcmVjOGNnbDF0NDM4d1lWa1FTc3ZsYTdT\"\n",
        "key_type = \"APP_KEY\"\n",
        "\n",
        "from pycelonis import get_celonis\n",
        "celonis = get_celonis(base_url=url, api_token=api_token, key_type=key_type)\n",
        "\n",
        "import pandas as pd\n",
        "from pycelonis.pql import PQL, PQLColumn, PQLFilter, OrderByColumn\n",
        "\n",
        "import os\n",
        "from pycelonis.ems import ExportType\n",
        "\n",
        "# !pip install gocept.pseudonymize\n",
        "#import gocept.pseudonymize\n",
        "#gocept.pseudonymize.name('Vimladil', 'secret')\n",
        "#gocept.pseudonymize.email('mail@gocept.com', 'secret')"
      ]
    },
    {
      "cell_type": "code",
      "source": [
        "data_pool_id = \"49899c1e-b116-40c2-8c81-7ab8009f0c6c\"\n",
        "data_pool = celonis.data_integration.get_data_pool(data_pool_id)\n",
        "data_pool"
      ],
      "metadata": {
        "colab": {
          "base_uri": "https://localhost:8080/"
        },
        "id": "sCoXjna8NP2U",
        "outputId": "97eabf18-a8fa-48e0-dc64-5d90c55af417"
      },
      "execution_count": 2,
      "outputs": [
        {
          "output_type": "execute_result",
          "data": {
            "text/plain": [
              "DataPool(id='49899c1e-b116-40c2-8c81-7ab8009f0c6c', name='SAP ECC - Accounts Receivable')"
            ]
          },
          "metadata": {},
          "execution_count": 2
        }
      ]
    },
    {
      "cell_type": "code",
      "source": [
        "data_model = data_pool.get_data_model(\"03cd113f-5e9e-415d-b112-870dc5838f4c\")\n",
        "data_model"
      ],
      "metadata": {
        "colab": {
          "base_uri": "https://localhost:8080/"
        },
        "id": "5gy-MaFbNbPN",
        "outputId": "d87eafff-fe14-4951-e44f-6a5db1fbd9b6"
      },
      "execution_count": 3,
      "outputs": [
        {
          "output_type": "execute_result",
          "data": {
            "text/plain": [
              "DataModel(id='03cd113f-5e9e-415d-b112-870dc5838f4c', name='SAP ECC - Accounts Receivable Data Model (columns reduction)', pool_id='49899c1e-b116-40c2-8c81-7ab8009f0c6c')"
            ]
          },
          "metadata": {},
          "execution_count": 3
        }
      ]
    },
    {
      "cell_type": "markdown",
      "source": [
        "\"\"\"\n",
        "source_data_job = source_data_pool.data_jobs.find(\"Name or ID of the source data job.\")\n",
        "source_extraction = source_data_job.extractions.ids['ID of the source extraction task.']\n",
        "https://empresas-cmpc.us-1.celonis.cloud/integration/ui/\n",
        "pools/7edb34cd-1802-4a1c-9ee8-53acf70f3485/data-configuration/\n",
        "data-jobs/e183e9d5-390a-4127-b644-9a28506d3ff1/\n",
        "extractions/e24489cb-bc5d-42b8-a032-be607f822e79\n",
        "tableId=244736e1-e205-4632-b405-ea416aa3b23e&tab=extraction\n",
        "\n",
        "id='e183e9d5-390a-4127-b644-9a28506d3ff1' name='SAP ECC - VIM Connection' data_pool_id='7edb34cd-1802-4a1c-9ee8-53acf70f3485' data_source_id='059dd70f-de9b-41e7-bb52-5068a97b47b5' time_stamp=datetime.datetime(2022, 12, 13, 16, 31, 24, 557000, tzinfo=datetime.timezone.utc) status=<ExecutionStatus.SUCCESS: 'SUCCESS'> current_execution_id=None dag_based_execution_enabled=True latest_execution_item_id='cf1c7d95-c698-42f3-aff3-af414300d628' client=<pycelonis_core.client.client.Client object at 0x7ff27154fdc0>\n",
        "[\n",
        "\tExtraction(id='e24489cb-bc5d-42b8-a032-be607f822e79', pool_id='7edb34cd-1802-4a1c-9ee8-53acf70f3485', task_id='e91bf75b-ea2e-4bfa-9ebe-816125f2829d', task_type=<TaskType.EXTRACTION: 'EXTRACTION'>, name='Extraction: VIM Connection', job_id='e183e9d5-390a-4127-b644-9a28506d3ff1', disabled=False)\n",
        "]\n",
        "source_data_connection = data_pool.get_data_connection(\"059dd70f-de9b-41e7-bb52-5068a97b47b5\")\n",
        "\n",
        "source_data_job = data_pool.get_job(\"e183e9d5-390a-4127-b644-9a28506d3ff1\")\n",
        "source_extraction = source_data_job.get_task('e91bf75b-ea2e-4bfa-9ebe-816125f2829d').\n",
        "\n",
        "print(source_data_job)\n",
        "print(source_extraction)\n",
        "\"\"\""
      ],
      "metadata": {
        "id": "p5_G5GmdE9zc"
      }
    },
    {
      "cell_type": "code",
      "source": [
        "def extract_table_from_data_pool(\n",
        "    celonis_object: pycelonis.celonis.Celonis,\n",
        "    data_pool: pycelonis.ems.data_integration.data_pool.DataPool,\n",
        "    data_model: pycelonis.ems.data_integration.data_model.DataModel,\n",
        "    table: pycelonis.ems.data_integration.data_pool_table.DataPoolTable\n",
        "    #table: pycelonis.ems.data_integration.data_model.DataModelTable\n",
        "    ) -> pd.DataFrame:\n",
        "\n",
        "    \"\"\"This function creates the PQL query to extract a whole\n",
        "    table from a data model. If the table is too big, the kernel might\n",
        "    shut down, make sure the RAM memory is enough.\n",
        "\n",
        "        Input:\n",
        "            celonis_object: Celonis object already instantiated\n",
        "            data_pool: Data Pool object already instantiated\n",
        "            data_model: Data Model object already instantiated\n",
        "            table: Table object already instantiated\n",
        "\n",
        "        Returns:\n",
        "            df: DataFrame containing the target table.\n",
        "    \"\"\"\n",
        "\n",
        "    # Instantiate query object\n",
        "    query = PQL(distinct=False, limit=None, offset=None)\n",
        "     \n",
        "    tabla = table.alias if str(table.alias) != 'None' else table.name\n",
        "\n",
        "    # Populate query with all the columns from the table\n",
        "    for PQL_column in table.get_columns():\n",
        "      if PQL_column.name != '_CELONIS_CHANGE_DATE':\n",
        "        if ((table.name == '/OPT/VIM_1HEAD' and PQL_column.name == 'ARCHIVE_USER') or\n",
        "           (table.name == '/OPT/VIM_1LOG' and PQL_column.name == 'ACTUAL_AGENT') or\n",
        "           (table.name == '/ORS/APPR_LOG' and PQL_column.name == 'ACTUAL_APPR') or\n",
        "           (table.name == 'BKPF' and PQL_column.name == 'USNAM') or\n",
        "           (table.name == 'AR_BKPF' and PQL_column.name == 'USNAM') or\n",
        "           (table.name == 'AR_BKPF_CLEARING' and PQL_column.name == 'USNAM') or\n",
        "           (table.name == 'JCDS' and PQL_column.name == 'USNAM') or\n",
        "           (table.name == 'MKPF' and PQL_column.name == 'USNAM') or\n",
        "           (table.name == 'NAST' and PQL_column.name == 'USNAM') or\n",
        "           (table.name == 'CDHDR' and PQL_column.name == 'USERNAME') or\n",
        "           (table.name == 'LFA1' and PQL_column.name == 'NAME1') or\n",
        "           (table.name == 'KNA1' and PQL_column.name == 'NAME1') or\n",
        "           (table.name == 'T001W' and PQL_column.name == 'NAME1') or\n",
        "           (table.name == 'ADR6' and PQL_column.name == 'SMTP_ADDR') or\n",
        "           (table.name == 'BKPF_BSAK' and PQL_column.name == 'USNAM') or\n",
        "           (table.name == 'BKPF_BSIK' and PQL_column.name == 'USNAM') or\n",
        "           (table.name == 'EKBE' and PQL_column.name == 'ERNAM') or\n",
        "           (table.name == 'EKKO' and PQL_column.name == 'ERNAM') or\n",
        "           (table.name == 'LIKP' and PQL_column.name == 'ERNAM') or\n",
        "           (table.name == 'LIPS' and PQL_column.name == 'ERNAM') or\n",
        "           (table.name == 'VBAK' and PQL_column.name == 'ERNAM') or\n",
        "           (table.name == 'VBAP' and PQL_column.name == 'ERNAM') or\n",
        "           (table.name == 'VBRP' and PQL_column.name == 'ERNAM') or\n",
        "           (table.name == 'VTTK' and PQL_column.name == 'ERNAM') or\n",
        "           (table.name == 'VTTP' and PQL_column.name == 'ERNAM') or\n",
        "           (table.name == 'RBKP' and PQL_column.name == 'USNAM') or\n",
        "           (table.name == 'T024' and PQL_column.name == 'SMTP_ADDR') or\n",
        "           (table.name == 'T014T' and PQL_column.name == 'KKBTX') or\n",
        "           (table.name == 'TVSTT' and PQL_column.name == 'VTEXT') or\n",
        "           (table.name == '_CEL_O2C_ACTIVITIES' and PQL_column.name == 'USER_NAME') or\n",
        "           (table.name == 'O2C_KNA1' and PQL_column.name == 'NAME1') or\n",
        "           (table.name == 'O2C_LIPS' and PQL_column.name == 'ERNAM') or\n",
        "           (table.name == 'O2C_NAST' and PQL_column.name == 'USNAM') or\n",
        "           (table.name == 'O2C_VBAK' and PQL_column.name == 'ERNAM') or\n",
        "           (table.name == 'O2C_VBAK' and PQL_column.name == 'VKORG_TEXT') or\n",
        "           (table.name == 'O2C_VBAK' and PQL_column.name == 'KKBER_TEXT') or\n",
        "           (table.name == 'O2C_VBAK' and PQL_column.name == 'BUKRS_TEXT') or\n",
        "           (table.name == 'AR_BKPF' and PQL_column.name == 'BUKRS_TEXT') or\n",
        "           (table.name == 'AR_BSEG' and PQL_column.name == 'BUKRS_TEXT') or\n",
        "           (table.name == 'AR_BSEG_CLEARING' and PQL_column.name == 'BUKRS_TEXT') or\n",
        "           (table.name == 'AR_BSEG_CLEARING' and PQL_column.name == 'VNAME') or\n",
        "           (table.name == 'AR_BKPF_CLEARING' and PQL_column.name == 'BUKRS_TEXT') or\n",
        "           (table.name == 'O2C_VBAP' and PQL_column.name == 'ARKTX') or\n",
        "           (table.name == 'O2C_VBAP' and PQL_column.name == 'ERNAM') or\n",
        "           (table.name == 'O2C_VBAP' and PQL_column.name == 'MATKL_TEXT') or\n",
        "           (table.name == 'O2C_VBAP' and PQL_column.name == 'WERKS_TEXT') or\n",
        "           (table.name == 'O2C_VBAP' and PQL_column.name == 'LTEXT') or\n",
        "           (table.name == 'O2C_VBRP' and PQL_column.name == 'ERNAM') or\n",
        "           (table.name == 'V_P2P_O2C' and PQL_column.name == 'CLIEN') or\n",
        "           (table.name == 'V_P2P_O2C' and PQL_column.name == 'PROVE') or\n",
        "           (table.name == 'V_VTTP' and PQL_column.name == 'ERNAM') or\n",
        "           (table.name == 'P2P_EKBE' and PQL_column.name == 'ERNAM') or\n",
        "           (table.name == 'P2P_EKKO' and PQL_column.name == 'ERNAM') or\n",
        "           (table.name == 'P2P_EKKO' and PQL_column.name == 'BUKRS_TEXT') or\n",
        "           (table.name == 'P2P_EBAN' and PQL_column.name == 'ERNAM') or\n",
        "           (table.name == 'P2P_EINE' and PQL_column.name == 'EKORG_TEXT') or\n",
        "           (table.name == 'P2P_EINE' and PQL_column.name == 'EKGRP_TEXT') or\n",
        "           (table.name == 'P2P_QALS' and PQL_column.name == 'ERSTELLER') or\n",
        "           (table.name == 'AR_BSEG' and PQL_column.name == 'VNAME') or\n",
        "           (table.name == 'P2P_QAVE' and PQL_column.name == 'VNAME') or\n",
        "           (table.name == 'P2P_NAST' and PQL_column.name == 'USNAM') or\n",
        "           (table.name == 'P2P_BKPF' and PQL_column.name == 'USNAM') or\n",
        "           (table.name == 'P2P_CONTRACT_INFO' and PQL_column.name == 'NAME1') or\n",
        "           (table.name == 'P2P_CONTRACT_INFO' and PQL_column.name == 'EKORG_TEXT') or\n",
        "           (table.name == 'AR_KNA1' and PQL_column.name == 'NAME1') or\n",
        "           (table.name == 'P2P_LFA1' and PQL_column.name == 'NAME1') or\n",
        "           (table.name == 'P2P_EKPO' and PQL_column.name == 'BUKRS_TEXT\t') or\n",
        "           (table.name == 'P2P_EKPO' and PQL_column.name == 'WERKS_TEXT') or\n",
        "           (table.name == '_CEL_P2P_ACTIVITIES' and PQL_column.name == 'USER_NAME') or\n",
        "           (table.name == '_CEL_AR_ACTIVITIES' and PQL_column.name == 'USER_NAME') or\n",
        "           (table.name == '' and PQL_column.name == '') or\n",
        "           (table.name == 'USR21' and PQL_column.name == 'BNAME') or\n",
        "           (table.name == 'T001' and PQL_column.name == 'BUTXT') or\n",
        "           (table.name == 'USR02' and PQL_column.name == 'BNAME')):\n",
        "          consulta = f\"\"\" STRINGHASH(\"{tabla}\".\"{PQL_column.name}\") \"\"\"\n",
        "        else:\n",
        "          consulta = f\"\"\" \"{tabla}\".\"{PQL_column.name}\" \"\"\"\n",
        "        \n",
        "        query += PQLColumn(name=PQL_column.name, query=consulta)\n",
        "\n",
        "        if (table.name == '/OPT/VIM_1HEAD' or\n",
        "            table.name == '/OPT/VIM_1ITEM' or\n",
        "            table.name == '/OPT/VIM_1LOG'):\n",
        "          orden = f\"\"\" \"{tabla}\".\"DOCID\" \"\"\"\n",
        "        elif (table.name == 'BKPF_BSAK' or table.name == 'BKPF_BSIK'):\n",
        "          orden = f\"\"\" \"{tabla}\".\"BUDAT\" \"\"\"\n",
        "        elif table.name == 'EKBE':\n",
        "          orden = f\"\"\" \"{tabla}\".\"CPUDT\" \"\"\"\n",
        "        elif table.name == 'BKPF':\n",
        "          orden = f\"\"\" \"{tabla}\".\"BLDAT\" \"\"\"\n",
        "        elif table.name == 'BSEG':\n",
        "          orden = f\"\"\" \"{tabla}\".\"AUGDT\" \"\"\"\n",
        "        elif table.name == 'RSEG':\n",
        "          orden = f\"\"\" \"{tabla}\".\"BELNR\" \"\"\"\n",
        "        elif (table.name == 'CDHDR' or\n",
        "              table.name == 'CDPOS'):\n",
        "          orden = f\"\"\" \"{tabla}\".\"CHANGENR\" \"\"\"\n",
        "        else:\n",
        "          orden = None\n",
        "\n",
        "    if orden is not None:\n",
        "      query += OrderByColumn(query=orden, ascending=False)\n",
        "\n",
        "    #print(query)\n",
        "\n",
        "    try:\n",
        "        # If you have USE permissions on the data model this method can be used\n",
        "        df = DataModel.export_data_frame_from(\n",
        "                                     celonis_object.client,\n",
        "                                     pool_id=data_model.pool_id,\n",
        "                                     data_model_id=data_model.id,\n",
        "                                     query=query)\n",
        "        print(\"You have use permissions\")\n",
        "    except:\n",
        "        # Should work if you don't have USE permissions\n",
        "        df = data_model.export_data_frame(query)\n",
        "        print(\"You might not have USE permissions\")\n",
        "        data_export = data_model.create_data_export(query=query, export_type=ExportType.CSV)\n",
        "        data_export.wait_for_execution()\n",
        "        chunks = data_export.get_chunks()\n",
        "        for chunk in chunks:\n",
        "          with open(f\"{table.name}.csv\", \"wb\") as f:\n",
        "            f.write(chunk.read())\n",
        "    return df"
      ],
      "metadata": {
        "id": "Dj9NekkiJNY8"
      },
      "execution_count": 8,
      "outputs": []
    },
    {
      "cell_type": "code",
      "source": [
        "for table in data_model.get_tables():\n",
        "  print(table.name+' '+table.id)\n",
        "  if (table.name == 'AR_KNA1'):\n",
        "    tabla = table\n",
        "    print(\"tabla: \" + tabla.id)\n",
        "    result_df = extract_table_from_data_pool(celonis, data_pool, data_model, tabla)   "
      ],
      "metadata": {
        "id": "B7Yx7mZpRJLn"
      },
      "execution_count": null,
      "outputs": []
    },
    {
      "cell_type": "code",
      "source": [
        "tg_url = \"https://ofi-partner-sandbox.us-1.celonis.cloud/\"\n",
        "# Application Key:\n",
        "tg_api_token = \"ZThlZjQ3ODMtMjRmMC00OTU5LWJjMjgtZDQ0YTNlMTJiMGE4OlhUUmFKYUxrdjdxcEowSU5OeFh1czhaeXRvMUUrd08wQWoreG5jMmlDeEhI\"\n",
        "tg_key_type = \"APP_KEY\"\n",
        "\n",
        "tg_celonis = get_celonis(base_url=tg_url, api_token=tg_api_token, key_type=tg_key_type)\n",
        "\n",
        "tg_data_pool_id = \"0113fe2e-1535-4979-8545-d50af81bc819\"\n",
        "tg_data_pool = tg_celonis.data_integration.get_data_pool(tg_data_pool_id)\n",
        "tg_data_pool\n",
        "\n",
        "tg_data_model = tg_data_pool.get_data_model(\"d5a7d7f4-aef7-4e08-bc4b-4ac209406fef\")\n",
        "tg_data_model\n",
        "\n",
        "#tg_data_connection = tg_data_pool.get_data_connection(\"6e4a60b0-70f5-406c-8846-778d2e61bc0f\")\n",
        "\n",
        "for table in data_model.get_tables():\n",
        "  if (table.name != '_CEL_VIM_ACTIVITIES' and table.name != 'VIM_/OPT/VIM_1ITEM'\n",
        "      and table.name != 'VBAK' and table.name != 'O2C_VBAK' and table.name != '_CEL_P2P_ACTIVITIES'\n",
        "      and table.name != '_CEL_AR_ACTIVITIES' and table.name != 'AR_BSEG_CLEARING'\n",
        "      #and table.name != 'RSEG' and table.name != 'VBPA' and table.name != 'BSAD'\n",
        "      #and table.name != 'NAST'\n",
        "      ):\n",
        "    print(\"... Procesando ... : \" + table.name + \"   ALIAS: \" + str(table.alias))\n",
        "    if str(table.alias) != 'None':\n",
        "      print(\"******** ALIAS ******** : \" + str(table.alias))\n",
        "    #tg_table = tg_data_model.get_tables().find(table.name)\n",
        "    tg_table = tg_data_pool.get_tables().find(table.name)\n",
        "    \n",
        "    try:\n",
        "      result_df = extract_table_from_data_pool(celonis, data_pool, data_model, table)      \n",
        "      #tg_data_pool.create_table(df=result_df, table_name=table.name, drop_if_exists=True, force=True, data_source_id=tg_data_connection.id)\n",
        "    except:\n",
        "      result_df = pd.read_csv(f\"{table.name}.csv\")\n",
        "      #tg_data_pool.create_table(df=result_df, table_name=table.name, drop_if_exists=True, force=True, data_source_id=tg_data_connection.id)\n",
        "\n",
        "    tg_table.append(result_df)\n",
        "    result_df.head()\n",
        "    result_df = pd.DataFrame(None)\n",
        "    del result_df\n",
        "    #os.remove(f\"{table.name}.csv\")"
      ],
      "metadata": {
        "id": "AR_OH-wGQDsu"
      },
      "execution_count": null,
      "outputs": []
    },
    {
      "cell_type": "markdown",
      "source": [
        "# PARA PROPÓSITOS DE TESTEO DEL PQL GENERADO"
      ],
      "metadata": {
        "id": "LcR7i2Y5SkKM"
      }
    },
    {
      "cell_type": "code",
      "source": [
        "from pycelonis.ems import ColumnTransport, ColumnType\n",
        "column_config = [\n",
        "    ColumnTransport(column_name=\"MANDT\", column_type=ColumnType.STRING, field_length=12),\n",
        "    ColumnTransport(column_name=\"VBELN\", column_type=ColumnType.STRING, field_length=40),\n",
        "    ColumnTransport(column_name=\"POSNR\", column_type=ColumnType.STRING, field_length=24),\n",
        "    ColumnTransport(column_name=\"PARVW\", column_type=ColumnType.STRING, field_length=8),\n",
        "    ColumnTransport(column_name=\"KUNNR\", column_type=ColumnType.STRING, field_length=40),\n",
        "    ColumnTransport(column_name=\"LIFNR\", column_type=ColumnType.STRING, field_length=40),\n",
        "    ColumnTransport(column_name=\"PERNR\", column_type=ColumnType.STRING, field_length=32),\n",
        "    ColumnTransport(column_name=\"PARNR\", column_type=ColumnType.STRING, field_length=40),\n",
        "    ColumnTransport(column_name=\"ADRNR\", column_type=ColumnType.STRING, field_length=40),\n",
        "    ColumnTransport(column_name=\"ABLAD\", column_type=ColumnType.STRING, field_length=100),\n",
        "    ColumnTransport(column_name=\"XCPDK\", column_type=ColumnType.STRING, field_length=4),\n",
        "    ColumnTransport(column_name=\"HITYP\", column_type=ColumnType.STRING, field_length=4),\n",
        "    ColumnTransport(column_name=\"KNREF\", column_type=ColumnType.STRING, field_length=120)\n",
        "]"
      ],
      "metadata": {
        "id": "OjnCr1jw7nkr"
      },
      "execution_count": null,
      "outputs": []
    },
    {
      "cell_type": "code",
      "source": [
        "result_df = pd.read_csv(\"VBPA.csv\", dtype={'MANDT':'str','VBELN':'str','POSNR':'str','PARVW':'str','KUNNR':'str','LIFNR':'str','PERNR':'str','PARNR':'str','ADRNR':'str','ABLAD':'str','XCPDK':'str','HITYP':'str','KNREF':'str'})\n",
        "tg_data_pool.create_table(df=result_df, table_name=table.name, drop_if_exists=True, column_config=column_config, force=True, data_source_id=tg_data_connection.id)"
      ],
      "metadata": {
        "id": "vgpMKGCJxynW"
      },
      "execution_count": null,
      "outputs": []
    },
    {
      "cell_type": "code",
      "source": [
        "#for table in data_model.get_tables():\n",
        "#  print(table.name+' '+table.id)\n",
        "table = data_model.get_table('132ba637-a897-4684-a681-ccbca8e67467') # VBPA\n",
        "result_df = extract_table_from_data_pool(celonis, data_pool, data_model, table)\n",
        "tg_data_pool.create_table(df=result_df, table_name=table.name, drop_if_exists=True, force=True, column_config=column_config, data_source_id=tg_data_connection.id)"
      ],
      "metadata": {
        "id": "D9B93BvOQSCx"
      },
      "execution_count": null,
      "outputs": []
    },
    {
      "cell_type": "code",
      "source": [
        "for table in data_model.get_tables():\n",
        "  if (table.name != '_CEL_VIM_ACTIVITIES' and table.name != 'VIM_/OPT/VIM_1ITEM'):\n",
        "    print(\"... Procesando ... : \" + table.name)\n",
        "    result_df = extract_table_from_data_pool(celonis, data_pool, data_model, table)\n",
        "    result_df = pd.DataFrame(None)\n",
        "    del result_df"
      ],
      "metadata": {
        "id": "3rud5q1lEivy"
      },
      "execution_count": null,
      "outputs": []
    }
  ]
}