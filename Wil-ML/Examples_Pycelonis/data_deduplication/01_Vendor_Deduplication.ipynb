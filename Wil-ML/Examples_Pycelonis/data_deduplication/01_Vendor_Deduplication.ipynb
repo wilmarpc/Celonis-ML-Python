{
 "cells": [
  {
   "cell_type": "markdown",
   "metadata": {},
   "source": [
    "# Use Case: Vendor Deduplication\n",
    "This notebook shows you how you can use the Celonis Duplicate Checker to clean your Vendor (or Customer) master table."
   ]
  },
  {
   "cell_type": "code",
   "execution_count": 1,
   "metadata": {},
   "outputs": [],
   "source": [
    "import pandas as pd\n",
    "import numpy as np\n",
    "from pycelonis.data_deduplication.duplicate_checker import DuplicateChecker\n",
    "from pycelonis import get_celonis\n",
    "from pycelonis import pql"
   ]
  },
  {
   "cell_type": "markdown",
   "metadata": {},
   "source": [
    "**0. Connect to Celonis**"
   ]
  },
  {
   "cell_type": "code",
   "execution_count": 3,
   "metadata": {},
   "outputs": [
    {
     "name": "stdout",
     "output_type": "stream",
     "text": [
      "2021-02-01 08:27:04 - pycelonis: Login successful! Hello SimonBrand\n"
     ]
    }
   ],
   "source": [
    "celonis = get_celonis()"
   ]
  },
  {
   "cell_type": "markdown",
   "metadata": {},
   "source": [
    "**1. Connect to Data Model**"
   ]
  },
  {
   "cell_type": "code",
   "execution_count": 4,
   "metadata": {},
   "outputs": [
    {
     "data": {
      "text/plain": [
       "'SAP ECC - Purchase to Pay Data Model'"
      ]
     },
     "execution_count": 4,
     "metadata": {},
     "output_type": "execute_result"
    }
   ],
   "source": [
    "datamodel_id = \"3f6ef2f6-6635-49de-aa8c-7090188bb78b\" # edit\n",
    "datamodel = celonis.datamodels.find(datamodel_id) # do not edit this line\n",
    "datamodel.name                                    # do not edit this line"
   ]
  },
  {
   "cell_type": "markdown",
   "metadata": {},
   "source": [
    "**2. Define Vendor Id and Vendor Text fields**\n",
    "\n",
    "In order to deduplicate your vendor we recommend to use the vendor text field. In addition you need to provide the field that are the unique identity of each entry of the vendor table."
   ]
  },
  {
   "cell_type": "code",
   "execution_count": 8,
   "metadata": {},
   "outputs": [
    {
     "name": "stdout",
     "output_type": "stream",
     "text": [
      "(1953, 4)\n"
     ]
    },
    {
     "data": {
      "text/html": [
       "<div>\n",
       "<style scoped>\n",
       "    .dataframe tbody tr th:only-of-type {\n",
       "        vertical-align: middle;\n",
       "    }\n",
       "\n",
       "    .dataframe tbody tr th {\n",
       "        vertical-align: top;\n",
       "    }\n",
       "\n",
       "    .dataframe thead th {\n",
       "        text-align: right;\n",
       "    }\n",
       "</style>\n",
       "<table border=\"1\" class=\"dataframe\">\n",
       "  <thead>\n",
       "    <tr style=\"text-align: right;\">\n",
       "      <th></th>\n",
       "      <th>MANDT</th>\n",
       "      <th>LIFNR</th>\n",
       "      <th>NAME1</th>\n",
       "      <th>STRAS</th>\n",
       "    </tr>\n",
       "  </thead>\n",
       "  <tbody>\n",
       "    <tr>\n",
       "      <th>0</th>\n",
       "      <td>800</td>\n",
       "      <td>T-K500R22</td>\n",
       "      <td>AluCast AG&amp;Co.KG Gr.22</td>\n",
       "      <td>Liebigstrasse 34</td>\n",
       "    </tr>\n",
       "    <tr>\n",
       "      <th>1</th>\n",
       "      <td>800</td>\n",
       "      <td>T-K515A02</td>\n",
       "      <td>Sapsota Company Limited</td>\n",
       "      <td>Industriepark 48</td>\n",
       "    </tr>\n",
       "    <tr>\n",
       "      <th>2</th>\n",
       "      <td>800</td>\n",
       "      <td>T-K515A04</td>\n",
       "      <td>Sapsota Company Limited</td>\n",
       "      <td>Industriepark 48</td>\n",
       "    </tr>\n",
       "    <tr>\n",
       "      <th>3</th>\n",
       "      <td>800</td>\n",
       "      <td>T-K515A12</td>\n",
       "      <td>Sapsota Company Limited</td>\n",
       "      <td>Industriepark 48</td>\n",
       "    </tr>\n",
       "    <tr>\n",
       "      <th>4</th>\n",
       "      <td>800</td>\n",
       "      <td>T-K515A13</td>\n",
       "      <td>Sapsota Company Limited</td>\n",
       "      <td>Industriepark 48</td>\n",
       "    </tr>\n",
       "  </tbody>\n",
       "</table>\n",
       "</div>"
      ],
      "text/plain": [
       "  MANDT      LIFNR                    NAME1             STRAS\n",
       "0   800  T-K500R22   AluCast AG&Co.KG Gr.22  Liebigstrasse 34\n",
       "1   800  T-K515A02  Sapsota Company Limited  Industriepark 48\n",
       "2   800  T-K515A04  Sapsota Company Limited  Industriepark 48\n",
       "3   800  T-K515A12  Sapsota Company Limited  Industriepark 48\n",
       "4   800  T-K515A13  Sapsota Company Limited  Industriepark 48"
      ]
     },
     "execution_count": 8,
     "metadata": {},
     "output_type": "execute_result"
    }
   ],
   "source": [
    "query = pql.PQL()\n",
    "query += pql.PQLColumn(\"LFA1.MANDT\", \"MANDT\")\n",
    "query += pql.PQLColumn(\"LFA1.LIFNR\", \"LIFNR\")\n",
    "query += pql.PQLColumn(\"LFA1.NAME1\", \"NAME1\")\n",
    "query += pql.PQLColumn(\"LFA1.STRAS\", \"STRAS\")\n",
    "df = datamodel.get_data_frame(query)\n",
    "print(df.shape)\n",
    "df.head()"
   ]
  },
  {
   "cell_type": "markdown",
   "metadata": {},
   "source": [
    "**Define the fields which unique identify each row of the table**"
   ]
  },
  {
   "cell_type": "code",
   "execution_count": 9,
   "metadata": {},
   "outputs": [],
   "source": [
    "unique_id_columns=[\"MANDT\",\"LIFNR\"]"
   ]
  },
  {
   "cell_type": "markdown",
   "metadata": {},
   "source": [
    "**3. Define the Search Pattern**\n",
    "\n",
    "For Vendor deduplication we recommend the CompanyNameComparer comparison algorithm. Via the threshold you can steer how similar two entities need to be in order to be matched (0 = no similarity, 1 = identical)"
   ]
  },
  {
   "cell_type": "code",
   "execution_count": 16,
   "metadata": {},
   "outputs": [],
   "source": [
    "\n",
    "# Fuzzy matching algorithm\n",
    "threshold = 0.9 # Floar 0 - 1\n",
    "\n",
    "search_pattern = {\n",
    "    \"fuzzy\":{\n",
    "        \"NAME1\": (\"comparers.CompanyNameComparer(column, column,label=column,\"\n",
    "                  f\"threshold={str(threshold)},method='jarowinkler')\"),\n",
    "        #\"STRAS\" : \"exact\", # Optionally take into consideration also the adress\n",
    "    }\n",
    "} \n"
   ]
  },
  {
   "cell_type": "code",
   "execution_count": null,
   "metadata": {},
   "outputs": [],
   "source": []
  },
  {
   "cell_type": "markdown",
   "metadata": {},
   "source": [
    "**4. Set Max Chunk Size**\n",
    "\n",
    "Adjust chunk size to the size of you workbench. If you are using a standard workbench you should not go over 500. A lower threshold makes it a little slower but uses less RAM. "
   ]
  },
  {
   "cell_type": "code",
   "execution_count": 17,
   "metadata": {},
   "outputs": [],
   "source": [
    "max_chunk_size=500 # adjust chunk size to the size of you workbench"
   ]
  },
  {
   "cell_type": "markdown",
   "metadata": {},
   "source": [
    "**5. Run Duplicate Checker**"
   ]
  },
  {
   "cell_type": "code",
   "execution_count": 18,
   "metadata": {
    "tags": []
   },
   "outputs": [
    {
     "name": "stdout",
     "output_type": "stream",
     "text": [
      "2021-02-01 08:53:20 - Celonis Duplicate Checker: Preprocessing DataFrame\n",
      "WARNING:recordlinkage:indexing - performance warning - A full index can result in large number of record pairs.\n",
      "WARNING:recordlinkage:indexing - performance warning - A full index can result in large number of record pairs.\n",
      "2021-02-01 08:53:21 - Celonis Duplicate Checker: Searching for fuzzy matches ...\n",
      "100%|██████████| 27/27 [00:07<00:00,  3.62it/s]\n"
     ]
    }
   ],
   "source": [
    "dc = DuplicateChecker(max_chunk_size=max_chunk_size) \n",
    "res = dc.apply(df, unique_id_columns=[\"MANDT\",\"LIFNR\"],search_patterns=search_pattern,fast_mode=True)\n",
    "# CREATE UNIQUE MATERIAL TEXT\n",
    "res = res.merge(res.groupby(\"GROUP_ID\")[\"NAME1\"].max().reset_index().rename(columns={\"NAME1\":\"REAL_NAME\"}),on=\"GROUP_ID\",how=\"left\")"
   ]
  },
  {
   "cell_type": "markdown",
   "metadata": {},
   "source": [
    "**6. Inspect Results**"
   ]
  },
  {
   "cell_type": "code",
   "execution_count": 19,
   "metadata": {},
   "outputs": [],
   "source": [
    "pd.set_option('display.max_rows', 200)  "
   ]
  },
  {
   "cell_type": "code",
   "execution_count": 20,
   "metadata": {
    "scrolled": true
   },
   "outputs": [
    {
     "data": {
      "text/html": [
       "<div>\n",
       "<style scoped>\n",
       "    .dataframe tbody tr th:only-of-type {\n",
       "        vertical-align: middle;\n",
       "    }\n",
       "\n",
       "    .dataframe tbody tr th {\n",
       "        vertical-align: top;\n",
       "    }\n",
       "\n",
       "    .dataframe thead th {\n",
       "        text-align: right;\n",
       "    }\n",
       "</style>\n",
       "<table border=\"1\" class=\"dataframe\">\n",
       "  <thead>\n",
       "    <tr style=\"text-align: right;\">\n",
       "      <th></th>\n",
       "      <th>GROUP_ID</th>\n",
       "      <th>MANDT</th>\n",
       "      <th>LIFNR</th>\n",
       "      <th>NAME1</th>\n",
       "      <th>STRAS</th>\n",
       "      <th>PATTERN</th>\n",
       "      <th>REAL_NAME</th>\n",
       "    </tr>\n",
       "  </thead>\n",
       "  <tbody>\n",
       "    <tr>\n",
       "      <th>0</th>\n",
       "      <td>IDs:(800-0000000004,800-0000000030)</td>\n",
       "      <td>800</td>\n",
       "      <td>0000000004</td>\n",
       "      <td>omar</td>\n",
       "      <td></td>\n",
       "      <td>NAME1</td>\n",
       "      <td>omar2</td>\n",
       "    </tr>\n",
       "    <tr>\n",
       "      <th>1</th>\n",
       "      <td>IDs:(800-0000000004,800-0000000030)</td>\n",
       "      <td>800</td>\n",
       "      <td>0000000030</td>\n",
       "      <td>omar2</td>\n",
       "      <td></td>\n",
       "      <td>NAME1</td>\n",
       "      <td>omar2</td>\n",
       "    </tr>\n",
       "    <tr>\n",
       "      <th>2</th>\n",
       "      <td>IDs:(800-0000000007,800-0000000032)</td>\n",
       "      <td>800</td>\n",
       "      <td>0000000032</td>\n",
       "      <td>isaac</td>\n",
       "      <td></td>\n",
       "      <td>NAME1</td>\n",
       "      <td>isaac1</td>\n",
       "    </tr>\n",
       "    <tr>\n",
       "      <th>3</th>\n",
       "      <td>IDs:(800-0000000007,800-0000000032)</td>\n",
       "      <td>800</td>\n",
       "      <td>0000000007</td>\n",
       "      <td>isaac1</td>\n",
       "      <td></td>\n",
       "      <td>NAME1</td>\n",
       "      <td>isaac1</td>\n",
       "    </tr>\n",
       "    <tr>\n",
       "      <th>4</th>\n",
       "      <td>IDs:(800-0000000011,800-0000000022)</td>\n",
       "      <td>800</td>\n",
       "      <td>0000000022</td>\n",
       "      <td>sara</td>\n",
       "      <td>cardenal</td>\n",
       "      <td>NAME1</td>\n",
       "      <td>sara</td>\n",
       "    </tr>\n",
       "    <tr>\n",
       "      <th>...</th>\n",
       "      <td>...</td>\n",
       "      <td>...</td>\n",
       "      <td>...</td>\n",
       "      <td>...</td>\n",
       "      <td>...</td>\n",
       "      <td>...</td>\n",
       "      <td>...</td>\n",
       "    </tr>\n",
       "    <tr>\n",
       "      <th>195</th>\n",
       "      <td>IDs:(800-ARAMI-00,800-ARAMI-01,800-ARAMI-02,80...</td>\n",
       "      <td>800</td>\n",
       "      <td>ARAMI-00</td>\n",
       "      <td>Aramingo-00</td>\n",
       "      <td>3456 West Chester Pike</td>\n",
       "      <td>NAME1</td>\n",
       "      <td>Aramingo-30</td>\n",
       "    </tr>\n",
       "    <tr>\n",
       "      <th>196</th>\n",
       "      <td>IDs:(800-ARAMI-00,800-ARAMI-01,800-ARAMI-02,80...</td>\n",
       "      <td>800</td>\n",
       "      <td>ARAMI-24</td>\n",
       "      <td>Aramingo-24</td>\n",
       "      <td>1234 West Chester Pike</td>\n",
       "      <td>NAME1</td>\n",
       "      <td>Aramingo-30</td>\n",
       "    </tr>\n",
       "    <tr>\n",
       "      <th>197</th>\n",
       "      <td>IDs:(800-ARAMI-00,800-ARAMI-01,800-ARAMI-02,80...</td>\n",
       "      <td>800</td>\n",
       "      <td>ARAMI-01</td>\n",
       "      <td>Aramingo-01</td>\n",
       "      <td>1234 West Chester Pike</td>\n",
       "      <td>NAME1</td>\n",
       "      <td>Aramingo-30</td>\n",
       "    </tr>\n",
       "    <tr>\n",
       "      <th>198</th>\n",
       "      <td>IDs:(800-ARAMI-00,800-ARAMI-01,800-ARAMI-02,80...</td>\n",
       "      <td>800</td>\n",
       "      <td>ARAMI-02</td>\n",
       "      <td>Aramingo-02</td>\n",
       "      <td>1234 West Chester Pike</td>\n",
       "      <td>NAME1</td>\n",
       "      <td>Aramingo-30</td>\n",
       "    </tr>\n",
       "    <tr>\n",
       "      <th>199</th>\n",
       "      <td>IDs:(800-ARAMI-00,800-ARAMI-01,800-ARAMI-02,80...</td>\n",
       "      <td>800</td>\n",
       "      <td>ARAMI-07</td>\n",
       "      <td>Aramingo-07</td>\n",
       "      <td>1234 West Chester Pike</td>\n",
       "      <td>NAME1</td>\n",
       "      <td>Aramingo-30</td>\n",
       "    </tr>\n",
       "  </tbody>\n",
       "</table>\n",
       "<p>200 rows × 7 columns</p>\n",
       "</div>"
      ],
      "text/plain": [
       "                                              GROUP_ID MANDT       LIFNR  \\\n",
       "0                  IDs:(800-0000000004,800-0000000030)   800  0000000004   \n",
       "1                  IDs:(800-0000000004,800-0000000030)   800  0000000030   \n",
       "2                  IDs:(800-0000000007,800-0000000032)   800  0000000032   \n",
       "3                  IDs:(800-0000000007,800-0000000032)   800  0000000007   \n",
       "4                  IDs:(800-0000000011,800-0000000022)   800  0000000022   \n",
       "..                                                 ...   ...         ...   \n",
       "195  IDs:(800-ARAMI-00,800-ARAMI-01,800-ARAMI-02,80...   800    ARAMI-00   \n",
       "196  IDs:(800-ARAMI-00,800-ARAMI-01,800-ARAMI-02,80...   800    ARAMI-24   \n",
       "197  IDs:(800-ARAMI-00,800-ARAMI-01,800-ARAMI-02,80...   800    ARAMI-01   \n",
       "198  IDs:(800-ARAMI-00,800-ARAMI-01,800-ARAMI-02,80...   800    ARAMI-02   \n",
       "199  IDs:(800-ARAMI-00,800-ARAMI-01,800-ARAMI-02,80...   800    ARAMI-07   \n",
       "\n",
       "           NAME1                   STRAS PATTERN    REAL_NAME  \n",
       "0           omar                           NAME1        omar2  \n",
       "1          omar2                           NAME1        omar2  \n",
       "2          isaac                           NAME1       isaac1  \n",
       "3         isaac1                           NAME1       isaac1  \n",
       "4           sara                cardenal   NAME1         sara  \n",
       "..           ...                     ...     ...          ...  \n",
       "195  Aramingo-00  3456 West Chester Pike   NAME1  Aramingo-30  \n",
       "196  Aramingo-24  1234 West Chester Pike   NAME1  Aramingo-30  \n",
       "197  Aramingo-01  1234 West Chester Pike   NAME1  Aramingo-30  \n",
       "198  Aramingo-02  1234 West Chester Pike   NAME1  Aramingo-30  \n",
       "199  Aramingo-07  1234 West Chester Pike   NAME1  Aramingo-30  \n",
       "\n",
       "[200 rows x 7 columns]"
      ]
     },
     "execution_count": 20,
     "metadata": {},
     "output_type": "execute_result"
    }
   ],
   "source": [
    "res.head(200)"
   ]
  },
  {
   "cell_type": "markdown",
   "metadata": {},
   "source": [
    "**7. Push Results to Data Pool**"
   ]
  },
  {
   "cell_type": "code",
   "execution_count": 114,
   "metadata": {},
   "outputs": [
    {
     "name": "stdout",
     "output_type": "stream",
     "text": [
      "2021-01-21 09:16:34 - pycelonis: Execution of Data Job running\n",
      "2021-01-21 09:16:35 - pycelonis: Execution of Data Job running\n",
      "2021-01-21 09:16:36 - pycelonis: Execution of Data Job running\n",
      "2021-01-21 09:16:37 - pycelonis: Execution of Data Job running\n",
      "2021-01-21 09:16:37 - pycelonis: Execution of Data Job running\n",
      "2021-01-21 09:16:38 - pycelonis: Execution of Data Job running\n",
      "2021-01-21 09:16:39 - pycelonis: Execution of Data Job running\n",
      "2021-01-21 09:16:40 - pycelonis: Execution of Data Job running\n",
      "2021-01-21 09:16:40 - pycelonis: Execution of Data Job running\n",
      "2021-01-21 09:16:45 - pycelonis: Data push job running, status: {'id': '8b850cf2-53c2-4f82-a737-6905be3218eb', 'targetName': 'res_total', 'lastModified': 1611220602084, 'lastPing': None, 'status': 'RUNNING', 'type': 'REPLACE', 'fileType': None, 'targetSchema': 'a9f8217f-90e2-4114-a100-675909dc6879', 'upsertStrategy': 'UPSERT_WITH_UNCHANGED_METADATA', 'fallbackVarcharLength': None, 'dataPoolId': 'a9f8217f-90e2-4114-a100-675909dc6879', 'connectionId': None, 'keys': [], 'tableSchema': None, 'csvParsingOptions': None, 'logs': ['2021-01-21T09:16:42 - Starting execution, status set to RUNNING'], 'mirrorTargetNames': [], 'optionalTenantId': None}\n",
      "2021-01-21 09:16:47 - pycelonis: Data push job running, status: {'id': '8b850cf2-53c2-4f82-a737-6905be3218eb', 'targetName': 'res_total', 'lastModified': 1611220602084, 'lastPing': None, 'status': 'RUNNING', 'type': 'REPLACE', 'fileType': None, 'targetSchema': 'a9f8217f-90e2-4114-a100-675909dc6879', 'upsertStrategy': 'UPSERT_WITH_UNCHANGED_METADATA', 'fallbackVarcharLength': None, 'dataPoolId': 'a9f8217f-90e2-4114-a100-675909dc6879', 'connectionId': None, 'keys': [], 'tableSchema': None, 'mirrorTargetNames': [], 'csvParsingOptions': None, 'logs': ['2021-01-21T09:16:42 - Starting execution, status set to RUNNING'], 'optionalTenantId': None}\n",
      "2021-01-21 09:16:50 - pycelonis: Data push job running, status: {'id': '8b850cf2-53c2-4f82-a737-6905be3218eb', 'targetName': 'res_total', 'lastModified': 1611220602084, 'lastPing': None, 'status': 'RUNNING', 'type': 'REPLACE', 'fileType': None, 'targetSchema': 'a9f8217f-90e2-4114-a100-675909dc6879', 'upsertStrategy': 'UPSERT_WITH_UNCHANGED_METADATA', 'fallbackVarcharLength': None, 'dataPoolId': 'a9f8217f-90e2-4114-a100-675909dc6879', 'connectionId': None, 'keys': [], 'logs': ['2021-01-21T09:16:42 - Starting execution, status set to RUNNING'], 'tableSchema': None, 'mirrorTargetNames': [], 'csvParsingOptions': None, 'optionalTenantId': None}\n",
      "2021-01-21 09:16:52 - pycelonis: Data push job running, status: {'id': '8b850cf2-53c2-4f82-a737-6905be3218eb', 'targetName': 'res_total', 'lastModified': 1611220602084, 'lastPing': None, 'status': 'RUNNING', 'type': 'REPLACE', 'fileType': None, 'targetSchema': 'a9f8217f-90e2-4114-a100-675909dc6879', 'upsertStrategy': 'UPSERT_WITH_UNCHANGED_METADATA', 'fallbackVarcharLength': None, 'dataPoolId': 'a9f8217f-90e2-4114-a100-675909dc6879', 'connectionId': None, 'keys': [], 'tableSchema': None, 'csvParsingOptions': None, 'logs': ['2021-01-21T09:16:42 - Starting execution, status set to RUNNING'], 'mirrorTargetNames': [], 'optionalTenantId': None}\n",
      "2021-01-21 09:16:55 - pycelonis: Data push job running, status: {'id': '8b850cf2-53c2-4f82-a737-6905be3218eb', 'targetName': 'res_total', 'lastModified': 1611220602084, 'lastPing': None, 'status': 'RUNNING', 'type': 'REPLACE', 'fileType': None, 'targetSchema': 'a9f8217f-90e2-4114-a100-675909dc6879', 'upsertStrategy': 'UPSERT_WITH_UNCHANGED_METADATA', 'fallbackVarcharLength': None, 'dataPoolId': 'a9f8217f-90e2-4114-a100-675909dc6879', 'connectionId': None, 'keys': [], 'mirrorTargetNames': [], 'csvParsingOptions': None, 'tableSchema': None, 'logs': ['2021-01-21T09:16:42 - Starting execution, status set to RUNNING'], 'optionalTenantId': None}\n",
      "2021-01-21 09:16:58 - pycelonis: Data push job running, status: {'id': '8b850cf2-53c2-4f82-a737-6905be3218eb', 'targetName': 'res_total', 'lastModified': 1611220602084, 'lastPing': None, 'status': 'RUNNING', 'type': 'REPLACE', 'fileType': None, 'targetSchema': 'a9f8217f-90e2-4114-a100-675909dc6879', 'upsertStrategy': 'UPSERT_WITH_UNCHANGED_METADATA', 'fallbackVarcharLength': None, 'dataPoolId': 'a9f8217f-90e2-4114-a100-675909dc6879', 'connectionId': None, 'keys': [], 'tableSchema': None, 'mirrorTargetNames': [], 'csvParsingOptions': None, 'logs': ['2021-01-21T09:16:42 - Starting execution, status set to RUNNING'], 'optionalTenantId': None}\n"
     ]
    },
    {
     "data": {
      "text/plain": [
       "<DatamodelTable, id 60beaefa-1660-413c-b833-383553e3986d, name res_total>"
      ]
     },
     "execution_count": 114,
     "metadata": {},
     "output_type": "execute_result"
    }
   ],
   "source": [
    "datamodel.pool.push_table(res,'DUPLICATE_VENDOR',reload_datamodel=False,if_exists = 'replace')"
   ]
  },
  {
   "cell_type": "markdown",
   "metadata": {},
   "source": [
    "** 8. Add Table to Data Model**"
   ]
  },
  {
   "cell_type": "code",
   "execution_count": null,
   "metadata": {},
   "outputs": [],
   "source": [
    "datamodel.add_table_from_pool(table_name=\"DUPLICATE_VENDOR\",\n",
    "                               alias= \"DUPLICATE_VENDOR\",\n",
    "                               added_table_join_type=\"source\",\n",
    "                               new_foreign_key_to_table=\"...\",\n",
    "                               foreign_key_columns=[\"...\"],\n",
    "                               reload=\"PARTIAL_ON_TABLE\")"
   ]
  }
 ],
 "metadata": {
  "kernelspec": {
   "display_name": "Python 3",
   "language": "python",
   "name": "python3"
  },
  "language_info": {
   "codemirror_mode": {
    "name": "ipython",
    "version": 3
   },
   "file_extension": ".py",
   "mimetype": "text/x-python",
   "name": "python",
   "nbconvert_exporter": "python",
   "pygments_lexer": "ipython3",
   "version": "3.8.6"
  }
 },
 "nbformat": 4,
 "nbformat_minor": 4
}
