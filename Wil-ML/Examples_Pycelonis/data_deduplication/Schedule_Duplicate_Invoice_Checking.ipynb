{
 "cells": [
  {
   "cell_type": "code",
   "execution_count": null,
   "metadata": {},
   "outputs": [],
   "source": [
    "# When scheduled from a knowledge model these two parameters are given from the object with type:'ml-job'\n",
    "# E.g.: \n",
    "#layerId = \"simon.test-model\"\n",
    "#objectId = \"duplicate-invoice-checker\""
   ]
  },
  {
   "cell_type": "code",
   "execution_count": null,
   "metadata": {},
   "outputs": [],
   "source": [
    "# Module Imports\n",
    "from pycelonis import get_celonis\n",
    "from pycelonis.data_deduplication.duplicate_invoice_checker import DuplicateInvoiceChecker\n",
    "from pycelonis.data_deduplication.utils import get_config_from_trigger\n",
    "from pycelonis.celonis_api.studio.schedule_utils import get_km_dict_by_key\n",
    "import yaml"
   ]
  },
  {
   "cell_type": "code",
   "execution_count": null,
   "metadata": {},
   "outputs": [],
   "source": [
    "# Connect to Celonis\n",
    "celonis = get_celonis(threaded=True)"
   ]
  },
  {
   "cell_type": "code",
   "execution_count": null,
   "metadata": {},
   "outputs": [],
   "source": [
    "if \"layerId\" in locals():\n",
    "    km = get_km_dict_by_key(**locals())\n",
    "    config, datamodel = get_config_from_trigger(**locals())\n",
    "else:\n",
    "    with open(r\"custom_object_config.yaml\", \"r\") as yfile:\n",
    "        custom_object = yaml.load(yfile, Loader=yaml.FullLoader)\n",
    "    config = custom_object[\"customAttributes\"]\n",
    "    datamodel = celonis.datamodels.find(config[\"data_extraction_config\"][\"datamodel_id\"])"
   ]
  },
  {
   "cell_type": "code",
   "execution_count": null,
   "metadata": {},
   "outputs": [],
   "source": [
    "datamodel"
   ]
  },
  {
   "cell_type": "code",
   "execution_count": null,
   "metadata": {},
   "outputs": [],
   "source": [
    "config"
   ]
  },
  {
   "cell_type": "code",
   "execution_count": null,
   "metadata": {},
   "outputs": [],
   "source": [
    "# Create Duplicate Invoice Checker from config\n",
    "dc_invoice = DuplicateInvoiceChecker(\n",
    "    datamodel=datamodel,\n",
    "    **config\n",
    ")"
   ]
  },
  {
   "cell_type": "code",
   "execution_count": null,
   "metadata": {},
   "outputs": [],
   "source": [
    "# Run duplicate checking and push results to pool.\n",
    "# set reload to True if you want a partial reload upon every push of duplicates\n",
    "response = dc_invoice.apply_pipeline()"
   ]
  }
 ],
 "metadata": {
  "kernelspec": {
   "display_name": "Python 3",
   "language": "python",
   "name": "python3"
  },
  "language_info": {
   "codemirror_mode": {
    "name": "ipython",
    "version": 3
   },
   "file_extension": ".py",
   "mimetype": "text/x-python",
   "name": "python",
   "nbconvert_exporter": "python",
   "pygments_lexer": "ipython3",
   "version": "3.8.5"
  }
 },
 "nbformat": 4,
 "nbformat_minor": 4
}
