{
 "cells": [
  {
   "cell_type": "markdown",
   "metadata": {},
   "source": [
    "# Use Case: Material Deduplication\n",
    "This notebook shows you how you can use the Celonis Duplicate Checker to clean your material master table."
   ]
  },
  {
   "cell_type": "code",
   "execution_count": 1,
   "metadata": {},
   "outputs": [],
   "source": [
    "import pandas as pd\n",
    "import numpy as np\n",
    "from pycelonis.data_deduplication.duplicate_checker import DuplicateChecker\n",
    "from pycelonis import get_celonis\n",
    "from pycelonis import pql"
   ]
  },
  {
   "cell_type": "markdown",
   "metadata": {},
   "source": [
    "**0. Connect to Celonis**"
   ]
  },
  {
   "cell_type": "code",
   "execution_count": 6,
   "metadata": {},
   "outputs": [
    {
     "name": "stdout",
     "output_type": "stream",
     "text": [
      "2021-01-21 12:09:18 - pycelonis: Login successful! Hello s.brand@celonis.com\n",
      "2021-01-21 12:09:18 - pycelonis: Your PyCelonis Version 1.4.1 is outdated (Newest Version: 1.5). Please upgrade the package via: pip install --extra-index-url=https://pypi.celonis.cloud/ pycelonis --upgrade\n"
     ]
    }
   ],
   "source": [
    "celonis = get_celonis()"
   ]
  },
  {
   "cell_type": "markdown",
   "metadata": {},
   "source": [
    "**1. Connect to Data Model**"
   ]
  },
  {
   "cell_type": "code",
   "execution_count": 7,
   "metadata": {},
   "outputs": [
    {
     "data": {
      "text/plain": [
       "'Source to Pay'"
      ]
     },
     "execution_count": 7,
     "metadata": {},
     "output_type": "execute_result"
    }
   ],
   "source": [
    "datamodel_id = \"f62b5b7b-8fc0-4e41-a106-2664af6ab61a\" # edit\n",
    "datamodel = celonis.datamodels.find(datamodel_id) # do not edit this line\n",
    "datamodel.name                                    # do not edit this line"
   ]
  },
  {
   "cell_type": "markdown",
   "metadata": {},
   "source": [
    "**2. Define Material Number and Material Text fields**\n",
    "\n",
    "In order to deduplicate your material we recommend to use the material text field. In addition you need to provide the field that are the unique identity of each entry of the material table."
   ]
  },
  {
   "cell_type": "code",
   "execution_count": 8,
   "metadata": {},
   "outputs": [
    {
     "data": {
      "text/html": [
       "<div>\n",
       "<style scoped>\n",
       "    .dataframe tbody tr th:only-of-type {\n",
       "        vertical-align: middle;\n",
       "    }\n",
       "\n",
       "    .dataframe tbody tr th {\n",
       "        vertical-align: top;\n",
       "    }\n",
       "\n",
       "    .dataframe thead th {\n",
       "        text-align: right;\n",
       "    }\n",
       "</style>\n",
       "<table border=\"1\" class=\"dataframe\">\n",
       "  <thead>\n",
       "    <tr style=\"text-align: right;\">\n",
       "      <th></th>\n",
       "      <th>MATNR</th>\n",
       "      <th>MANDT</th>\n",
       "      <th>MAKTX</th>\n",
       "    </tr>\n",
       "  </thead>\n",
       "  <tbody>\n",
       "    <tr>\n",
       "      <th>0</th>\n",
       "      <td>000000000080550582</td>\n",
       "      <td>100</td>\n",
       "      <td>Drahtseilklemme 5 mm DIN 1142  verz.</td>\n",
       "    </tr>\n",
       "    <tr>\n",
       "      <th>1</th>\n",
       "      <td>000007200510003000</td>\n",
       "      <td>111</td>\n",
       "      <td>Ethernet Switch 5-Port SPIDER 5TX</td>\n",
       "    </tr>\n",
       "    <tr>\n",
       "      <th>2</th>\n",
       "      <td>000009170000397500</td>\n",
       "      <td>111</td>\n",
       "      <td>Frischware Dowclene 1621 im Safetainer</td>\n",
       "    </tr>\n",
       "    <tr>\n",
       "      <th>3</th>\n",
       "      <td>000000000007370542</td>\n",
       "      <td>100</td>\n",
       "      <td>Nitril-Handschuh Gr.8,5-9* L</td>\n",
       "    </tr>\n",
       "    <tr>\n",
       "      <th>4</th>\n",
       "      <td>000007200538950000</td>\n",
       "      <td>111</td>\n",
       "      <td>PCU50 1,2GHZ, WIN XP</td>\n",
       "    </tr>\n",
       "  </tbody>\n",
       "</table>\n",
       "</div>"
      ],
      "text/plain": [
       "                MATNR MANDT                                    MAKTX\n",
       "0  000000000080550582   100     Drahtseilklemme 5 mm DIN 1142  verz.\n",
       "1  000007200510003000   111        Ethernet Switch 5-Port SPIDER 5TX\n",
       "2  000009170000397500   111   Frischware Dowclene 1621 im Safetainer\n",
       "3  000000000007370542   100             Nitril-Handschuh Gr.8,5-9* L\n",
       "4  000007200538950000   111                     PCU50 1,2GHZ, WIN XP"
      ]
     },
     "execution_count": 8,
     "metadata": {},
     "output_type": "execute_result"
    }
   ],
   "source": [
    "query = pql.PQL()\n",
    "query += pql.PQLColumn(\"MARA_MASTER.MATNR\", \"MATNR\")\n",
    "query += pql.PQLColumn(\"MARA_MASTER.MANDT\", \"MANDT\")\n",
    "query += pql.PQLColumn(\"MARA_MASTER.MAKTX\", \"MAKTX\")\n",
    "df = datamodel.get_data_frame(query)\n",
    "df.head()"
   ]
  },
  {
   "cell_type": "code",
   "execution_count": 9,
   "metadata": {},
   "outputs": [],
   "source": [
    "unique_id_columns=[\"MANDT\",\"MATNR\"]\n",
    "material_text_column = \"MAKTX\""
   ]
  },
  {
   "cell_type": "markdown",
   "metadata": {},
   "source": [
    "**3. Choose Search Pattern**"
   ]
  },
  {
   "cell_type": "code",
   "execution_count": 11,
   "metadata": {},
   "outputs": [],
   "source": [
    "search_pattern_exact = {\n",
    "    \"exact\":{\n",
    "        \"MAKTX\": \"exact\"\n",
    "    }\n",
    "} # Fast\n",
    "\n",
    "search_pattern_fuzzy = {\n",
    "    \"fuzzy\":{\n",
    "        \"MAKTX\": \"MaterialFuzzy\"\n",
    "    }\n",
    "} # Slow"
   ]
  },
  {
   "cell_type": "code",
   "execution_count": 12,
   "metadata": {},
   "outputs": [],
   "source": [
    "search_pattern = search_pattern_fuzzy"
   ]
  },
  {
   "cell_type": "markdown",
   "metadata": {},
   "source": [
    "**4. Set Max Chunk Size**\n",
    "\n",
    "Adjust chunk size to the size of you workbench. If you have little RAM, use a small chunksize to prevent memory errors."
   ]
  },
  {
   "cell_type": "code",
   "execution_count": 13,
   "metadata": {},
   "outputs": [],
   "source": [
    "max_chunk_size=1000 # adjust chunk size to the size of you workbench"
   ]
  },
  {
   "cell_type": "markdown",
   "metadata": {},
   "source": [
    "**5. Run Duplicate Checker**"
   ]
  },
  {
   "cell_type": "code",
   "execution_count": null,
   "metadata": {},
   "outputs": [],
   "source": [
    "dc = DuplicateChecker() \n",
    "res = dc.apply(df, unique_id_columns=[\"MANDT\",\"MATNR\"],search_patterns=search_pattern,fast_mode=True)\n",
    "# CREATE UNIQUE MATERIAL TEXT\n",
    "res = res.merge(res.groupby(\"GROUP_ID\")[material_text_column].max().reset_index().rename(columns={material_text_column:\"REAL_MATERIAL\"}),on=\"GROUP_ID\",how=\"left\")\n",
    "\n"
   ]
  },
  {
   "cell_type": "code",
   "execution_count": null,
   "metadata": {},
   "outputs": [],
   "source": [
    "pattern = res.groupby(\"GROUP_ID\")[material_text_column].nunique()\n",
    "res[\"PATTERN\"] = np.where(res.GROUP_ID.isin(pattern[pattern > 1].index),\"FUZZY_MATCH\",\"EXACT_MATCH\")"
   ]
  },
  {
   "cell_type": "markdown",
   "metadata": {},
   "source": [
    "**6. Inspect Results**"
   ]
  },
  {
   "cell_type": "code",
   "execution_count": 16,
   "metadata": {},
   "outputs": [],
   "source": [
    "pd.set_option('display.max_rows', 200)"
   ]
  },
  {
   "cell_type": "code",
   "execution_count": null,
   "metadata": {
    "scrolled": true
   },
   "outputs": [],
   "source": [
    "res.head(200)"
   ]
  },
  {
   "cell_type": "markdown",
   "metadata": {},
   "source": [
    "**7. Push Results to Data Pool **"
   ]
  },
  {
   "cell_type": "code",
   "execution_count": 114,
   "metadata": {},
   "outputs": [
    {
     "name": "stdout",
     "output_type": "stream",
     "text": [
      "2021-01-21 09:16:34 - pycelonis: Execution of Data Job running\n",
      "2021-01-21 09:16:35 - pycelonis: Execution of Data Job running\n",
      "2021-01-21 09:16:36 - pycelonis: Execution of Data Job running\n",
      "2021-01-21 09:16:37 - pycelonis: Execution of Data Job running\n",
      "2021-01-21 09:16:37 - pycelonis: Execution of Data Job running\n",
      "2021-01-21 09:16:38 - pycelonis: Execution of Data Job running\n",
      "2021-01-21 09:16:39 - pycelonis: Execution of Data Job running\n",
      "2021-01-21 09:16:40 - pycelonis: Execution of Data Job running\n",
      "2021-01-21 09:16:40 - pycelonis: Execution of Data Job running\n",
      "2021-01-21 09:16:45 - pycelonis: Data push job running, status: {'id': '8b850cf2-53c2-4f82-a737-6905be3218eb', 'targetName': 'res_total', 'lastModified': 1611220602084, 'lastPing': None, 'status': 'RUNNING', 'type': 'REPLACE', 'fileType': None, 'targetSchema': 'a9f8217f-90e2-4114-a100-675909dc6879', 'upsertStrategy': 'UPSERT_WITH_UNCHANGED_METADATA', 'fallbackVarcharLength': None, 'dataPoolId': 'a9f8217f-90e2-4114-a100-675909dc6879', 'connectionId': None, 'keys': [], 'tableSchema': None, 'csvParsingOptions': None, 'logs': ['2021-01-21T09:16:42 - Starting execution, status set to RUNNING'], 'mirrorTargetNames': [], 'optionalTenantId': None}\n",
      "2021-01-21 09:16:47 - pycelonis: Data push job running, status: {'id': '8b850cf2-53c2-4f82-a737-6905be3218eb', 'targetName': 'res_total', 'lastModified': 1611220602084, 'lastPing': None, 'status': 'RUNNING', 'type': 'REPLACE', 'fileType': None, 'targetSchema': 'a9f8217f-90e2-4114-a100-675909dc6879', 'upsertStrategy': 'UPSERT_WITH_UNCHANGED_METADATA', 'fallbackVarcharLength': None, 'dataPoolId': 'a9f8217f-90e2-4114-a100-675909dc6879', 'connectionId': None, 'keys': [], 'tableSchema': None, 'mirrorTargetNames': [], 'csvParsingOptions': None, 'logs': ['2021-01-21T09:16:42 - Starting execution, status set to RUNNING'], 'optionalTenantId': None}\n",
      "2021-01-21 09:16:50 - pycelonis: Data push job running, status: {'id': '8b850cf2-53c2-4f82-a737-6905be3218eb', 'targetName': 'res_total', 'lastModified': 1611220602084, 'lastPing': None, 'status': 'RUNNING', 'type': 'REPLACE', 'fileType': None, 'targetSchema': 'a9f8217f-90e2-4114-a100-675909dc6879', 'upsertStrategy': 'UPSERT_WITH_UNCHANGED_METADATA', 'fallbackVarcharLength': None, 'dataPoolId': 'a9f8217f-90e2-4114-a100-675909dc6879', 'connectionId': None, 'keys': [], 'logs': ['2021-01-21T09:16:42 - Starting execution, status set to RUNNING'], 'tableSchema': None, 'mirrorTargetNames': [], 'csvParsingOptions': None, 'optionalTenantId': None}\n",
      "2021-01-21 09:16:52 - pycelonis: Data push job running, status: {'id': '8b850cf2-53c2-4f82-a737-6905be3218eb', 'targetName': 'res_total', 'lastModified': 1611220602084, 'lastPing': None, 'status': 'RUNNING', 'type': 'REPLACE', 'fileType': None, 'targetSchema': 'a9f8217f-90e2-4114-a100-675909dc6879', 'upsertStrategy': 'UPSERT_WITH_UNCHANGED_METADATA', 'fallbackVarcharLength': None, 'dataPoolId': 'a9f8217f-90e2-4114-a100-675909dc6879', 'connectionId': None, 'keys': [], 'tableSchema': None, 'csvParsingOptions': None, 'logs': ['2021-01-21T09:16:42 - Starting execution, status set to RUNNING'], 'mirrorTargetNames': [], 'optionalTenantId': None}\n",
      "2021-01-21 09:16:55 - pycelonis: Data push job running, status: {'id': '8b850cf2-53c2-4f82-a737-6905be3218eb', 'targetName': 'res_total', 'lastModified': 1611220602084, 'lastPing': None, 'status': 'RUNNING', 'type': 'REPLACE', 'fileType': None, 'targetSchema': 'a9f8217f-90e2-4114-a100-675909dc6879', 'upsertStrategy': 'UPSERT_WITH_UNCHANGED_METADATA', 'fallbackVarcharLength': None, 'dataPoolId': 'a9f8217f-90e2-4114-a100-675909dc6879', 'connectionId': None, 'keys': [], 'mirrorTargetNames': [], 'csvParsingOptions': None, 'tableSchema': None, 'logs': ['2021-01-21T09:16:42 - Starting execution, status set to RUNNING'], 'optionalTenantId': None}\n",
      "2021-01-21 09:16:58 - pycelonis: Data push job running, status: {'id': '8b850cf2-53c2-4f82-a737-6905be3218eb', 'targetName': 'res_total', 'lastModified': 1611220602084, 'lastPing': None, 'status': 'RUNNING', 'type': 'REPLACE', 'fileType': None, 'targetSchema': 'a9f8217f-90e2-4114-a100-675909dc6879', 'upsertStrategy': 'UPSERT_WITH_UNCHANGED_METADATA', 'fallbackVarcharLength': None, 'dataPoolId': 'a9f8217f-90e2-4114-a100-675909dc6879', 'connectionId': None, 'keys': [], 'tableSchema': None, 'mirrorTargetNames': [], 'csvParsingOptions': None, 'logs': ['2021-01-21T09:16:42 - Starting execution, status set to RUNNING'], 'optionalTenantId': None}\n"
     ]
    },
    {
     "data": {
      "text/plain": [
       "<DatamodelTable, id 60beaefa-1660-413c-b833-383553e3986d, name res_total>"
      ]
     },
     "execution_count": 114,
     "metadata": {},
     "output_type": "execute_result"
    }
   ],
   "source": [
    "datamodel.pool.push_table(res,'DUPLICATE_MATERIAL',reload_datamodel=False,if_exists = 'replace')"
   ]
  },
  {
   "cell_type": "markdown",
   "metadata": {},
   "source": [
    "**8. Add Table to Data Model **"
   ]
  },
  {
   "cell_type": "code",
   "execution_count": null,
   "metadata": {},
   "outputs": [],
   "source": [
    "datamodel.add_table_from_pool(table_name=\"DUPLICATE_MATERIAL\",\n",
    "                               alias= \"DUPLICATE_MATERIAL\",\n",
    "                               added_table_join_type=\"source\",\n",
    "                               new_foreign_key_to_table=\"...\",\n",
    "                               foreign_key_columns=[\"...\"],\n",
    "                               reload=\"PARTIAL_ON_TABLE\")"
   ]
  }
 ],
 "metadata": {
  "kernelspec": {
   "display_name": "Python 3",
   "language": "python",
   "name": "python3"
  },
  "language_info": {
   "codemirror_mode": {
    "name": "ipython",
    "version": 3
   },
   "file_extension": ".py",
   "mimetype": "text/x-python",
   "name": "python",
   "nbconvert_exporter": "python",
   "pygments_lexer": "ipython3",
   "version": "3.8.6"
  }
 },
 "nbformat": 4,
 "nbformat_minor": 4
}
