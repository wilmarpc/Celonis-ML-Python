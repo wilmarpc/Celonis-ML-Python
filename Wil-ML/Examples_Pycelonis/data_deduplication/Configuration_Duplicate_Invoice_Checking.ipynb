{
 "cells": [
  {
   "cell_type": "markdown",
   "metadata": {},
   "source": [
    "# Use Case: Duplicate Invoice Checker\n",
    "This notebook can be used to configure the Celonis Duplicate Invoice Checker and deploy it in the Event Collection Pipeline for continuous duplicate invoice checking.\n",
    "\n",
    "\n",
    "                **MAKE SURE TO EXECUTE THIS NOTEBOOK CELL BY CELL FROM TOP TO BOTTOM **"
   ]
  },
  {
   "cell_type": "code",
   "execution_count": null,
   "metadata": {},
   "outputs": [],
   "source": [
    "# Module Imports\n",
    "import json\n",
    "import os\n",
    "import numpy as np\n",
    "import pandas as pd\n",
    "from pycelonis import get_celonis\n",
    "from pycelonis.data_deduplication.duplicate_invoice_checker import DuplicateInvoiceChecker"
   ]
  },
  {
   "cell_type": "markdown",
   "metadata": {},
   "source": [
    "## Step 0: Connect to Celonis\n",
    "With **celonis = get_celonis()** you can connect to your Celonis Team, using the Application Key of this Workbench. By default this might not have the necessary permissions. \n",
    "You can see how to change the permissions under:\n",
    "\n",
    "    [YOUR_CELONIS_TEAM_URL]/help/display/CIBC/Getting+started+with+the+ML+workbench"
   ]
  },
  {
   "cell_type": "code",
   "execution_count": null,
   "metadata": {},
   "outputs": [],
   "source": [
    "celonis = get_celonis()"
   ]
  },
  {
   "cell_type": "markdown",
   "metadata": {},
   "source": [
    "## Step 1: Connect to Knoledge Model and Data Model.\n",
    "Select the Data Model that you want to do duplicate invoice checking on."
   ]
  },
  {
   "cell_type": "code",
   "execution_count": null,
   "metadata": {},
   "outputs": [],
   "source": [
    "# Set to False if you are not using knowledgemodel\n",
    "use_knowledge_model = True"
   ]
  },
  {
   "cell_type": "code",
   "execution_count": null,
   "metadata": {},
   "outputs": [],
   "source": [
    "# USE KNOWLEDGEMODEL\n",
    "if use_knowledge_model:\n",
    "    package = celonis.packages.find(\"PACKAGE_NAME\")\n",
    "    km = package.knowledge_models.find(\"KNOWLEDGE_MODEL_NAME\")\n",
    "    datamodel_id = km.content.get(\"dataModelId\")"
   ]
  },
  {
   "cell_type": "code",
   "execution_count": null,
   "metadata": {},
   "outputs": [],
   "source": [
    "# ELSE: MANUAL DATAMODEL CONNECTION\n",
    "if not use_knowledge_model:\n",
    "    datamodel_id = \"...\""
   ]
  },
  {
   "cell_type": "code",
   "execution_count": null,
   "metadata": {},
   "outputs": [],
   "source": [
    "# Create Connection to Data Model\n",
    "datamodel = celonis.datamodels.find(datamodel_id) # do not edit this line\n",
    "datamodel.name                                    # do not edit this line"
   ]
  },
  {
   "cell_type": "markdown",
   "metadata": {},
   "source": [
    "## Step 2: Create Duplicate Invoice Checker\n",
    "In this step you create the 'dc_invoice' object which contains all the necessary functions for duplicate invoice checking."
   ]
  },
  {
   "cell_type": "code",
   "execution_count": null,
   "metadata": {},
   "outputs": [],
   "source": [
    "dc_invoice = DuplicateInvoiceChecker(datamodel=datamodel,\n",
    "                                      celonis_table_name=\"DUPLICATE_INVOICES\")"
   ]
  },
  {
   "cell_type": "markdown",
   "metadata": {},
   "source": [
    "## Step 2: Define an invoice and the relevant information."
   ]
  },
  {
   "cell_type": "markdown",
   "metadata": {},
   "source": [
    "**1/4: Please specify the PQL that uniquely defines an invoice.**\n",
    "\n",
    "\n",
    "In SAP Accounts Payable the standard on **LINE** level is:\n",
    "\n",
    "```\n",
    "invoice_id_record = {\n",
    "     'id': 'INVOICE_ID', # do not edit this line\n",
    "     'displayName': 'Invoice ID',\n",
    "     'pql': '\"BSEG\".\"MANDT\" || \"BSEG\".\"BUKRS\" || \"BSEG\".\"GJAHR\" || \"BSEG\".\"BELNR\" || \"BSEG\".\"BUZEI\"',\n",
    "     }\n",
    "```\n",
    "\n",
    "In SAP Accounts Payable the standard on **HEADER** level is:\n",
    "\n",
    "```\n",
    "invoice_id_record = {\n",
    "     'id': 'INVOICE_ID', # do not edit this line\n",
    "     'displayName': 'Invoice ID',\n",
    "     'pql': '\"BKPF\".\"MANDT\" || \"BKPF\".\"BUKRS\" || \"BKPF\".\"GJAHR\" || \"BKPF\".\"BELNR\"',\n",
    "     }\n",
    "```"
   ]
  },
  {
   "cell_type": "code",
   "execution_count": null,
   "metadata": {},
   "outputs": [],
   "source": [
    "invoice_id_record = {\n",
    "     'id': '',\n",
    "     'displayName': '',\n",
    "     'pql': '',\n",
    "     }"
   ]
  },
  {
   "cell_type": "markdown",
   "metadata": {},
   "source": [
    "**2/4: Specify the datamodel columns that you want to use**\n",
    "These are the columns that can be used for comparing and finding duplicates, but also simply as addition information. \n",
    "Make sure to include any columns that you want to use to join the results to a table (e.g. the case table) of the datamodel later.\n",
    "\n",
    "\n",
    "In SAP Accounts Payable the standard on **LINE** level is:\n",
    "```\n",
    "duplicate_relevant_dimensions = [\n",
    "        # columns for duplicate checking\n",
    "        {\"id\": \"VENDOR_NAME\", \"displayName\": \"Vendor Name\", \"pql\": '\"LFA1\".\"NAME1\"'},\n",
    "        {\"id\": \"_VENDOR_ID\", \"displayName\": \"Vendor ID\", \"pql\": '\"LFA1\".\"LIFNR\"'},\n",
    "        {\"id\": \"VALUE\", \"displayName\": \"Value (WRBTR)\", \"pql\": '\"BSEG\".\"WRBTR\"'},\n",
    "        {\"id\": \"REFERENCE\", \"displayName\": \"Reference\", \"pql\":  '\"BKPF\".\"XBLNR\"'},\n",
    "        {\"id\": \"INVOICE_DATE\", \"displayName\": \"BLDAT\", \"pql\": '\"BKPF\".\"TS_BLDAT\"'},\n",
    "        # columns for joining the results to the case table.\n",
    "        {'id': 'MANDT', 'displayName': 'MANDT', 'pql': '\"BSEG\".\"MANDT\"'},\n",
    "        {'id': 'BUKRS', 'displayName': 'BUKRS', 'pql': '\"BSEG\".\"BUKRS\"'},\n",
    "        {'id': 'GJAHR', 'displayName': 'GJAHR', 'pql': '\"BSEG\".\"GJAHR\"'},\n",
    "        {'id': 'BELNR', 'displayName': 'BELNR', 'pql': ' \"BSEG\".\"BELNR\"'},\n",
    "        {'id': 'BUZEI', 'displayName': 'BUZEI', 'pql': '\"BSEG\".\"BUZEI\"'},\n",
    "    ]\n",
    " ```\n",
    " \n",
    " \n",
    " In SAP Accounts Payable the standard on **HEADER** level is:\n",
    "```\n",
    "duplicate_relevant_dimensions = [\n",
    "        # columns for duplicate checking\n",
    "        {\"id\": \"VENDOR_NAME\", \"displayName\": \"Vendor Name\", \"pql\": '\"LFA1\".\"NAME1\"'},\n",
    "        {\"id\": \"_VENDOR_ID\", \"displayName\": \"Vendor ID\", \"pql\": '\"LFA1\".\"LIFNR\"'},\n",
    "        {\"id\": \"VALUE\", \"displayName\": \"Value (WRBTR)\", \"pql\": 'SUM(\"BSEG\".\"WRBTR\")'},\n",
    "        {\"id\": \"REFERENCE\", \"displayName\": \"Reference\", \"pql\":  '\"BKPF\".\"XBLNR\"'},\n",
    "        {\"id\": \"INVOICE_DATE\", \"displayName\": \"BLDAT\", \"pql\": '\"BKPF\".\"TS_BLDAT\"'},\n",
    "        # columns for joining the results to the case table.\n",
    "        {'id': 'MANDT', 'displayName': 'MANDT', 'pql': '\"BKPF\".\"MANDT\"'},\n",
    "        {'id': 'BUKRS', 'displayName': 'BUKRS', 'pql': '\"BKPF\".\"BUKRS\"'},\n",
    "        {'id': 'GJAHR', 'displayName': 'GJAHR', 'pql': '\"BKPF\".\"GJAHR\"'},\n",
    "        {'id': 'BELNR', 'displayName': 'BELNR', 'pql': ' \"BKPF\".\"BELNR\"'},\n",
    "    ]\n",
    " ```"
   ]
  },
  {
   "cell_type": "code",
   "execution_count": null,
   "metadata": {},
   "outputs": [],
   "source": [
    "duplicate_relevant_dimensions = [\n",
    "        \n",
    "    ]"
   ]
  },
  {
   "cell_type": "markdown",
   "metadata": {},
   "source": [
    "**3/4 (optional):  Specify any filter that you want to apply before checking for duplicates**\n",
    "These are pql filters that will be applied when extracting the data from the datamodel. They can be for example filters to only use external invoices, use only invoice with a certain value or exclude recurrent invoices etc.\n",
    "\n",
    "\n",
    "In SAP Accounts Payable on both **HEADER AND LINE** level the standard is:\n",
    "```\n",
    "duplicate_relevant_filters=[\n",
    "    \"\"\"FILTER MATCH_ACTIVITIES(EXCLUDING['Create Credit Memo', 'Reverse Invoice'] ) = 1;\"\"\",\n",
    "    \"\"\"FILTER PU_COUNT(DOMAIN_TABLE(\"BKPF\".\"XBLNR\"),\n",
    "        \"BSEG\".\"BELNR\"||\"BSEG\".\"BUKRS\"||\"BSEG\".\"GJAHR\"||\"BSEG\".\"MANDT\") < 10;\"\"\",\n",
    "    \"\"\"FILTER \"BKPF\".\"XBLNR\" NOT LIKE 'Leasing';\"\"\",\n",
    "    \"\"\"FILTER \"BKPF\".\"XBLNR\" NOT LIKE 'Miete';\"\"\",\n",
    "    \"\"\"FILTER \"BKPF\".\"XBLNR\" NOT LIKE 'Rent';\"\"\",\n",
    "    \"\"\"FILTER LEN(\"BKPF\".\"XBLNR\") > 4;\"\"\",\n",
    "    \"\"\"FILTER ISNULL(\"LFA1\".\"VBUND\") = 1;\"\"\",\n",
    "    ]\n",
    " ```"
   ]
  },
  {
   "cell_type": "code",
   "execution_count": null,
   "metadata": {},
   "outputs": [],
   "source": [
    "duplicate_relevant_filters=[\n",
    "    \n",
    "    ]"
   ]
  },
  {
   "cell_type": "markdown",
   "metadata": {},
   "source": [
    "**4/4 (optional but very important): Specify how to identify reversals**\n",
    "One typical challenge in duplicate invoice checking is only to filter out duplicates that were not reversed yet, to filter out all irrelevant duplicates in the data. To do this, you need to specify how to identify invoice reversals in the Celonis Data Model. This is done by a CASE WHEN statement of the following format:\n",
    "\n",
    " \n",
    "\n",
    " \n",
    " In SAP Accounts Payable the standard on **LINE** level is:\n",
    " ```\n",
    "invoice_reversed_flag_pql= \"\"\" \n",
    "\n",
    "    CASE WHEN BSEG.SHKZG  = 'S' THEN 1 ELSE 0 END\n",
    "\n",
    "\"\"\"\n",
    " ```\n",
    " \n",
    " \n",
    " In SAP Accounts Payable the standard on **HEADER** level is:\n",
    "```\n",
    "\n",
    "invoice_reversed_flag_pql= \"\"\" \n",
    "\n",
    "    CASE WHEN PU_FIRST(BKPF,BSEG.SHKZG) = 'S' THEN 1 ELSE 0 END\n",
    "\n",
    "\n",
    "\"\"\"\n",
    " ```"
   ]
  },
  {
   "cell_type": "code",
   "execution_count": null,
   "metadata": {},
   "outputs": [],
   "source": [
    "# insert your PQL statement here \n",
    "# If you dont have a reversal_flag execute cell with:invoice_reversed_flag_pql = \"\"\n",
    "invoice_reversed_flag_pql = \"\""
   ]
  },
  {
   "cell_type": "code",
   "execution_count": null,
   "metadata": {},
   "outputs": [],
   "source": [
    "# Summing all data extraction configuration up. \n",
    "# do not edit this cell\n",
    "dc_invoice.data_extraction_config = {\"datamodel_id\": datamodel_id,\n",
    "                          \"invoice_id_record\": invoice_id_record, \n",
    "                          \"duplicate_relevant_dimensions\": duplicate_relevant_dimensions, \n",
    "                          \"duplicate_relevant_filters\": duplicate_relevant_filters, \n",
    "                          \"invoice_reversed_flag_pql\": invoice_reversed_flag_pql,\n",
    "                            }\n",
    " "
   ]
  },
  {
   "cell_type": "markdown",
   "metadata": {},
   "source": [
    "**Step 2.1: Adding invoices from another Data Model**\n",
    "\n",
    "(Execute one of the two options below)\n",
    "If your setup is such that you have two Data Models: One with high reload frequency and containing only data for execution apps and in addition one Data Model containing the process history for analytics, then  fill and execute the next cell with the data extraction parameters for this datamodel."
   ]
  },
  {
   "cell_type": "markdown",
   "metadata": {},
   "source": [
    "**----------------------------------------- Option 1: Add second Data Model!  -----------------------------------------**"
   ]
  },
  {
   "cell_type": "code",
   "execution_count": null,
   "metadata": {},
   "outputs": [],
   "source": [
    "# ONLY EXECUTE IF 2 Datamodels used \n",
    "# EDIT START CURRENT SETTINGS ON ITEM LEVEL: \n",
    "analytical_datamodel_id = \"\"\n",
    "analytical_invoice_id_record = {\n",
    "     'id': 'INVOICE_ID',\n",
    "     'displayName': 'Invoice ID',\n",
    "     'pql': '...',\n",
    "     }\n",
    "analytical_duplicate_relevant_dimensions = [\n",
    "        {\"id\": \"VENDOR_NAME\", \"displayName\": \"Vendor Name\", \"pql\": '\"LFA1\".\"NAME1\"'},\n",
    "        {\"id\": \"_VENDOR_ID\", \"displayName\": \"Vendor ID\", \"pql\": '\"LFA1\".\"LIFNR\"'},\n",
    "        {\"id\": \"VALUE\", \"displayName\": \"Value (WRBTR)\", \"pql\": '\"BSEG\".\"WRBTR\"'},\n",
    "        {\"id\": \"REFERENCE\", \"displayName\": \"Reference\", \"pql\":  '\"BKPF\".\"XBLNR\"'},\n",
    "        {\"id\": \"INVOICE_DATE\", \"displayName\": \"BLDAT\", \"pql\": '\"BKPF\".\"TS_BLDAT\"'},\n",
    "    ]\n",
    "analytical_duplicate_relevant_filters=[\n",
    "    ]\n",
    "analytical_invoice_reversed_flag_pql = \"\"\n",
    "##### EDIT END.\n",
    "\n",
    "dc_invoice.analytical_data_extraction_config = {\n",
    "     \"datamodel_id\": analytical_datamodel_id,\n",
    "     \"invoice_id_record\": analytical_invoice_id_record, \n",
    "     \"duplicate_relevant_dimensions\": analytical_duplicate_relevant_dimensions, \n",
    "     \"duplicate_relevant_filters\": analytical_duplicate_relevant_filters, \n",
    "     \"invoice_reversed_flag_pql\": analytical_invoice_reversed_flag_pql,\n",
    "      }"
   ]
  },
  {
   "cell_type": "markdown",
   "metadata": {},
   "source": [
    "**----------------------------------------- Option 2: NO second Data Model!  -----------------------------------------**"
   ]
  },
  {
   "cell_type": "code",
   "execution_count": null,
   "metadata": {},
   "outputs": [],
   "source": [
    "dc_invoice.analytical_data_extraction_config = None"
   ]
  },
  {
   "cell_type": "markdown",
   "metadata": {},
   "source": [
    "## Step 3: Load data from the datamodel\n",
    "By executing the next cell you extract the data from the Data Model."
   ]
  },
  {
   "cell_type": "code",
   "execution_count": null,
   "metadata": {},
   "outputs": [],
   "source": [
    "df, df_reference = dc_invoice.load_data()\n",
    "df.head()"
   ]
  },
  {
   "cell_type": "markdown",
   "metadata": {},
   "source": [
    "## Step 4: Create Search Patterns\n",
    "If you have successfully loaded the data, you can now create search patterns which to apply in order to find duplicate invoices.\n",
    "If you are not sure how to do this, take a look at the **\"00_Tutorial_Duplicate_Checking.ipynb\"** Notebook provided in the same folder.\n",
    "\n",
    "\n",
    "In SAP Accounts Payable the standard is:\n",
    "```\n",
    "search_patterns = {   \n",
    "    'Vendor_fuzzy_match': {\n",
    "        'VENDOR_NAME': 'CompanyNameFuzzy',\n",
    "        'INVOICE_DATE': 'exact',\n",
    "        'REFERENCE': 'exact',\n",
    "        'VALUE': 'exact'},\n",
    "    'INVOICE_DATE_fuzzy_match': {\n",
    "        'VENDOR_NAME': 'exact',\n",
    "        'INVOICE_DATE': 'DateFuzzy',\n",
    "        'REFERENCE': 'exact',\n",
    "        'VALUE': 'exact'},\n",
    "    'INVOICE_Value_fuzzy_match': {\n",
    "        'VENDOR_NAME': 'exact',\n",
    "        'INVOICE_DATE': 'exact',\n",
    "        'REFERENCE': 'exact',\n",
    "        'VALUE': 'InvoiceValueFuzzy'},\n",
    "    'REFERENCE_fuzzy_match': {\n",
    "        'VENDOR_NAME': 'exact',\n",
    "        'INVOICE_DATE': 'exact',\n",
    "        'REFERENCE': 'InvoiceReferenceFuzzy',\n",
    "        'VALUE': 'exact'},\n",
    "    'Exact': {\n",
    "        'VENDOR_NAME': 'exact',\n",
    "        'INVOICE_DATE': 'exact',\n",
    "        'REFERENCE': 'exact',\n",
    "        'VALUE': 'exact'}\n",
    "        }\n",
    " ```"
   ]
  },
  {
   "cell_type": "code",
   "execution_count": null,
   "metadata": {},
   "outputs": [],
   "source": [
    "# edit here\n",
    "dc_invoice.search_patterns = {   \n",
    "    'Vendor_fuzzy_match': {\n",
    "        'VENDOR_NAME': 'CompanyNameFuzzy',\n",
    "        'INVOICE_DATE': 'exact',\n",
    "        'REFERENCE': 'exact',\n",
    "        'VALUE': 'exact'},\n",
    "    'INVOICE_DATE_fuzzy_match': {\n",
    "        'VENDOR_NAME': 'exact',\n",
    "        'INVOICE_DATE': 'DateFuzzy',\n",
    "        'REFERENCE': 'exact',\n",
    "        'VALUE': 'exact'},\n",
    "    'INVOICE_Value_fuzzy_match': {\n",
    "        'VENDOR_NAME': 'exact',\n",
    "        'INVOICE_DATE': 'exact',\n",
    "        'REFERENCE': 'exact',\n",
    "        'VALUE': 'InvoiceValueFuzzy'},\n",
    "    'REFERENCE_fuzzy_match': {\n",
    "        'VENDOR_NAME': 'exact',\n",
    "        'INVOICE_DATE': 'exact',\n",
    "        'REFERENCE': 'InvoiceReferenceFuzzy',\n",
    "        'VALUE': 'exact'},\n",
    "    'Exact': {\n",
    "        'VENDOR_NAME': 'exact',\n",
    "        'INVOICE_DATE': 'exact',\n",
    "        'REFERENCE': 'exact',\n",
    "        'VALUE': 'exact'}\n",
    "        }"
   ]
  },
  {
   "cell_type": "markdown",
   "metadata": {},
   "source": [
    "## Step 5: Computing the duplicate invoices\n",
    "By executing the next cell you start the actual duplicate checking computations."
   ]
  },
  {
   "cell_type": "code",
   "execution_count": null,
   "metadata": {},
   "outputs": [],
   "source": [
    "results = dc_invoice.apply(df=df,\n",
    "                            search_patterns=dc_invoice.search_patterns,\n",
    "                            df_reference=df_reference)\n",
    "results"
   ]
  },
  {
   "cell_type": "code",
   "execution_count": null,
   "metadata": {},
   "outputs": [],
   "source": [
    "results.PATTERN.value_counts()"
   ]
  },
  {
   "cell_type": "markdown",
   "metadata": {},
   "source": [
    "## Step 6: Add a mactches column for executional app representation (optional)\n",
    "For a better representation in the execution app you can add columns that for each invoice contain **only** the respective field values of the matched invoice, separated by commas.\n",
    "\n"
   ]
  },
  {
   "cell_type": "code",
   "execution_count": null,
   "metadata": {},
   "outputs": [],
   "source": [
    "dc_invoice.matching_display_columns = [\"INVOICE_ID\"]"
   ]
  },
  {
   "cell_type": "code",
   "execution_count": null,
   "metadata": {
    "scrolled": true
   },
   "outputs": [],
   "source": [
    "results = dc_invoice.add_matching_display_columns(results, dc_invoice.matching_display_columns)\n",
    "results"
   ]
  },
  {
   "cell_type": "markdown",
   "metadata": {},
   "source": [
    "## Final Step 8: Deploy the duplicate invoice checking into the pipeline"
   ]
  },
  {
   "cell_type": "markdown",
   "metadata": {},
   "source": [
    "**Step 1 / 3: Add the duplicate checker results to the datamodel.**"
   ]
  },
  {
   "cell_type": "code",
   "execution_count": null,
   "metadata": {},
   "outputs": [],
   "source": [
    "# Add table to Pool\n",
    "table = datamodel.pool.create_table(results,\n",
    "                                    dc_invoice.celonis_table_name,\n",
    "                                    column_config=[{\"columnName\":\"GROUP_ID\",\n",
    "                                                    \"fieldLength\":int(results.GROUP_ID.str.len().max()*1.5),\n",
    "                                                    \"columnType\":\"STRING\"}])\n"
   ]
  },
  {
   "cell_type": "markdown",
   "metadata": {},
   "source": [
    "**Specify the table you want to join the results to**\n",
    "\n",
    "In SAP Accounts Payable the standard on **LINE** level is:\n",
    "```\n",
    "dc_invoice.join_dm_target_table = \"BSEG\"\n",
    " ```\n",
    " \n",
    " \n",
    "In SAP Accounts Payable the standard on **HEADER** level is:\n",
    "```\n",
    "dc_invoice.join_dm_target_table = \"BKPF\"\n",
    " ```"
   ]
  },
  {
   "cell_type": "code",
   "execution_count": null,
   "metadata": {},
   "outputs": [],
   "source": [
    "#table to join results to\n",
    "dc_invoice.join_dm_target_table = \"..\""
   ]
  },
  {
   "cell_type": "markdown",
   "metadata": {},
   "source": [
    "**Specify the foreign key colums you want to join the results to the dm table with**\n",
    "\n",
    "In SAP Accounts Payable the standard on **LINE** level is:\n",
    "```\n",
    "dc_invoice.foreign_keys = [('MANDT','MANDT'),\n",
    "                           ('BUKRS','BUKRS'),\n",
    "                           ('GJAHR','GJAHR'),\n",
    "                           ('BELNR','BELNR'),\n",
    "                           ('BUZEI','BUZEI')]\n",
    " ```\n",
    " \n",
    " \n",
    "In SAP Accounts Payable the standard on **HEADER** level is:\n",
    "```\n",
    "dc_invoice.foreign_keys = [('MANDT','MANDT'),\n",
    "                           ('BUKRS','BUKRS'),\n",
    "                           ('GJAHR','GJAHR'),\n",
    "                           ('BELNR','BELNR')]\n",
    " ```"
   ]
  },
  {
   "cell_type": "code",
   "execution_count": null,
   "metadata": {},
   "outputs": [],
   "source": [
    "# columns to join through\n",
    "dc_invoice.foreign_keys = []"
   ]
  },
  {
   "cell_type": "markdown",
   "metadata": {},
   "source": [
    "**Add table to datamodel**"
   ]
  },
  {
   "cell_type": "code",
   "execution_count": null,
   "metadata": {},
   "outputs": [],
   "source": [
    "# Add table to datamodel\n",
    "dm_table = datamodel.add_table_from_pool(table_name=dc_invoice.celonis_table_name,\n",
    "                                         alias=dc_invoice.celonis_table_name)"
   ]
  },
  {
   "cell_type": "code",
   "execution_count": null,
   "metadata": {},
   "outputs": [],
   "source": [
    "# Create Foreign Key\n",
    "keys = datamodel.create_foreign_key(target_table=dc_invoice.join_dm_target_table,\n",
    "                                    source_table=dc_invoice.celonis_table_name,\n",
    "                                    columns=dc_invoice.foreign_keys)"
   ]
  },
  {
   "cell_type": "code",
   "execution_count": null,
   "metadata": {},
   "outputs": [],
   "source": [
    "# Partial Reload of datamodel\n",
    "datamodel.reload(tables=dc_invoice.celonis_table_name)"
   ]
  },
  {
   "cell_type": "markdown",
   "metadata": {},
   "source": [
    "**Step 2 / 3: Create a customObject with the duplicate checker configurations**"
   ]
  },
  {
   "cell_type": "code",
   "execution_count": null,
   "metadata": {},
   "outputs": [],
   "source": [
    "config_object = dc_invoice.save_settings_to_config()"
   ]
  },
  {
   "cell_type": "code",
   "execution_count": null,
   "metadata": {},
   "outputs": [],
   "source": [
    "config_object"
   ]
  },
  {
   "cell_type": "markdown",
   "metadata": {},
   "source": [
    "**Step 3 / 3 IF USING KNOWLEDGE MODEL: Add the config as custom object to the knowledge model and publish it**\n",
    "\n",
    "The duplicate checker will be executed everytime the datamodel reload or the package is published"
   ]
  },
  {
   "cell_type": "code",
   "execution_count": null,
   "metadata": {},
   "outputs": [],
   "source": [
    "if use_knowledge_model:\n",
    "    km.add_custom_object(**config_object)"
   ]
  },
  {
   "cell_type": "markdown",
   "metadata": {},
   "source": [
    "**Publish package containing Knowledge Model**"
   ]
  },
  {
   "cell_type": "code",
   "execution_count": null,
   "metadata": {},
   "outputs": [],
   "source": [
    "if use_knowledge_model:\n",
    "    package.publish()"
   ]
  },
  {
   "cell_type": "markdown",
   "metadata": {},
   "source": [
    "**Step 3 / 3 IF MANUAL SCHEDULING:**\n",
    "    \n",
    "Go to **MY_TEAM_URL/machine-learning/ui/schedule** and create a \"NEW SCHEDULE\" Pointing at the notebook **Schedule_Duplicate_Invoice_Checking.ipynb** in the SAME Folder as this script."
   ]
  },
  {
   "cell_type": "markdown",
   "metadata": {},
   "source": [
    "**Monitoring**\n",
    "\n",
    "\n",
    "For monitoring if everything is working you can go to the /logs folder in the home directory of you workbench.\n",
    "There every execution of the duplicate invoice checker is logged.\n",
    "\n",
    "IF MANUAL SCHEDULING: Also you can track the triggered executions here : **MY_TEAM_URL/machine-learning/ui/schedule**\n",
    "\n",
    "IF USE KNOWLEDGE MODEL: Also you can track the triggered executions here : **MY_TEAM_URL/machine-learning/ui/triggered**\n"
   ]
  },
  {
   "cell_type": "code",
   "execution_count": null,
   "metadata": {},
   "outputs": [],
   "source": []
  }
 ],
 "metadata": {
  "kernelspec": {
   "display_name": "Python 3",
   "language": "python",
   "name": "python3"
  },
  "language_info": {
   "codemirror_mode": {
    "name": "ipython",
    "version": 3
   },
   "file_extension": ".py",
   "mimetype": "text/x-python",
   "name": "python",
   "nbconvert_exporter": "python",
   "pygments_lexer": "ipython3",
   "version": "3.8.5"
  }
 },
 "nbformat": 4,
 "nbformat_minor": 4
}