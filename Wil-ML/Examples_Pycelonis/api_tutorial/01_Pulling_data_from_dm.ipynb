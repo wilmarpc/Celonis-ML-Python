{
 "cells": [
  {
   "cell_type": "markdown",
   "metadata": {},
   "source": [
    "\n",
    "# Data Model: Pull data"
   ]
  },
  {
   "cell_type": "code",
   "execution_count": 1,
   "metadata": {},
   "outputs": [],
   "source": [
    "#To get a copy of this notebook in your current working dirtectory, run:\n",
    "from pycelonis.notebooks import api_tutorial"
   ]
  },
  {
   "cell_type": "markdown",
   "metadata": {},
   "source": [
    "## 1. Connect to Celonis"
   ]
  },
  {
   "cell_type": "code",
   "execution_count": 2,
   "metadata": {},
   "outputs": [],
   "source": [
    "from pycelonis import get_celonis\n",
    "celonis = get_celonis()"
   ]
  },
  {
   "cell_type": "markdown",
   "metadata": {},
   "source": [
    "## 2. Connect to an Data Model in Celonis\n",
    "\n",
    "find the data model by either searching for the name or ID."
   ]
  },
  {
   "cell_type": "code",
   "execution_count": 3,
   "metadata": {},
   "outputs": [],
   "source": [
    "datamodel = celonis.datamodels.find('440cb0ba-7f00-4ec9-a50a-f9f8772e5893')\n",
    "datamodel"
   ]
  },
  {
   "cell_type": "markdown",
   "metadata": {},
   "source": [
    "## 3. Write the Query\n",
    "\n",
    "Write a pql query just as you would in an analysis"
   ]
  },
  {
   "cell_type": "code",
   "execution_count": 4,
   "metadata": {},
   "outputs": [],
   "source": [
    "from pycelonis import pql\n",
    "q = pql.PQL()\n",
    "q += pql.PQLColumn(\"ACTIVIT_TABLE.ACTIVITY_EN\", \"Activity Name\")\n",
    "q += pql.PQLFilter(\"Filter ACTIVIT_TABLE.ACTIVITY_EN != 'Create Case'; \")"
   ]
  },
  {
   "cell_type": "markdown",
   "metadata": {},
   "source": [
    "## 4.1 Extract the data without chunking\n",
    "\n",
    "Extract the OLAP table with the get_data_frame() function on datamodel without chunking it. This can be done for table of size < 1 GB."
   ]
  },
  {
   "cell_type": "code",
   "execution_count": 5,
   "metadata": {},
   "outputs": [],
   "source": [
    "df = datamodel.get_data_frame(q)\n",
    "df.head()"
   ]
  },
  {
   "cell_type": "markdown",
   "metadata": {},
   "source": [
    "## 4.2 Advanced: Chunk the data by the rows\n",
    "\n",
    "If the table you want to extract is bigger than 1 GB, the export will fail without chunking.\n",
    "To apply chunking you currently need Process Analytics Permissions to create and delete workspaces and analyses.\n",
    "If you have these permissions you can specify the number of rows per chunk via the chunksize parameter."
   ]
  },
  {
   "cell_type": "code",
   "execution_count": 6,
   "metadata": {},
   "outputs": [],
   "source": [
    "df = datamodel.get_data_frame(q, chunksize=10000)\n",
    "df.head()"
   ]
  }
 ],
 "metadata": {
  "jupytext": {
   "formats": "ipynb,py:percent"
  },
  "kernelspec": {
   "display_name": "Python 3",
   "language": "python",
   "name": "python3"
  },
  "language_info": {
   "codemirror_mode": {
    "name": "ipython",
    "version": 3
   },
   "file_extension": ".py",
   "mimetype": "text/x-python",
   "name": "python",
   "nbconvert_exporter": "python",
   "pygments_lexer": "ipython3",
   "version": "3.8.6"
  }
 },
 "nbformat": 4,
 "nbformat_minor": 4
}