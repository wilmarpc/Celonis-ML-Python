{
 "cells": [
  {
   "cell_type": "markdown",
   "id": "20ea5ef8-1785-4d76-8527-eb537e07961e",
   "metadata": {},
   "source": [
    "# Demo of IBM Watson Integration\n",
    "This demo notebook shows how to integrate the IBM Watson News into Celonis by the example of querying any sort of information conerning Acquisitions and IPOs of the vendors. \n",
    "\n",
    "You can find more information about IBM Watson Discovery and the python integration here: https://cloud.ibm.com/apidocs/discovery?code=python"
   ]
  },
  {
   "cell_type": "markdown",
   "source": [
    "<p style=\"color:red\"><b>Disclaimer</b>:\n",
    "This notebook is outdated and was only intended as a showcase to present the most commonly used features of PyCelonis.\n",
    "It does not serve as an out-of-the-box use case!</p>"
   ],
   "metadata": {
    "collapsed": false
   }
  },
  {
   "cell_type": "markdown",
   "id": "welcome-thursday",
   "metadata": {},
   "source": [
    "**1) Import IBM Watson and PyCelonis dependencies**"
   ]
  },
  {
   "cell_type": "code",
   "execution_count": 3,
   "id": "03819db5-059e-4fe2-9832-90865da7a630",
   "metadata": {},
   "outputs": [
    {
     "name": "stdout",
     "output_type": "stream",
     "text": [
      "Collecting ibm_watson\n",
      "  Downloading ibm-watson-5.2.2.tar.gz (407 kB)\n",
      "\u001B[K     |████████████████████████████████| 407 kB 2.7 MB/s eta 0:00:01\n",
      "\u001B[?25h  Installing build dependencies ... \u001B[?25ldone\n",
      "\u001B[?25h  Getting requirements to build wheel ... \u001B[?25ldone\n",
      "\u001B[?25h    Preparing wheel metadata ... \u001B[?25ldone\n",
      "\u001B[?25hCollecting websocket-client==1.1.0\n",
      "  Downloading websocket_client-1.1.0-py2.py3-none-any.whl (68 kB)\n",
      "\u001B[K     |████████████████████████████████| 68 kB 2.5 MB/s eta 0:00:01\n",
      "\u001B[?25hRequirement already satisfied: python-dateutil>=2.5.3 in /home/sbrand/Projects/pycelonis/venv/lib/python3.8/site-packages (from ibm_watson) (2.8.1)\n",
      "Requirement already satisfied: requests<3.0,>=2.0 in /home/sbrand/Projects/pycelonis/venv/lib/python3.8/site-packages (from ibm_watson) (2.25.1)\n",
      "Collecting ibm-cloud-sdk-core==3.*,>=3.3.6\n",
      "  Downloading ibm-cloud-sdk-core-3.10.0.tar.gz (39 kB)\n",
      "Collecting PyJWT<3.0.0,>=2.0.1\n",
      "  Downloading PyJWT-2.1.0-py3-none-any.whl (16 kB)\n",
      "Requirement already satisfied: six>=1.5 in /home/sbrand/Projects/pycelonis/venv/lib/python3.8/site-packages (from python-dateutil>=2.5.3->ibm_watson) (1.15.0)\n",
      "Requirement already satisfied: urllib3<1.27,>=1.21.1 in /home/sbrand/Projects/pycelonis/venv/lib/python3.8/site-packages (from requests<3.0,>=2.0->ibm_watson) (1.26.3)\n",
      "Requirement already satisfied: idna<3,>=2.5 in /home/sbrand/Projects/pycelonis/venv/lib/python3.8/site-packages (from requests<3.0,>=2.0->ibm_watson) (2.10)\n",
      "Requirement already satisfied: chardet<5,>=3.0.2 in /home/sbrand/Projects/pycelonis/venv/lib/python3.8/site-packages (from requests<3.0,>=2.0->ibm_watson) (4.0.0)\n",
      "Requirement already satisfied: certifi>=2017.4.17 in /home/sbrand/Projects/pycelonis/venv/lib/python3.8/site-packages (from requests<3.0,>=2.0->ibm_watson) (2020.12.5)\n",
      "Building wheels for collected packages: ibm-watson, ibm-cloud-sdk-core\n",
      "  Building wheel for ibm-watson (PEP 517) ... \u001B[?25ldone\n",
      "\u001B[?25h  Created wheel for ibm-watson: filename=ibm_watson-5.2.2-py3-none-any.whl size=403389 sha256=885eb1f0ddeff987b4d080abda7e363032982d7fb52836b32238f1e4f2e6e05c\n",
      "  Stored in directory: /home/sbrand/.cache/pip/wheels/65/68/42/5f3c4d4d244aa2e6c139fc93bfc2d6c4d7a231b4d5472fda08\n",
      "  Building wheel for ibm-cloud-sdk-core (setup.py) ... \u001B[?25ldone\n",
      "\u001B[?25h  Created wheel for ibm-cloud-sdk-core: filename=ibm_cloud_sdk_core-3.10.0-py3-none-any.whl size=60914 sha256=361f8c431f913d3e20bef37b392497fcf3f0ca44d0bf9f6f75d4a9018808c164\n",
      "  Stored in directory: /home/sbrand/.cache/pip/wheels/25/f3/b1/1da82e99b552ed44485071ba233652b9f46c06a55853eac780\n",
      "Successfully built ibm-watson ibm-cloud-sdk-core\n",
      "Installing collected packages: PyJWT, websocket-client, ibm-cloud-sdk-core, ibm-watson\n",
      "Successfully installed PyJWT-2.1.0 ibm-cloud-sdk-core-3.10.0 ibm-watson-5.2.2 websocket-client-1.1.0\n",
      "\u001B[33mWARNING: You are using pip version 21.0.1; however, version 21.1.3 is available.\n",
      "You should consider upgrading via the '/home/sbrand/Projects/pycelonis/venv/bin/python -m pip install --upgrade pip' command.\u001B[0m\n"
     ]
    }
   ],
   "source": [
    "!pip install ibm_watson\n",
    "import json\n",
    "import pandas as pd\n",
    "from ibm_watson import DiscoveryV1\n",
    "from ibm_cloud_sdk_core.authenticators import IAMAuthenticator\n",
    "from pycelonis import get_celonis\n",
    "from pycelonis.pql import PQL, PQLColumn, PQLFilter"
   ]
  },
  {
   "cell_type": "markdown",
   "id": "663cf60c-1772-493a-8e59-d8841aab7786",
   "metadata": {},
   "source": [
    "**2) Login to Watson News Collection**"
   ]
  },
  {
   "cell_type": "code",
   "execution_count": 4,
   "id": "b531f5ee-5bd6-43c0-8651-c0f47e6cca32",
   "metadata": {},
   "outputs": [],
   "source": [
    "# Connect to IBM Watson\n",
    "authenticator = IAMAuthenticator(INSERT_TOKEN_HERE)\n",
    "# Connect to Watson Discovery\n",
    "discovery = DiscoveryV1(\n",
    "    version='2018-08-01',\n",
    "    authenticator=authenticator)\n",
    "# Example of url: 'https://api.eu-gb.discovery.watson.cloud.ibm.com/instances/df20c0c6-762a-45f9-9778-845873dbf923'\n",
    "discovery.set_service_url(INSERT_DISCOVERY_INSTANCE_URL_HERE)"
   ]
  },
  {
   "cell_type": "markdown",
   "id": "destroyed-focus",
   "metadata": {},
   "source": [
    "**3) Connect to System Environment**"
   ]
  },
  {
   "cell_type": "code",
   "execution_count": 5,
   "id": "selected-yemen",
   "metadata": {},
   "outputs": [
    {
     "data": {
      "text/plain": [
       "{'environments': [{'environment_id': 'system',\n",
       "   'name': 'Watson System Environment',\n",
       "   'description': 'Shared system data sources',\n",
       "   'read_only': True}]}"
      ]
     },
     "execution_count": 5,
     "metadata": {},
     "output_type": "execute_result"
    }
   ],
   "source": [
    "environments = discovery.list_environments().get_result()\n",
    "environments"
   ]
  },
  {
   "cell_type": "code",
   "execution_count": 6,
   "id": "14032fe0-d03f-4192-9519-6b8f96ce08d8",
   "metadata": {},
   "outputs": [],
   "source": [
    "news_environment_id = 'system'"
   ]
  },
  {
   "cell_type": "markdown",
   "id": "treated-uniform",
   "metadata": {},
   "source": [
    "**4) Print list of available configuration**"
   ]
  },
  {
   "cell_type": "code",
   "execution_count": 7,
   "id": "everyday-preservation",
   "metadata": {},
   "outputs": [
    {
     "name": "stdout",
     "output_type": "stream",
     "text": [
      "{\n",
      "  \"configurations\": []\n",
      "}\n"
     ]
    }
   ],
   "source": [
    "configurations = discovery.list_configurations(\n",
    "    environment_id=news_environment_id).get_result()\n",
    "print(json.dumps(configurations, indent=2))"
   ]
  },
  {
   "cell_type": "code",
   "execution_count": 12,
   "id": "460740bf-5291-43fc-88d9-e60880a15b61",
   "metadata": {},
   "outputs": [
    {
     "data": {
      "text/plain": [
       "[{'collection_id': 'news-en',\n",
       "  'name': 'news-en',\n",
       "  'language': 'en',\n",
       "  'status': 'active',\n",
       "  'description': 'Watson News pre-enriched collection of curated news sources v2 (English)'}]"
      ]
     },
     "execution_count": 12,
     "metadata": {},
     "output_type": "execute_result"
    }
   ],
   "source": [
    "collections = discovery.list_collections(news_environment_id).get_result()\n",
    "news_collections = [x for x in collections['collections']]\n",
    "\n",
    "collection_id = \"news-en\"\n",
    "news_en = [c for c in news_collections if c[\"collection_id\"]==collection_id]\n",
    "news_en"
   ]
  },
  {
   "cell_type": "markdown",
   "id": "hawaiian-harvard",
   "metadata": {},
   "source": [
    "**5) Available news collections**"
   ]
  },
  {
   "cell_type": "code",
   "execution_count": 13,
   "id": "e7f7d466-f97d-4551-90b9-c2de901b944e",
   "metadata": {},
   "outputs": [
    {
     "data": {
      "text/plain": [
       "[{'collection_id': 'news-es',\n",
       "  'name': 'news-es',\n",
       "  'language': 'es',\n",
       "  'status': 'active',\n",
       "  'description': 'Watson News pre-enriched collection of curated news sources v2 (Spanish)'},\n",
       " {'collection_id': 'news-ja',\n",
       "  'name': 'news-ja',\n",
       "  'language': 'ja',\n",
       "  'status': 'active',\n",
       "  'description': 'Watson News pre-enriched collection of curated news sources v2 (Japanese)'},\n",
       " {'collection_id': 'news-ko',\n",
       "  'name': 'news-ko',\n",
       "  'language': 'ko',\n",
       "  'status': 'active',\n",
       "  'description': 'Watson News pre-enriched collection of curated news sources v2 (Korean)'},\n",
       " {'collection_id': 'news-fr',\n",
       "  'name': 'news-fr',\n",
       "  'language': 'fr',\n",
       "  'status': 'active',\n",
       "  'description': 'Watson News pre-enriched collection of curated news sources v2 (French)'},\n",
       " {'collection_id': 'news-de',\n",
       "  'name': 'news-de',\n",
       "  'language': 'de',\n",
       "  'status': 'active',\n",
       "  'description': 'Watson News pre-enriched collection of curated news sources v2 (German)'},\n",
       " {'collection_id': 'news-en',\n",
       "  'name': 'news-en',\n",
       "  'language': 'en',\n",
       "  'status': 'active',\n",
       "  'description': 'Watson News pre-enriched collection of curated news sources v2 (English)'}]"
      ]
     },
     "execution_count": 13,
     "metadata": {},
     "output_type": "execute_result"
    }
   ],
   "source": [
    "news_collections"
   ]
  },
  {
   "cell_type": "markdown",
   "id": "55618bd2-fce3-4317-9f3a-f79c3f6219cf",
   "metadata": {},
   "source": [
    "**6) Connect to Celonis and Datamodel**"
   ]
  },
  {
   "cell_type": "code",
   "execution_count": 14,
   "id": "moving-delicious",
   "metadata": {},
   "outputs": [
    {
     "name": "stdout",
     "output_type": "stream",
     "text": [
      "2021-07-07 16:22:54 - pycelonis: Login successful! Hello SimonBrand\n",
      "2021-07-07 16:22:54 - pycelonis: Your PyCelonis Version VERSION is outdated (Newest Version: 1.5.6). Please upgrade the package via: pip install --extra-index-url=https://pypi.celonis.cloud/ pycelonis --upgrade\n"
     ]
    }
   ],
   "source": [
    "celonis = get_celonis()\n",
    "dm = celonis.get_datamodel(INSERT_DATAMODEL_ID_HERE)"
   ]
  },
  {
   "cell_type": "markdown",
   "id": "compound-zealand",
   "metadata": {},
   "source": [
    "**7) Query Vendors from Datamodel**"
   ]
  },
  {
   "cell_type": "code",
   "execution_count": 15,
   "id": "bf0cf9fe-aaf0-4bf9-9dfa-07caf6c3e3f5",
   "metadata": {},
   "outputs": [],
   "source": [
    "q = PQL()\n",
    "q += PQLColumn(\"LFA1.VENDOR_ID\",\"VENDOR_ID\")\n",
    "q += PQLColumn(\"LFA1.VENDOR_NAME\",\"VENDOR_NAME\")\n",
    "vendor_names = dm.get_data_frame(q)"
   ]
  },
  {
   "cell_type": "code",
   "execution_count": 16,
   "id": "cce0e026-8ad1-4a14-8fd8-d9b3ff682f27",
   "metadata": {},
   "outputs": [
    {
     "data": {
      "text/html": [
       "<div>\n",
       "<style scoped>\n",
       "    .dataframe tbody tr th:only-of-type {\n",
       "        vertical-align: middle;\n",
       "    }\n",
       "\n",
       "    .dataframe tbody tr th {\n",
       "        vertical-align: top;\n",
       "    }\n",
       "\n",
       "    .dataframe thead th {\n",
       "        text-align: right;\n",
       "    }\n",
       "</style>\n",
       "<table border=\"1\" class=\"dataframe\">\n",
       "  <thead>\n",
       "    <tr style=\"text-align: right;\">\n",
       "      <th></th>\n",
       "      <th>VENDOR_ID</th>\n",
       "      <th>VENDOR_NAME</th>\n",
       "    </tr>\n",
       "  </thead>\n",
       "  <tbody>\n",
       "    <tr>\n",
       "      <th>0</th>\n",
       "      <td>3</td>\n",
       "      <td>Celonis</td>\n",
       "    </tr>\n",
       "    <tr>\n",
       "      <th>1</th>\n",
       "      <td>4</td>\n",
       "      <td>IBM</td>\n",
       "    </tr>\n",
       "    <tr>\n",
       "      <th>2</th>\n",
       "      <td>1</td>\n",
       "      <td>Samsung</td>\n",
       "    </tr>\n",
       "    <tr>\n",
       "      <th>3</th>\n",
       "      <td>2</td>\n",
       "      <td>Google</td>\n",
       "    </tr>\n",
       "  </tbody>\n",
       "</table>\n",
       "</div>"
      ],
      "text/plain": [
       "  VENDOR_ID VENDOR_NAME\n",
       "0         3     Celonis\n",
       "1         4         IBM\n",
       "2         1     Samsung\n",
       "3         2      Google"
      ]
     },
     "execution_count": 16,
     "metadata": {},
     "output_type": "execute_result"
    }
   ],
   "source": [
    "vendor_names"
   ]
  },
  {
   "cell_type": "markdown",
   "id": "11a6f01c-2572-4aa3-8734-a9de4c704d28",
   "metadata": {},
   "source": [
    "**8) Query watson with default queries for each of the vendor names**"
   ]
  },
  {
   "cell_type": "code",
   "execution_count": 19,
   "id": "acquired-mistake",
   "metadata": {},
   "outputs": [],
   "source": [
    "def find_acquisition_and_ipos(vendor_name, vendor_id):\n",
    "    \"\"\" Function that finds all news about acquisitions or IPOs for all the selected vendors\"\"\"\n",
    "    results_cleaned = []\n",
    "    acquisition_query = f'enriched_text.entities.text:\"{vendor_name}\"'\n",
    "    acquisition_filter = \"enriched_title.semantic_roles:(action.normalized:acquire,object.entities:(type::Company))\"\n",
    "    ipo_query =f'enriched_text.keywords.text:\"IPO\"'\n",
    "    ipo_filter = f'enriched_text.entities.text:\"{vendor_name}\"'\n",
    "    query_results = discovery.query(\n",
    "        news_environment_id,\n",
    "        collection_id,\n",
    "        query= acquisition_query,\n",
    "        filter=acquisition_filter,\n",
    "        return_fields='extracted_metadata.sha1').get_result()\n",
    "    for row in query_results[\"results\"]:\n",
    "        s = {}\n",
    "        s[\"title\"] = row[\"title\"]\n",
    "        s[\"url\"] = row[\"url\"]\n",
    "        s[\"host\"] = row[\"host\"]\n",
    "        s[\"sentiment\"] = row[\"enriched_text\"][\"sentiment\"][\"document\"][\"label\"]\n",
    "        #s[\"author\"] = row[\"author\"]\n",
    "        s[\"query\"] = acquisition_query\n",
    "        s[\"filter\"] = acquisition_filter\n",
    "        s[\"VENDOR_NAME\"] = vendor_name\n",
    "        s[\"VENDOR_ID\"] = vendor_id\n",
    "        results_cleaned.append(s)\n",
    "    query_results = discovery.query(\n",
    "        news_environment_id,\n",
    "        collection_id,\n",
    "        query= ipo_query,\n",
    "        filter=ipo_filter,\n",
    "        return_fields='extracted_metadata.sha1').get_result()\n",
    "    for row in query_results[\"results\"]:\n",
    "        s = {}\n",
    "        s[\"title\"] = row[\"title\"]\n",
    "        s[\"url\"] = row[\"url\"]\n",
    "        s[\"host\"] = row[\"host\"]\n",
    "        s[\"sentiment\"] = row[\"enriched_text\"][\"sentiment\"][\"document\"][\"label\"]\n",
    "        #s[\"author\"] = row[\"author\"]\n",
    "        s[\"query\"] = ipo_query\n",
    "        s[\"filter\"] = ipo_filter\n",
    "        s[\"VENDOR_NAME\"] = vendor_name\n",
    "        s[\"VENDOR_ID\"] = vendor_id\n",
    "        results_cleaned.append(s)\n",
    "    return pd.DataFrame(results_cleaned)"
   ]
  },
  {
   "cell_type": "code",
   "execution_count": 27,
   "id": "edbcfcdc-7d6e-4bc6-8709-76349b2cb372",
   "metadata": {},
   "outputs": [],
   "source": [
    "df_acquisitions = pd.DataFrame()\n",
    "for company in vendor_names.iterrows():\n",
    "    df = find_acquisition_and_ipos(company[1][\"VENDOR_NAME\"],\n",
    "                                               company[1][\"VENDOR_ID\"])\n",
    "    df_acquisitions = df_acquisitions.append(df)"
   ]
  },
  {
   "cell_type": "code",
   "execution_count": 28,
   "id": "marine-relations",
   "metadata": {},
   "outputs": [
    {
     "data": {
      "text/html": [
       "<div>\n",
       "<style scoped>\n",
       "    .dataframe tbody tr th:only-of-type {\n",
       "        vertical-align: middle;\n",
       "    }\n",
       "\n",
       "    .dataframe tbody tr th {\n",
       "        vertical-align: top;\n",
       "    }\n",
       "\n",
       "    .dataframe thead th {\n",
       "        text-align: right;\n",
       "    }\n",
       "</style>\n",
       "<table border=\"1\" class=\"dataframe\">\n",
       "  <thead>\n",
       "    <tr style=\"text-align: right;\">\n",
       "      <th></th>\n",
       "      <th>title</th>\n",
       "      <th>url</th>\n",
       "      <th>host</th>\n",
       "      <th>sentiment</th>\n",
       "      <th>query</th>\n",
       "      <th>filter</th>\n",
       "      <th>VENDOR_NAME</th>\n",
       "      <th>VENDOR_ID</th>\n",
       "    </tr>\n",
       "  </thead>\n",
       "  <tbody>\n",
       "    <tr>\n",
       "      <th>5</th>\n",
       "      <td>IBM to acquire enterprise software firm Turbon...</td>\n",
       "      <td>https://www.thestatesman.com/business/ibm-acqu...</td>\n",
       "      <td>thestatesman.com</td>\n",
       "      <td>positive</td>\n",
       "      <td>enriched_text.entities.text:\"IBM\"</td>\n",
       "      <td>enriched_title.semantic_roles:(action.normaliz...</td>\n",
       "      <td>IBM</td>\n",
       "      <td>4</td>\n",
       "    </tr>\n",
       "    <tr>\n",
       "      <th>18</th>\n",
       "      <td>LG Energy moves ahead on South Korea IPO that ...</td>\n",
       "      <td>https://auto.economictimes.indiatimes.com/news...</td>\n",
       "      <td>auto.economictimes.indiatimes.com</td>\n",
       "      <td>positive</td>\n",
       "      <td>enriched_text.keywords.text:\"IPO\"</td>\n",
       "      <td>enriched_text.entities.text:\"Samsung\"</td>\n",
       "      <td>Samsung</td>\n",
       "      <td>1</td>\n",
       "    </tr>\n",
       "    <tr>\n",
       "      <th>19</th>\n",
       "      <td>Krafton to launch $5 billion plus IPO subseque...</td>\n",
       "      <td>https://www.gadgetsnow.com/tech-news/krafton-t...</td>\n",
       "      <td>gadgetsnow.com</td>\n",
       "      <td>positive</td>\n",
       "      <td>enriched_text.keywords.text:\"IPO\"</td>\n",
       "      <td>enriched_text.entities.text:\"Samsung\"</td>\n",
       "      <td>Samsung</td>\n",
       "      <td>1</td>\n",
       "    </tr>\n",
       "    <tr>\n",
       "      <th>12</th>\n",
       "      <td>LG Energy Solution seeks nod for IPO that IFR ...</td>\n",
       "      <td>https://www.marketscreener.com/quote/stock/SK-...</td>\n",
       "      <td>marketscreener.com</td>\n",
       "      <td>positive</td>\n",
       "      <td>enriched_text.keywords.text:\"IPO\"</td>\n",
       "      <td>enriched_text.entities.text:\"Samsung\"</td>\n",
       "      <td>Samsung</td>\n",
       "      <td>1</td>\n",
       "    </tr>\n",
       "    <tr>\n",
       "      <th>5</th>\n",
       "      <td>PhonePe in talks to acquire Indian app store I...</td>\n",
       "      <td>http://bestgamingpro.com/phonepe-in-talks-to-a...</td>\n",
       "      <td>bestgamingpro.com</td>\n",
       "      <td>positive</td>\n",
       "      <td>enriched_text.entities.text:\"Samsung\"</td>\n",
       "      <td>enriched_title.semantic_roles:(action.normaliz...</td>\n",
       "      <td>Samsung</td>\n",
       "      <td>1</td>\n",
       "    </tr>\n",
       "    <tr>\n",
       "      <th>11</th>\n",
       "      <td>how to do an ipo chart</td>\n",
       "      <td>https://zarma.cvpyouththeatre.org/how-to-do-an...</td>\n",
       "      <td>zarma.cvpyouththeatre.org</td>\n",
       "      <td>positive</td>\n",
       "      <td>enriched_text.keywords.text:\"IPO\"</td>\n",
       "      <td>enriched_text.entities.text:\"Google\"</td>\n",
       "      <td>Google</td>\n",
       "      <td>2</td>\n",
       "    </tr>\n",
       "    <tr>\n",
       "      <th>7</th>\n",
       "      <td>Spotify Acquires Podz, a Podcast Discovery Pla...</td>\n",
       "      <td>https://gadgets.ndtv.com/apps/news/spotify-pod...</td>\n",
       "      <td>gadgets.ndtv.com</td>\n",
       "      <td>positive</td>\n",
       "      <td>enriched_text.entities.text:\"Google\"</td>\n",
       "      <td>enriched_title.semantic_roles:(action.normaliz...</td>\n",
       "      <td>Google</td>\n",
       "      <td>2</td>\n",
       "    </tr>\n",
       "    <tr>\n",
       "      <th>2</th>\n",
       "      <td>Altman Solon acquires Australian TMT strategy ...</td>\n",
       "      <td>https://www.platformcomms.com/altman-solon-acq...</td>\n",
       "      <td>platformcomms.com</td>\n",
       "      <td>positive</td>\n",
       "      <td>enriched_text.entities.text:\"Google\"</td>\n",
       "      <td>enriched_title.semantic_roles:(action.normaliz...</td>\n",
       "      <td>Google</td>\n",
       "      <td>2</td>\n",
       "    </tr>\n",
       "    <tr>\n",
       "      <th>14</th>\n",
       "      <td>PLTR Stock: Is It A Buy Right Now? Here’s What...</td>\n",
       "      <td>https://bitcoinethereumnews.com/economy/pltr-s...</td>\n",
       "      <td>bitcoinethereumnews.com</td>\n",
       "      <td>positive</td>\n",
       "      <td>enriched_text.keywords.text:\"IPO\"</td>\n",
       "      <td>enriched_text.entities.text:\"IBM\"</td>\n",
       "      <td>IBM</td>\n",
       "      <td>4</td>\n",
       "    </tr>\n",
       "    <tr>\n",
       "      <th>4</th>\n",
       "      <td>IBM acquires cloud managed services provider N...</td>\n",
       "      <td>https://www.expresscomputer.in/cloud/ibm-acqui...</td>\n",
       "      <td>expresscomputer.in</td>\n",
       "      <td>positive</td>\n",
       "      <td>enriched_text.entities.text:\"IBM\"</td>\n",
       "      <td>enriched_title.semantic_roles:(action.normaliz...</td>\n",
       "      <td>IBM</td>\n",
       "      <td>4</td>\n",
       "    </tr>\n",
       "  </tbody>\n",
       "</table>\n",
       "</div>"
      ],
      "text/plain": [
       "                                                title  \\\n",
       "5   IBM to acquire enterprise software firm Turbon...   \n",
       "18  LG Energy moves ahead on South Korea IPO that ...   \n",
       "19  Krafton to launch $5 billion plus IPO subseque...   \n",
       "12  LG Energy Solution seeks nod for IPO that IFR ...   \n",
       "5   PhonePe in talks to acquire Indian app store I...   \n",
       "11                             how to do an ipo chart   \n",
       "7   Spotify Acquires Podz, a Podcast Discovery Pla...   \n",
       "2   Altman Solon acquires Australian TMT strategy ...   \n",
       "14  PLTR Stock: Is It A Buy Right Now? Here’s What...   \n",
       "4   IBM acquires cloud managed services provider N...   \n",
       "\n",
       "                                                  url  \\\n",
       "5   https://www.thestatesman.com/business/ibm-acqu...   \n",
       "18  https://auto.economictimes.indiatimes.com/news...   \n",
       "19  https://www.gadgetsnow.com/tech-news/krafton-t...   \n",
       "12  https://www.marketscreener.com/quote/stock/SK-...   \n",
       "5   http://bestgamingpro.com/phonepe-in-talks-to-a...   \n",
       "11  https://zarma.cvpyouththeatre.org/how-to-do-an...   \n",
       "7   https://gadgets.ndtv.com/apps/news/spotify-pod...   \n",
       "2   https://www.platformcomms.com/altman-solon-acq...   \n",
       "14  https://bitcoinethereumnews.com/economy/pltr-s...   \n",
       "4   https://www.expresscomputer.in/cloud/ibm-acqui...   \n",
       "\n",
       "                                 host sentiment  \\\n",
       "5                    thestatesman.com  positive   \n",
       "18  auto.economictimes.indiatimes.com  positive   \n",
       "19                     gadgetsnow.com  positive   \n",
       "12                 marketscreener.com  positive   \n",
       "5                   bestgamingpro.com  positive   \n",
       "11          zarma.cvpyouththeatre.org  positive   \n",
       "7                    gadgets.ndtv.com  positive   \n",
       "2                   platformcomms.com  positive   \n",
       "14            bitcoinethereumnews.com  positive   \n",
       "4                  expresscomputer.in  positive   \n",
       "\n",
       "                                    query  \\\n",
       "5       enriched_text.entities.text:\"IBM\"   \n",
       "18      enriched_text.keywords.text:\"IPO\"   \n",
       "19      enriched_text.keywords.text:\"IPO\"   \n",
       "12      enriched_text.keywords.text:\"IPO\"   \n",
       "5   enriched_text.entities.text:\"Samsung\"   \n",
       "11      enriched_text.keywords.text:\"IPO\"   \n",
       "7    enriched_text.entities.text:\"Google\"   \n",
       "2    enriched_text.entities.text:\"Google\"   \n",
       "14      enriched_text.keywords.text:\"IPO\"   \n",
       "4       enriched_text.entities.text:\"IBM\"   \n",
       "\n",
       "                                               filter VENDOR_NAME VENDOR_ID  \n",
       "5   enriched_title.semantic_roles:(action.normaliz...         IBM         4  \n",
       "18              enriched_text.entities.text:\"Samsung\"     Samsung         1  \n",
       "19              enriched_text.entities.text:\"Samsung\"     Samsung         1  \n",
       "12              enriched_text.entities.text:\"Samsung\"     Samsung         1  \n",
       "5   enriched_title.semantic_roles:(action.normaliz...     Samsung         1  \n",
       "11               enriched_text.entities.text:\"Google\"      Google         2  \n",
       "7   enriched_title.semantic_roles:(action.normaliz...      Google         2  \n",
       "2   enriched_title.semantic_roles:(action.normaliz...      Google         2  \n",
       "14                  enriched_text.entities.text:\"IBM\"         IBM         4  \n",
       "4   enriched_title.semantic_roles:(action.normaliz...         IBM         4  "
      ]
     },
     "execution_count": 28,
     "metadata": {},
     "output_type": "execute_result"
    }
   ],
   "source": [
    "df_acquisitions.sample(10)"
   ]
  },
  {
   "cell_type": "markdown",
   "id": "5943e786-3ae6-4309-8b2e-255acaaa5465",
   "metadata": {},
   "source": [
    "**10) Push Information back to Datamodel and link it to the Vendors table.**"
   ]
  },
  {
   "cell_type": "code",
   "execution_count": 29,
   "id": "lined-millennium",
   "metadata": {},
   "outputs": [
    {
     "name": "stdout",
     "output_type": "stream",
     "text": [
      "2021-07-07 16:27:52 - pycelonis: Data push job started...\n",
      "2021-07-07 16:27:55 - pycelonis: Data push job status finished: DONE\n"
     ]
    },
    {
     "data": {
      "text/plain": [
       "{'id': '4b496f5f-4f0d-45a1-aef2-cdde0baca4f5',\n",
       " 'targetName': 'WATSON_INSIGHTS',\n",
       " 'lastModified': 1625668075147,\n",
       " 'lastPing': None,\n",
       " 'status': 'DONE',\n",
       " 'type': 'REPLACE',\n",
       " 'fileType': None,\n",
       " 'targetSchema': '3f75f7f1-35e6-4a36-8621-7b78d210ea35',\n",
       " 'upsertStrategy': 'UPSERT_WITH_UNCHANGED_METADATA',\n",
       " 'fallbackVarcharLength': None,\n",
       " 'dataPoolId': '3f75f7f1-35e6-4a36-8621-7b78d210ea35',\n",
       " 'connectionId': None,\n",
       " 'postExecutionQuery': None,\n",
       " 'sanitizedPostExecutionQuery': None,\n",
       " 'keys': [],\n",
       " 'logs': [],\n",
       " 'csvParsingOptions': None,\n",
       " 'tableSchema': {'tableName': 'WATSON_INSIGHTS',\n",
       "  'columns': [{'columnName': 'url',\n",
       "    'columnType': 'STRING',\n",
       "    'fieldLength': 200,\n",
       "    'decimals': 0,\n",
       "    'pkField': False},\n",
       "   {'columnName': 'title',\n",
       "    'columnType': 'STRING',\n",
       "    'fieldLength': 200,\n",
       "    'decimals': 0,\n",
       "    'pkField': False}]},\n",
       " 'changeDate': 1625668075147,\n",
       " 'mirrorTargetNames': [],\n",
       " 'optionalTenantId': None}"
      ]
     },
     "execution_count": 29,
     "metadata": {},
     "output_type": "execute_result"
    }
   ],
   "source": [
    "dm.pool.create_table(df_acquisitions, \"WATSON_INSIGHTS\",\n",
    "                     column_config=[{\"columnName\":\"url\",\"fieldLength\":200,\"columnType\":\"STRING\"},\n",
    "                                   {\"columnName\":\"title\",\"fieldLength\":200,\"columnType\":\"STRING\"}],\n",
    "                    if_exists=\"drop\")"
   ]
  },
  {
   "cell_type": "code",
   "execution_count": null,
   "id": "9fa15ca5-4def-4dcd-ae0e-731dcfb33a1a",
   "metadata": {},
   "outputs": [],
   "source": [
    "dm.add_table_from_pool(\"WATSON_INSIGHTS\")\n",
    "dm.create_foreign_key(\"LFA1\", \"WATSON_INSIGHTS\",[(\"VENDOR_ID\",\"VENDOR_ID\")])\n",
    "dm.reload(tables=[\"WATSON_INSIGHTS\"])"
   ]
  },
  {
   "cell_type": "markdown",
   "id": "29a62b67-9916-4bba-b8ca-b989b4716715",
   "metadata": {},
   "source": [
    "**Now the table is linked to the vendor instances and can be accessed for each vendor by filtering on it in the Celonis dashboard**\n"
   ]
  }
 ],
 "metadata": {
  "kernelspec": {
   "display_name": "Python 3",
   "language": "python",
   "name": "python3"
  },
  "language_info": {
   "codemirror_mode": {
    "name": "ipython",
    "version": 3
   },
   "file_extension": ".py",
   "mimetype": "text/x-python",
   "name": "python",
   "nbconvert_exporter": "python",
   "pygments_lexer": "ipython3",
   "version": "3.8.10"
  }
 },
 "nbformat": 4,
 "nbformat_minor": 5
}