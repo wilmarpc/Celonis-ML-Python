{
 "cells": [
  {
   "cell_type": "markdown",
   "metadata": {},
   "source": [
    "\n",
    "# PQL and Python"
   ]
  },
  {
   "cell_type": "code",
   "execution_count": 1,
   "metadata": {},
   "outputs": [],
   "source": [
    "#To get a copy of this notebook in your current working dirtectory, run:\n",
    "from pycelonis.notebooks import api_tutorial"
   ]
  },
  {
   "cell_type": "markdown",
   "source": [
    "## 1. Connect to Celonis"
   ],
   "metadata": {
    "collapsed": false
   }
  },
  {
   "cell_type": "code",
   "execution_count": 2,
   "outputs": [],
   "source": [
    "from pycelonis import get_celonis\n",
    "celonis = get_celonis()"
   ],
   "metadata": {
    "collapsed": false,
    "pycharm": {
     "name": "#%%\n"
    }
   }
  },
  {
   "cell_type": "markdown",
   "source": [
    "## 2. Extract the PQL query from an existing OLAP table from Celonis\n",
    "\n",
    "The table in the analysis contains two columns from the LFA1 table. The columns are the vendors and the vendors' countries.\n",
    "\n",
    "We first need to find the table in the analysis and extract its PQL-query. The title of the OLAP table is \"Vendors\"."
   ],
   "metadata": {
    "collapsed": false
   }
  },
  {
   "cell_type": "code",
   "execution_count": 3,
   "metadata": {},
   "outputs": [],
   "source": [
    "analysis = celonis.analyses.find('440cb0ba-7f00-4ec9-a50a-f9f8772e5893')\n",
    "query = analysis.draft.components.find(\"Vendors\").pql_query"
   ]
  },
  {
   "cell_type": "markdown",
   "metadata": {},
   "source": [
    "**Let's first have a look at the PQL query. The table's query consists of two PQL columns, there are no filters on the table and the table does not have any variables.**"
   ]
  },
  {
   "cell_type": "code",
   "execution_count": 4,
   "metadata": {
    "lines_to_next_cell": 2
   },
   "outputs": [
    {
     "data": {
      "text/plain": [
       "[<PQLColumn, name: LFA1.LIFNR, query: \"LFA1\".\"LIFNR\">,\n",
       " <PQLColumn, name: LFA1.LAND1, query: \"LFA1\".\"LAND1\">]"
      ]
     },
     "execution_count": 4,
     "metadata": {},
     "output_type": "execute_result"
    }
   ],
   "source": [
    "query.columns"
   ]
  },
  {
   "cell_type": "code",
   "execution_count": 5,
   "metadata": {
    "lines_to_next_cell": 2
   },
   "outputs": [
    {
     "data": {
      "text/plain": [
       "[]"
      ]
     },
     "execution_count": 5,
     "metadata": {},
     "output_type": "execute_result"
    }
   ],
   "source": [
    "query.filters"
   ]
  },
  {
   "cell_type": "code",
   "execution_count": 6,
   "metadata": {},
   "outputs": [],
   "source": [
    "query.variables"
   ]
  },
  {
   "cell_type": "markdown",
   "metadata": {},
   "source": [
    "## 3. Extract the Data from an OLAP Table\n",
    "\n",
    "If we want to extract the table from the analysis we can do that by passing the query as an argument to the get_data_frame function."
   ]
  },
  {
   "cell_type": "code",
   "execution_count": 7,
   "metadata": {},
   "outputs": [],
   "source": [
    "df = analysis.get_data_frame(query)\n",
    "df.head()"
   ]
  },
  {
   "cell_type": "markdown",
   "metadata": {},
   "source": [
    "## 4. Add a PQL column to that table\n",
    "\n",
    "In this section, we add a column to the PQL query and extract the table again with the new column. For this, we need to import pycelonis.pql"
   ]
  },
  {
   "cell_type": "code",
   "execution_count": 8,
   "metadata": {},
   "outputs": [],
   "source": [
    "from pycelonis.celonis_api.pql.pql import PQLColumn"
   ]
  },
  {
   "cell_type": "markdown",
   "metadata": {},
   "source": [
    " **Create a PQL column object. Here we want, additionally to the vendor's number and country, the city of the vendor. The city can be found in the column ORT01 of the LFA1 table. It is very important here that we use the exact same syntax (\"LFA1\".\"ORT01\") as we would use it in Celonis. Common errors that could happen here are:**\n",
    " * Missing double quotes e.g. LFA1\".\"ORT01\"\n",
    " * Spelling mistakes of the table's name e.g. \"LFA\".\"ORT01\"\n",
    " * Spelling mistakes in the table's column e.g. \"LFA1\".\"ORT0\"\n",
    " \n",
    " **The errors will occur first when we pull the data. In case you get an error message there, first check the spelling of your PQL query**"
   ]
  },
  {
   "cell_type": "code",
   "execution_count": 9,
   "metadata": {},
   "outputs": [],
   "source": [
    "column = PQLColumn(query = '\"LFA1\".\"ORT01\"', name= \"City\", sorting_index = 3, sorting_direction = 'DESC')"
   ]
  },
  {
   "cell_type": "markdown",
   "metadata": {},
   "source": [
    "## 5. Add the column to the query we extracted previously\n",
    "\n",
    "The column is added to the PQL query and we can extract the table now with the additional column \"LFA1\".\"ORT01\""
   ]
  },
  {
   "cell_type": "code",
   "execution_count": 10,
   "metadata": {},
   "outputs": [],
   "source": [
    "query.add(column)"
   ]
  },
  {
   "cell_type": "code",
   "execution_count": 11,
   "metadata": {},
   "outputs": [],
   "source": [
    "df = analysis.get_data_frame(query)\n",
    "df.head()"
   ]
  },
  {
   "cell_type": "markdown",
   "metadata": {},
   "source": [
    "## 6. Add a PQL filter to that table\n",
    "\n",
    "The next step now is to add a filter to the analysis. In this case we are only interested in Vendors from Italy (\"LFA1\".\"LAND1\" = 'IT'). Again, it is very important to use the same syntax as within Celonis.\n",
    "\n",
    "**To avoid issues with the quotations in Python use tripple double quotes \"\"\" \"\"\"**"
   ]
  },
  {
   "cell_type": "code",
   "execution_count": 12,
   "metadata": {
    "lines_to_next_cell": 2
   },
   "outputs": [],
   "source": [
    "from pycelonis.celonis_api.pql.pql import PQLFilter"
   ]
  },
  {
   "cell_type": "code",
   "execution_count": 13,
   "metadata": {},
   "outputs": [],
   "source": [
    "pql_filter = PQLFilter(\"\"\" \"LFA1\".\"LAND1\" = 'IT' \"\"\")"
   ]
  },
  {
   "cell_type": "markdown",
   "metadata": {},
   "source": [
    "**Now add the filter to the query ...**"
   ]
  },
  {
   "cell_type": "code",
   "execution_count": 14,
   "metadata": {},
   "outputs": [],
   "source": [
    "query.add(pql_filter)"
   ]
  },
  {
   "cell_type": "markdown",
   "metadata": {},
   "source": [
    " **... and extract the filtered table.**"
   ]
  },
  {
   "cell_type": "code",
   "execution_count": 15,
   "metadata": {
    "lines_to_next_cell": 2
   },
   "outputs": [
    {
     "data": {
      "text/html": [
       "<div>\n",
       "<style scoped>\n",
       "    .dataframe tbody tr th:only-of-type {\n",
       "        vertical-align: middle;\n",
       "    }\n",
       "\n",
       "    .dataframe tbody tr th {\n",
       "        vertical-align: top;\n",
       "    }\n",
       "\n",
       "    .dataframe thead th {\n",
       "        text-align: right;\n",
       "    }\n",
       "</style>\n",
       "<table border=\"1\" class=\"dataframe\">\n",
       "  <thead>\n",
       "    <tr style=\"text-align: right;\">\n",
       "      <th></th>\n",
       "      <th>LFA1.LIFNR</th>\n",
       "      <th>LFA1.LAND1</th>\n",
       "      <th>City</th>\n",
       "    </tr>\n",
       "  </thead>\n",
       "  <tbody>\n",
       "    <tr>\n",
       "      <td>0</td>\n",
       "      <td>VS333</td>\n",
       "      <td>IT</td>\n",
       "      <td>Torino</td>\n",
       "    </tr>\n",
       "    <tr>\n",
       "      <td>1</td>\n",
       "      <td>0000077101</td>\n",
       "      <td>IT</td>\n",
       "      <td>Rome</td>\n",
       "    </tr>\n",
       "    <tr>\n",
       "      <td>2</td>\n",
       "      <td>D200000</td>\n",
       "      <td>IT</td>\n",
       "      <td>Roma</td>\n",
       "    </tr>\n",
       "    <tr>\n",
       "      <td>3</td>\n",
       "      <td>VS335</td>\n",
       "      <td>IT</td>\n",
       "      <td>Napoli</td>\n",
       "    </tr>\n",
       "    <tr>\n",
       "      <td>4</td>\n",
       "      <td>SP-CARB</td>\n",
       "      <td>IT</td>\n",
       "      <td>Milano</td>\n",
       "    </tr>\n",
       "  </tbody>\n",
       "</table>\n",
       "</div>"
      ],
      "text/plain": [
       "   LFA1.LIFNR LFA1.LAND1    City\n",
       "0       VS333         IT  Torino\n",
       "1  0000077101         IT    Rome\n",
       "2     D200000         IT    Roma\n",
       "3       VS335         IT  Napoli\n",
       "4     SP-CARB         IT  Milano"
      ]
     },
     "execution_count": 15,
     "metadata": {},
     "output_type": "execute_result"
    }
   ],
   "source": [
    "df = analysis.get_data_frame(query)\n",
    "df.head()"
   ]
  }
 ],
 "metadata": {
  "jupytext": {
   "formats": "ipynb,py:percent"
  },
  "kernelspec": {
   "display_name": "Python 3",
   "language": "python",
   "name": "python3"
  },
  "language_info": {
   "codemirror_mode": {
    "name": "ipython",
    "version": 3
   },
   "file_extension": ".py",
   "mimetype": "text/x-python",
   "name": "python",
   "nbconvert_exporter": "python",
   "pygments_lexer": "ipython3",
   "version": "3.8.6"
  }
 },
 "nbformat": 4,
 "nbformat_minor": 2
}