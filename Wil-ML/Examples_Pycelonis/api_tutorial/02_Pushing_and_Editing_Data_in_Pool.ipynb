{
 "cells": [
  {
   "cell_type": "markdown",
   "metadata": {},
   "source": [
    "# Data Pool: Push data"
   ]
  },
  {
   "cell_type": "code",
   "execution_count": 1,
   "outputs": [],
   "source": [
    "#To get a copy of this notebook in your current working directory, run:\n",
    "from pycelonis.notebooks import api_tutorial"
   ],
   "metadata": {
    "collapsed": false,
    "pycharm": {
     "name": "#%%\n"
    }
   }
  },
  {
   "cell_type": "markdown",
   "metadata": {},
   "source": [
    "## 1. Connect to Celonis"
   ]
  },
  {
   "cell_type": "code",
   "execution_count": 2,
   "metadata": {},
   "outputs": [
    {
     "name": "stderr",
     "output_type": "stream",
     "text": [
      "WARNING:root:The module pycelonis.utils.api_utils is deprecated and will be removed with pycelonis version 2.0.\n",
      "Please use the following import statement instead: \n",
      "from pycelonis.celonis_api import api_utils \n"
     ]
    },
    {
     "name": "stdout",
     "output_type": "stream",
     "text": [
      "2021-02-08 13:19:20 - pycelonis: Login successful! Hello John Doe\n"
     ]
    }
   ],
   "source": [
    "from pycelonis import get_celonis\n",
    "celonis = get_celonis()"
   ]
  },
  {
   "cell_type": "markdown",
   "metadata": {},
   "source": [
    "## 2. Find the data pool"
   ]
  },
  {
   "cell_type": "code",
   "execution_count": 3,
   "metadata": {},
   "outputs": [
    {
     "data": {
      "text/plain": [
       "<Pool, id f8e841e3-26f5-494a-93fd-842252aef176, name SAP ECC - Purchase to Pay (SE HANA SolEng)>"
      ]
     },
     "execution_count": 3,
     "metadata": {},
     "output_type": "execute_result"
    }
   ],
   "source": [
    "data_pool = celonis.pools.find(\"f8e841e3-26f5-494a-93fd-842252aef176\")\n",
    "data_pool"
   ]
  },
  {
   "cell_type": "code",
   "execution_count": 4,
   "metadata": {},
   "outputs": [
    {
     "data": {
      "text/plain": [
       "[{'name': '_CEL_P2P_ACTIVITIES',\n",
       "  'loaderSource': None,\n",
       "  'available': False,\n",
       "  'dataSourceId': 'f9387f64-7074-43c7-b043-79a362e00e11',\n",
       "  'dataSourceName': 'SE HANA (SolEng)',\n",
       "  'columns': [],\n",
       "  'type': 'TABLE',\n",
       "  'schemaName': 'f8e841e3-26f5-494a-93fd-842252aef176_f9387f64-7074-43c7-b043-79a362e00e11'},\n",
       " {'name': '_CEL_P2P_ACTIVITY_MASTER_DATA',\n",
       "  'loaderSource': None,\n",
       "  'available': False,\n",
       "  'dataSourceId': 'f9387f64-7074-43c7-b043-79a362e00e11',\n",
       "  'dataSourceName': 'SE HANA (SolEng)',\n",
       "  'columns': [],\n",
       "  'type': 'TABLE',\n",
       "  'schemaName': 'f8e841e3-26f5-494a-93fd-842252aef176_f9387f64-7074-43c7-b043-79a362e00e11'}]"
      ]
     },
     "execution_count": 4,
     "metadata": {},
     "output_type": "execute_result"
    }
   ],
   "source": [
    "# see existing tables\n",
    "data_pool.tables"
   ]
  },
  {
   "cell_type": "markdown",
   "metadata": {},
   "source": [
    "## 3. Create a pandas dataframe."
   ]
  },
  {
   "cell_type": "code",
   "execution_count": 5,
   "metadata": {},
   "outputs": [
    {
     "data": {
      "text/html": [
       "<div>\n",
       "<style scoped>\n",
       "    .dataframe tbody tr th:only-of-type {\n",
       "        vertical-align: middle;\n",
       "    }\n",
       "\n",
       "    .dataframe tbody tr th {\n",
       "        vertical-align: top;\n",
       "    }\n",
       "\n",
       "    .dataframe thead th {\n",
       "        text-align: right;\n",
       "    }\n",
       "</style>\n",
       "<table border=\"1\" class=\"dataframe\">\n",
       "  <thead>\n",
       "    <tr style=\"text-align: right;\">\n",
       "      <th></th>\n",
       "      <th>A</th>\n",
       "      <th>B</th>\n",
       "      <th>C</th>\n",
       "    </tr>\n",
       "  </thead>\n",
       "  <tbody>\n",
       "    <tr>\n",
       "      <th>0</th>\n",
       "      <td>2</td>\n",
       "      <td>2</td>\n",
       "      <td>10</td>\n",
       "    </tr>\n",
       "    <tr>\n",
       "      <th>1</th>\n",
       "      <td>4</td>\n",
       "      <td>0</td>\n",
       "      <td>2</td>\n",
       "    </tr>\n",
       "    <tr>\n",
       "      <th>2</th>\n",
       "      <td>8</td>\n",
       "      <td>0</td>\n",
       "      <td>1</td>\n",
       "    </tr>\n",
       "    <tr>\n",
       "      <th>3</th>\n",
       "      <td>0</td>\n",
       "      <td>0</td>\n",
       "      <td>8</td>\n",
       "    </tr>\n",
       "  </tbody>\n",
       "</table>\n",
       "</div>"
      ],
      "text/plain": [
       "   A  B   C\n",
       "0  2  2  10\n",
       "1  4  0   2\n",
       "2  8  0   1\n",
       "3  0  0   8"
      ]
     },
     "execution_count": 5,
     "metadata": {},
     "output_type": "execute_result"
    }
   ],
   "source": [
    "import pandas as pd\n",
    "\n",
    "df = pd.DataFrame({'A': [2, 4, 8, 0], 'B': [2, 0, 0, 0], 'C': [10, 2, 1, 8]})\n",
    "df.head()"
   ]
  },
  {
   "cell_type": "markdown",
   "metadata": {},
   "source": [
    "## 4. Data Pool\n",
    "\n",
    "The following functions have **required** and **optional parameters**. The required parameters are listed and explained in detail. The optional parameters can be checked by pressing SHIFT + TAB, while the curser is in the function"
   ]
  },
  {
   "cell_type": "markdown",
   "metadata": {},
   "source": [
    "**1. Create new table**\n",
    "\n",
    "The create_table(...) function creates a new table in the current data pool (with name: table_name) and inserts the provdied data from df_or_path into this table. \n",
    "\n",
    "If a table of the same name already exists, an error will be raised.\n",
    "You can see how to edit an existing table further down in this tutorial. \n",
    "\n",
    "Required parameters:\n",
    "* **df_or_path**: Either a pandas data frame or a path to a parquet file(s) that should be pushed to Celonis.\n",
    "* **table_name**: The name that the table in the data pool should have."
   ]
  },
  {
   "cell_type": "code",
   "execution_count": 6,
   "metadata": {},
   "outputs": [
    {
     "name": "stdout",
     "output_type": "stream",
     "text": [
      "2020-12-11 11:07:22 - pycelonis: Data push job started...\n",
      "2020-12-11 11:07:36 - pycelonis: Data push job status: RUNNING...\n",
      "2020-12-11 11:07:51 - pycelonis: Data push job status: RUNNING...\n"
     ]
    },
    {
     "data": {
      "text/plain": [
       "{'id': '521daa71-440e-4364-a511-8945ada3f84d',\n",
       " 'targetName': 'MY_PUSH_TABLE',\n",
       " 'lastModified': 1607684841860,\n",
       " 'lastPing': None,\n",
       " 'status': 'DONE',\n",
       " 'type': None,\n",
       " 'fileType': None,\n",
       " 'targetSchema': 'f8e841e3-26f5-494a-93fd-842252aef176',\n",
       " 'upsertStrategy': 'UPSERT_WITH_UNCHANGED_METADATA',\n",
       " 'fallbackVarcharLength': None,\n",
       " 'dataPoolId': 'f8e841e3-26f5-494a-93fd-842252aef176',\n",
       " 'connectionId': None,\n",
       " 'keys': [],\n",
       " 'tableSchema': None,\n",
       " 'logs': ['2020-12-11T11:07:21 - Starting execution, status set to RUNNING',\n",
       "  '2020-12-11T11:07:58 - Done loading chunks',\n",
       "  '2020-12-11T11:07:58 - Status set to DONE',\n",
       "  '2020-12-11T11:07:58 - Execution done'],\n",
       " 'csvParsingOptions': None,\n",
       " 'mirrorTargetNames': [],\n",
       " 'optionalTenantId': None}"
      ]
     },
     "execution_count": 6,
     "metadata": {},
     "output_type": "execute_result"
    }
   ],
   "source": [
    "data_pool.create_table(table_name=\"MY_PUSH_TABLE\",\n",
    "                       df_or_path=df,\n",
    "                       if_exists=\"error\")"
   ]
  },
  {
   "cell_type": "markdown",
   "metadata": {},
   "source": [
    "**The table is now in the data pool and can be added to any data model in that pool.**"
   ]
  },
  {
   "cell_type": "markdown",
   "metadata": {},
   "source": [
    "**2. Append table**\n",
    "\n",
    "The append function appends a new table to the target table. In order to succesfully execute this operation, the column names and and column types of the new table must match with the target tables respective properties. \n",
    "\n",
    "Required parameters:\n",
    "* **df_or_path**: Either a pandas data frame or a path to a parquet file(s) that has the same columns (names and types) as the target table.\n",
    "* **table_name**: The target table name in the data pool."
   ]
  },
  {
   "cell_type": "code",
   "execution_count": 7,
   "metadata": {},
   "outputs": [
    {
     "data": {
      "text/html": [
       "<div>\n",
       "<style scoped>\n",
       "    .dataframe tbody tr th:only-of-type {\n",
       "        vertical-align: middle;\n",
       "    }\n",
       "\n",
       "    .dataframe tbody tr th {\n",
       "        vertical-align: top;\n",
       "    }\n",
       "\n",
       "    .dataframe thead th {\n",
       "        text-align: right;\n",
       "    }\n",
       "</style>\n",
       "<table border=\"1\" class=\"dataframe\">\n",
       "  <thead>\n",
       "    <tr style=\"text-align: right;\">\n",
       "      <th></th>\n",
       "      <th>A</th>\n",
       "      <th>B</th>\n",
       "      <th>C</th>\n",
       "    </tr>\n",
       "  </thead>\n",
       "  <tbody>\n",
       "    <tr>\n",
       "      <th>0</th>\n",
       "      <td>91</td>\n",
       "      <td>72</td>\n",
       "      <td>80</td>\n",
       "    </tr>\n",
       "    <tr>\n",
       "      <th>1</th>\n",
       "      <td>42</td>\n",
       "      <td>54</td>\n",
       "      <td>38</td>\n",
       "    </tr>\n",
       "  </tbody>\n",
       "</table>\n",
       "</div>"
      ],
      "text/plain": [
       "    A   B   C\n",
       "0  91  72  80\n",
       "1  42  54  38"
      ]
     },
     "execution_count": 7,
     "metadata": {},
     "output_type": "execute_result"
    }
   ],
   "source": [
    "append_df = pd.DataFrame({'A': [91, 42], 'B': [72, 54], 'C': [80, 38]})\n",
    "append_df.head()"
   ]
  },
  {
   "cell_type": "code",
   "execution_count": 8,
   "metadata": {},
   "outputs": [
    {
     "name": "stdout",
     "output_type": "stream",
     "text": [
      "2020-12-11 11:08:53 - pycelonis: Data push job started...\n"
     ]
    },
    {
     "data": {
      "text/plain": [
       "{'id': '03391ec8-f1b4-4ae3-8434-98e8923404bd',\n",
       " 'targetName': 'MY_PUSH_TABLE',\n",
       " 'lastModified': 1607684933911,\n",
       " 'lastPing': None,\n",
       " 'status': 'DONE',\n",
       " 'type': 'DELTA',\n",
       " 'fileType': None,\n",
       " 'targetSchema': 'f8e841e3-26f5-494a-93fd-842252aef176',\n",
       " 'upsertStrategy': 'UPSERT_WITH_UNCHANGED_METADATA',\n",
       " 'fallbackVarcharLength': None,\n",
       " 'dataPoolId': 'f8e841e3-26f5-494a-93fd-842252aef176',\n",
       " 'connectionId': None,\n",
       " 'keys': [],\n",
       " 'tableSchema': None,\n",
       " 'mirrorTargetNames': [],\n",
       " 'logs': ['2020-12-11T11:08:53 - Starting execution, status set to RUNNING',\n",
       "  '2020-12-11T11:09:14 - Done loading chunks',\n",
       "  '2020-12-11T11:09:14 - Status set to DONE',\n",
       "  '2020-12-11T11:09:14 - Execution done'],\n",
       " 'csvParsingOptions': None,\n",
       " 'optionalTenantId': None}"
      ]
     },
     "execution_count": 8,
     "metadata": {},
     "output_type": "execute_result"
    }
   ],
   "source": [
    "data_pool.append_table(table_name=\"MY_PUSH_TABLE\", df_or_path=append_df)"
   ]
  },
  {
   "cell_type": "markdown",
   "metadata": {},
   "source": [
    "**3. Upsert table**\n",
    "\n",
    "The upsert_table function work similarily as the append_table function, only here the new data is upserted into the table in the data pool, by the help of the \"primary_keys\" parameter.\n",
    "In our example the \"primary_keys\" columns are 'C'. In this case, every row in the pool table which has the same value in the column 'C' as a corresponding row in the new table is replaced by this respective row. \n",
    "\n",
    "Required parameters:\n",
    "* **df_or_path**: Either a pandas data frame or a path to a parquet file(s) that has the same columns (names and types) as the target table.\n",
    "* **table_name**: The target table name in the data pool.\n",
    "* **primary_keys**: A list of column names (strings). "
   ]
  },
  {
   "cell_type": "code",
   "execution_count": 9,
   "metadata": {},
   "outputs": [
    {
     "data": {
      "text/html": [
       "<div>\n",
       "<style scoped>\n",
       "    .dataframe tbody tr th:only-of-type {\n",
       "        vertical-align: middle;\n",
       "    }\n",
       "\n",
       "    .dataframe tbody tr th {\n",
       "        vertical-align: top;\n",
       "    }\n",
       "\n",
       "    .dataframe thead th {\n",
       "        text-align: right;\n",
       "    }\n",
       "</style>\n",
       "<table border=\"1\" class=\"dataframe\">\n",
       "  <thead>\n",
       "    <tr style=\"text-align: right;\">\n",
       "      <th></th>\n",
       "      <th>A</th>\n",
       "      <th>B</th>\n",
       "      <th>C</th>\n",
       "    </tr>\n",
       "  </thead>\n",
       "  <tbody>\n",
       "    <tr>\n",
       "      <th>0</th>\n",
       "      <td>91</td>\n",
       "      <td>72</td>\n",
       "      <td>80</td>\n",
       "    </tr>\n",
       "    <tr>\n",
       "      <th>1</th>\n",
       "      <td>42</td>\n",
       "      <td>54</td>\n",
       "      <td>40</td>\n",
       "    </tr>\n",
       "  </tbody>\n",
       "</table>\n",
       "</div>"
      ],
      "text/plain": [
       "    A   B   C\n",
       "0  91  72  80\n",
       "1  42  54  40"
      ]
     },
     "execution_count": 9,
     "metadata": {},
     "output_type": "execute_result"
    }
   ],
   "source": [
    "upsert_df = pd.DataFrame({'A': [91, 42], 'B': [72, 54], 'C': [80, 40]})\n",
    "upsert_df.head()"
   ]
  },
  {
   "cell_type": "code",
   "execution_count": 10,
   "metadata": {},
   "outputs": [
    {
     "name": "stdout",
     "output_type": "stream",
     "text": [
      "2020-12-11 11:09:45 - pycelonis: Data push job started...\n",
      "2020-12-11 11:10:04 - pycelonis: Data push job status: RUNNING...\n"
     ]
    },
    {
     "data": {
      "text/plain": [
       "{'id': 'fa557797-9e67-4736-9816-99e9f1c65831',\n",
       " 'targetName': 'MY_PUSH_TABLE',\n",
       " 'lastModified': 1607684985177,\n",
       " 'lastPing': None,\n",
       " 'status': 'DONE',\n",
       " 'type': 'DELTA',\n",
       " 'fileType': None,\n",
       " 'targetSchema': 'f8e841e3-26f5-494a-93fd-842252aef176',\n",
       " 'upsertStrategy': 'UPSERT_WITH_UNCHANGED_METADATA',\n",
       " 'fallbackVarcharLength': None,\n",
       " 'dataPoolId': 'f8e841e3-26f5-494a-93fd-842252aef176',\n",
       " 'connectionId': None,\n",
       " 'keys': ['C'],\n",
       " 'mirrorTargetNames': [],\n",
       " 'tableSchema': None,\n",
       " 'logs': ['2020-12-11T11:09:45 - Starting execution, status set to RUNNING',\n",
       "  '2020-12-11T11:10:10 - Done loading chunks',\n",
       "  '2020-12-11T11:10:10 - Status set to DONE',\n",
       "  '2020-12-11T11:10:10 - Execution done'],\n",
       " 'csvParsingOptions': None,\n",
       " 'optionalTenantId': None}"
      ]
     },
     "execution_count": 10,
     "metadata": {},
     "output_type": "execute_result"
    }
   ],
   "source": [
    "data_pool.upsert_table(table_name=\"MY_PUSH_TABLE\",\n",
    "                       df_or_path=upsert_df,\n",
    "                       primary_keys=['C'])"
   ]
  },
  {
   "cell_type": "markdown",
   "metadata": {},
   "source": [
    "**4. Drop and Replace table**\n",
    "\n",
    "The following function replaces a whole (target) table in the data pool with the new table/data frame \"replace_df\". \n",
    "\n",
    "Required parameters:\n",
    "* **df_or_path**: Either a pandas data frame or a path to a parquet file(s) that has the same columns (names and types) as the target table.\n",
    "* **table_name**: The target table name in the data pool.\n",
    "* **if_exists**: To replace a complete table, set if_exists='drop'"
   ]
  },
  {
   "cell_type": "code",
   "execution_count": 11,
   "metadata": {},
   "outputs": [
    {
     "data": {
      "text/html": [
       "<div>\n",
       "<style scoped>\n",
       "    .dataframe tbody tr th:only-of-type {\n",
       "        vertical-align: middle;\n",
       "    }\n",
       "\n",
       "    .dataframe tbody tr th {\n",
       "        vertical-align: top;\n",
       "    }\n",
       "\n",
       "    .dataframe thead th {\n",
       "        text-align: right;\n",
       "    }\n",
       "</style>\n",
       "<table border=\"1\" class=\"dataframe\">\n",
       "  <thead>\n",
       "    <tr style=\"text-align: right;\">\n",
       "      <th></th>\n",
       "      <th>A</th>\n",
       "      <th>B</th>\n",
       "      <th>C</th>\n",
       "    </tr>\n",
       "  </thead>\n",
       "  <tbody>\n",
       "    <tr>\n",
       "      <th>0</th>\n",
       "      <td>2</td>\n",
       "      <td>2</td>\n",
       "      <td>10</td>\n",
       "    </tr>\n",
       "    <tr>\n",
       "      <th>1</th>\n",
       "      <td>4</td>\n",
       "      <td>0</td>\n",
       "      <td>2</td>\n",
       "    </tr>\n",
       "    <tr>\n",
       "      <th>2</th>\n",
       "      <td>8</td>\n",
       "      <td>0</td>\n",
       "      <td>1</td>\n",
       "    </tr>\n",
       "    <tr>\n",
       "      <th>3</th>\n",
       "      <td>0</td>\n",
       "      <td>0</td>\n",
       "      <td>8</td>\n",
       "    </tr>\n",
       "  </tbody>\n",
       "</table>\n",
       "</div>"
      ],
      "text/plain": [
       "   A  B   C\n",
       "0  2  2  10\n",
       "1  4  0   2\n",
       "2  8  0   1\n",
       "3  0  0   8"
      ]
     },
     "execution_count": 11,
     "metadata": {},
     "output_type": "execute_result"
    }
   ],
   "source": [
    "replace_df = pd.DataFrame({'A': [2, 4, 8, 0], 'B': [2, 0, 0, 0], 'C': [10, 2, 1, 8]})\n",
    "df.head()"
   ]
  },
  {
   "cell_type": "code",
   "execution_count": 12,
   "metadata": {},
   "outputs": [
    {
     "name": "stdout",
     "output_type": "stream",
     "text": [
      "2020-12-11 11:10:21 - pycelonis: Data push job started...\n",
      "2020-12-11 11:10:37 - pycelonis: Data push job status: RUNNING...\n"
     ]
    },
    {
     "data": {
      "text/plain": [
       "{'id': '9316497c-e07f-4116-8f90-cbddb465bba2',\n",
       " 'targetName': 'Test_Data',\n",
       " 'lastModified': 1607685021400,\n",
       " 'lastPing': None,\n",
       " 'status': 'DONE',\n",
       " 'type': 'REPLACE',\n",
       " 'fileType': None,\n",
       " 'targetSchema': 'f8e841e3-26f5-494a-93fd-842252aef176',\n",
       " 'upsertStrategy': 'UPSERT_WITH_UNCHANGED_METADATA',\n",
       " 'fallbackVarcharLength': None,\n",
       " 'dataPoolId': 'f8e841e3-26f5-494a-93fd-842252aef176',\n",
       " 'connectionId': None,\n",
       " 'keys': [],\n",
       " 'tableSchema': None,\n",
       " 'mirrorTargetNames': [],\n",
       " 'logs': ['2020-12-11T11:10:21 - Starting execution, status set to RUNNING',\n",
       "  '2020-12-11T11:10:46 - Done loading chunks',\n",
       "  '2020-12-11T11:10:46 - Status set to DONE',\n",
       "  '2020-12-11T11:10:46 - Execution done'],\n",
       " 'csvParsingOptions': None,\n",
       " 'optionalTenantId': None}"
      ]
     },
     "execution_count": 12,
     "metadata": {},
     "output_type": "execute_result"
    }
   ],
   "source": [
    "data_pool.create_table(table_name=\"Test_Data\",\n",
    "                       df_or_path=replace_df,\n",
    "                       if_exists=\"drop\")"
   ]
  },
  {
   "cell_type": "markdown",
   "metadata": {},
   "source": [
    "**5. Drop and Replace table (keeping the table schema)**\n",
    "\n",
    "The following replaces a whole (target) table in the data pool with the new table/data frame \"replace_df\". BUT it keeps the old table schema, i.e. columns + column types. This can be very important, especially in productive environments.\n",
    "\n",
    "Additional parameters:\n",
    "* **column_config**: config of the pool table, with column names and data types"
   ]
  },
  {
   "cell_type": "code",
   "execution_count": 13,
   "metadata": {},
   "outputs": [
    {
     "name": "stdout",
     "output_type": "stream",
     "text": [
      "2021-02-08 13:25:54 - pycelonis: Execution of Transformation started...\n"
     ]
    }
   ],
   "source": [
    "column_config = data_pool.get_column_config('Test_Data')"
   ]
  },
  {
   "cell_type": "code",
   "execution_count": 14,
   "metadata": {},
   "outputs": [
    {
     "data": {
      "text/plain": [
       "[{'columnName': 'A', 'columnType': 'INTEGER'},\n",
       " {'columnName': 'B', 'columnType': 'INTEGER'},\n",
       " {'columnName': 'C', 'columnType': 'INTEGER'}]"
      ]
     },
     "execution_count": 12,
     "metadata": {},
     "output_type": "execute_result"
    }
   ],
   "source": [
    "column_config"
   ]
  },
  {
   "cell_type": "code",
   "execution_count": 15,
   "metadata": {},
   "outputs": [
    {
     "name": "stdout",
     "output_type": "stream",
     "text": [
      "2021-02-08 13:27:43 - pycelonis: Dropping existing table Test_Data.\n",
      "2021-02-08 13:27:45 - pycelonis: Data push job started...\n",
      "2021-02-08 13:28:04 - pycelonis: Data push job status finished: DONE\n"
     ]
    },
    {
     "data": {
      "text/plain": [
       "{'id': 'f88909f6-ed18-4288-97da-b3f8dc6f3167',\n",
       " 'targetName': 'Test_Data',\n",
       " 'lastModified': 1612790865301,\n",
       " 'lastPing': None,\n",
       " 'status': 'DONE',\n",
       " 'type': 'REPLACE',\n",
       " 'fileType': None,\n",
       " 'targetSchema': 'f8e841e3-26f5-494a-93fd-842252aef176',\n",
       " 'upsertStrategy': 'UPSERT_WITH_UNCHANGED_METADATA',\n",
       " 'fallbackVarcharLength': None,\n",
       " 'dataPoolId': 'f8e841e3-26f5-494a-93fd-842252aef176',\n",
       " 'connectionId': None,\n",
       " 'keys': [],\n",
       " 'tableSchema': {'tableName': 'Test_Data',\n",
       "  'columns': [{'columnName': 'A',\n",
       "    'columnType': 'INTEGER',\n",
       "    'fieldLength': 0,\n",
       "    'decimals': 0,\n",
       "    'pkField': False},\n",
       "   {'columnName': 'B',\n",
       "    'columnType': 'INTEGER',\n",
       "    'fieldLength': 0,\n",
       "    'decimals': 0,\n",
       "    'pkField': False},\n",
       "   {'columnName': 'C',\n",
       "    'columnType': 'INTEGER',\n",
       "    'fieldLength': 0,\n",
       "    'decimals': 0,\n",
       "    'pkField': False}]},\n",
       " 'mirrorTargetNames': [],\n",
       " 'csvParsingOptions': None,\n",
       " 'logs': ['2021-02-08T13:27:45 - Starting execution, status set to RUNNING',\n",
       "  '2021-02-08T13:28:04 - Done loading chunks',\n",
       "  '2021-02-08T13:28:04 - Status set to DONE',\n",
       "  '2021-02-08T13:28:04 - Execution done'],\n",
       " 'optionalTenantId': None}"
      ]
     },
     "execution_count": 15,
     "metadata": {},
     "output_type": "execute_result"
    }
   ],
   "source": [
    "data_pool.create_table(table_name=\"Test_Data\",\n",
    "                       df_or_path=replace_df,\n",
    "                       if_exists=\"drop\",\n",
    "                       column_config=column_config)"
   ]
  }
 ],
 "metadata": {
  "jupytext": {
   "formats": "ipynb,py:percent"
  },
  "kernelspec": {
   "display_name": "Python 3",
   "language": "python",
   "name": "python3"
  },
  "language_info": {
   "codemirror_mode": {
    "name": "ipython",
    "version": 3
   },
   "file_extension": ".py",
   "mimetype": "text/x-python",
   "name": "python",
   "nbconvert_exporter": "python",
   "pygments_lexer": "ipython3",
   "version": "3.8.6"
  }
 },
 "nbformat": 4,
 "nbformat_minor": 4
}