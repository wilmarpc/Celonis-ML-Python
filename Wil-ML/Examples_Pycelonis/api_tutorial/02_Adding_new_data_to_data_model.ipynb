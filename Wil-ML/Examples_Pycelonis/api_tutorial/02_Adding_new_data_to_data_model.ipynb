{
 "cells": [
  {
   "cell_type": "markdown",
   "metadata": {},
   "source": [
    "# Data Model: Add new data"
   ]
  },
  {
   "cell_type": "code",
   "execution_count": 1,
   "metadata": {},
   "outputs": [],
   "source": [
    "#To get a copy of this notebook in your current working dirtectory, run:\n",
    "from pycelonis.notebooks import api_tutorial"
   ]
  },
  {
   "cell_type": "markdown",
   "metadata": {},
   "source": [
    "## 1. Connect to Celonis"
   ]
  },
  {
   "cell_type": "code",
   "metadata": {
    "pycharm": {
     "name": "#%%\n"
    }
   },
   "source": [
    "from pycelonis import get_celonis\n",
    "celonis = get_celonis()"
   ],
   "execution_count": 2,
   "outputs": []
  },
  {
   "cell_type": "markdown",
   "metadata": {},
   "source": [
    "## 2. Find Data Model\n"
   ]
  },
  {
   "cell_type": "markdown",
   "metadata": {},
   "source": [
    "We can now add this table to a Data Model and make it available to the Celonis Analyses, Stduio etc."
   ]
  },
  {
   "cell_type": "code",
   "execution_count": 3,
   "metadata": {},
   "outputs": [
    {
     "data": {
      "text/plain": [
       "[<Datamodel, id bac5d83f-5849-40a6-9bc8-c090219f07ba, name TEST_DATAMODELzzz_pycelonis_test5575704>,\n",
       "<Datamodel, id 475e45fc-8e18-4dfc-be5e-8d8d3cd3bda1, name SAP ECC - Accounts Payable Data Model>,\n",
       "<Datamodel, id ce8f08c9-457e-451f-aaae-b12ecf062b26, name TEST_DATAMODELzzz_pycelonis_test3086618>,\n",
       "<Datamodel, id f404c22d-885d-4a7d-b728-0961e229c64a, name SAP ECC - Accounts Payable Data Model>,\n",
       "<Datamodel, id 30c9a417-b4c2-40e6-b1c5-9145253b5269, name SAP ECC - Accounts Payable Data Model>,\n",
       "<Datamodel, id 77a336d8-a1b8-4a8a-9863-2a4004def82b, name SAP ECC - Accounts Payable Data Model>,\n",
       "<Datamodel, id a40c7f9d-6893-46ed-9dbb-6a356e621444, name SAP ECC - Accounts Payable Data Model>,\n",
       "<Datamodel, id 17dcad74-3fab-4e18-ae21-0efd186ea9b6, name SAP ECC - Accounts Payable Data Model>,\n",
       "<Datamodel, id 47a1929d-6c0e-47bd-bd70-fa201b2775f8, name SAP ECC - Accounts Payable Data Model>,\n",
       "<Datamodel, id b5e4f8c2-71fd-4ffa-9b1f-d6efa4adf864, name SAP ECC - Accounts Payable Data Model>,]"
      ]
     },
     "execution_count": 3,
     "metadata": {},
     "output_type": "execute_result"
    }
   ],
   "source": [
    "celonis.datamodels"
   ]
  },
  {
   "cell_type": "code",
   "execution_count": 4,
   "metadata": {},
   "outputs": [
    {
     "data": {
      "text/plain": [
       "<Datamodel, id b5e4f8c2-71fd-4ffa-9b1f-d6efa4adf864, name SAP ECC - Accounts Payable Data Model>"
      ]
     },
     "execution_count": 4,
     "metadata": {},
     "output_type": "execute_result"
    }
   ],
   "source": [
    "data_model = celonis.datamodels.find(\"b5e4f8c2-71fd-4ffa-9b1f-d6efa4adf864\")\n",
    "data_model"
   ]
  },
  {
   "cell_type": "code",
   "execution_count": 5,
   "metadata": {},
   "outputs": [
    {
     "data": {
      "text/plain": [
       "[<DatamodelTable, id 43fe10d1-1de4-417f-8f67-6720c66bbd4d, name ACTIVITY_TABLE>,\n",
       "<DatamodelTable, id 552c3a26-7370-4a21-81fb-0417c53cadcd, name CASE_TABLE>,]"
      ]
     },
     "execution_count": 5,
     "metadata": {},
     "output_type": "execute_result"
    }
   ],
   "source": [
    "data_model.tables"
   ]
  },
  {
   "cell_type": "markdown",
   "metadata": {},
   "source": [
    "## 3. Connect to Data Pool\n",
    "\n",
    "To add a new table to the Data Model you first need to create this table in the respective Data Pool. The pool can be accessed as seen below."
   ]
  },
  {
   "cell_type": "code",
   "execution_count": 6,
   "metadata": {},
   "outputs": [
    {
     "data": {
      "text/plain": [
       "<Pool, id ac350720-a9d7-4683-a3c8-d7fb98c7d8bb, name zzz_pycelonis_test9300460>"
      ]
     },
     "execution_count": 6,
     "metadata": {},
     "output_type": "execute_result"
    }
   ],
   "source": [
    "data_pool = data_model.pool\n",
    "data_pool"
   ]
  },
  {
   "cell_type": "markdown",
   "metadata": {},
   "source": [
    "## 4. Create a pandas dataframe"
   ]
  },
  {
   "cell_type": "code",
   "execution_count": 7,
   "metadata": {},
   "outputs": [
    {
     "data": {
      "text/html": [
       "<div>\n",
       "<style scoped>\n",
       "    .dataframe tbody tr th:only-of-type {\n",
       "        vertical-align: middle;\n",
       "    }\n",
       "\n",
       "    .dataframe tbody tr th {\n",
       "        vertical-align: top;\n",
       "    }\n",
       "\n",
       "    .dataframe thead th {\n",
       "        text-align: right;\n",
       "    }\n",
       "</style>\n",
       "<table border=\"1\" class=\"dataframe\">\n",
       "  <thead>\n",
       "    <tr style=\"text-align: right;\">\n",
       "      <th></th>\n",
       "      <th>A</th>\n",
       "      <th>B</th>\n",
       "      <th>C_KEY</th>\n",
       "    </tr>\n",
       "  </thead>\n",
       "  <tbody>\n",
       "    <tr>\n",
       "      <th>0</th>\n",
       "      <td>2</td>\n",
       "      <td>2</td>\n",
       "      <td>A</td>\n",
       "    </tr>\n",
       "    <tr>\n",
       "      <th>1</th>\n",
       "      <td>4</td>\n",
       "      <td>0</td>\n",
       "      <td>B</td>\n",
       "    </tr>\n",
       "    <tr>\n",
       "      <th>2</th>\n",
       "      <td>8</td>\n",
       "      <td>0</td>\n",
       "      <td>C</td>\n",
       "    </tr>\n",
       "    <tr>\n",
       "      <th>3</th>\n",
       "      <td>0</td>\n",
       "      <td>0</td>\n",
       "      <td>D</td>\n",
       "    </tr>\n",
       "  </tbody>\n",
       "</table>\n",
       "</div>"
      ],
      "text/plain": [
       "   A  B C_KEY\n",
       "0  2  2     A\n",
       "1  4  0     B\n",
       "2  8  0     C\n",
       "3  0  0     D"
      ]
     },
     "execution_count": 7,
     "metadata": {},
     "output_type": "execute_result"
    }
   ],
   "source": [
    "import pandas as pd\n",
    "\n",
    "df = pd.DataFrame({'A': [2, 4, 8, 0], 'B': [2, 0, 0, 0], 'C_KEY': [\"A\", \"B\", \"C\", \"D\"]})\n",
    "df.head()"
   ]
  },
  {
   "cell_type": "markdown",
   "metadata": {},
   "source": [
    "## 5. Creat Table in Data Pool\n",
    "\n",
    "\n",
    "**Pushing and editing data in the current data pool**\n",
    "\n",
    "The following functions have **required** and **optional parameters**. The required parameters are listed and explained in detail. The optional parameters can be checked by pressing SHIFT + TAB, while the curser is in the function"
   ]
  },
  {
   "cell_type": "markdown",
   "metadata": {},
   "source": [
    "**Create new table**\n",
    "\n",
    "The create_table(...) function creates a new table in the current data pool. In order to execute this operation the data pool does not have an existing table with the same table name. Otherwise an error is raised. In case the target table already exists, use replace_table(), which is explained in the next few steps. \n",
    "\n",
    "Important parameters:\n",
    "* **df_or_path**: Either a pandas data frame or a path to a parquet file(s) that should be pushed to Celonis.\n",
    "* **table_name**: The name that the table in the data pool should have.\n",
    "* **if_exists**: One of 'error' or 'drop'. If you dont want to overwrite an existing table, leave at default: 'error'"
   ]
  },
  {
   "cell_type": "code",
   "execution_count": 8,
   "metadata": {},
   "outputs": [
    {
     "name": "stdout",
     "output_type": "stream",
     "text": [
      "2020-12-11 10:54:53 - pycelonis: Data push job started...\n",
      "2020-12-11 10:55:09 - pycelonis: Data push job status: RUNNING...\n"
     ]
    },
    {
     "data": {
      "text/plain": [
       "{'id': '17ea88f7-6421-4e56-b1ba-25d58def5089',\n",
       " 'targetName': 'MY_NEW_TABLE',\n",
       " 'lastModified': 1607684093606,\n",
       " 'lastPing': None,\n",
       " 'status': 'DONE',\n",
       " 'type': None,\n",
       " 'fileType': None,\n",
       " 'targetSchema': 'ac350720-a9d7-4683-a3c8-d7fb98c7d8bb',\n",
       " 'upsertStrategy': 'UPSERT_WITH_UNCHANGED_METADATA',\n",
       " 'fallbackVarcharLength': None,\n",
       " 'dataPoolId': 'ac350720-a9d7-4683-a3c8-d7fb98c7d8bb',\n",
       " 'connectionId': None,\n",
       " 'keys': [],\n",
       " 'tableSchema': None,\n",
       " 'mirrorTargetNames': [],\n",
       " 'logs': ['2020-12-11T10:54:53 - Starting execution, status set to RUNNING',\n",
       "  '2020-12-11T10:55:18 - Done loading chunks',\n",
       "  '2020-12-11T10:55:18 - Status set to DONE',\n",
       "  '2020-12-11T10:55:18 - Execution done'],\n",
       " 'csvParsingOptions': None,\n",
       " 'optionalTenantId': None}"
      ]
     },
     "execution_count": 8,
     "metadata": {},
     "output_type": "execute_result"
    }
   ],
   "source": [
    "data_pool.create_table(df_or_path=df, table_name=\"MY_NEW_TABLE\")"
   ]
  },
  {
   "cell_type": "markdown",
   "metadata": {},
   "source": [
    "**The table is now in the data pool and can be added to any data model in that pool.**"
   ]
  },
  {
   "cell_type": "markdown",
   "metadata": {},
   "source": [
    "## 6. Adding a table from Pool to Data Model.\n"
   ]
  },
  {
   "cell_type": "markdown",
   "metadata": {},
   "source": [
    "In order to add the table to the datamodel, you can use the function \"add_table_from_pool\", which can execute the following steps:\n",
    "\n",
    "1. Add table from Pool to Data Model\n",
    "2. Set an alias for the table name\n",
    "3. Connect the new table to an existing table of the Data Model (Optional)\n",
    "4. Reload the datamodel (Optional)\n",
    "\n",
    "\n",
    "Required parameters:\n",
    "* **table_name**: Name of the pool table to be added.\n",
    "\n",
    "\n",
    "Optional parameters:\n",
    "* **alias**: The name that the table has in the Data Model. If not provided alias will be equals to table name.\n",
    "* **added_table_join_type**: str, optional\n",
    "    Add table to be pushed as 'source' table or as 'target' table regarding the connection. \n",
    "    The possible entry values are ['source', 'target'], by default None\n",
    "* **new_foreign_key_to_table**: str, optional\n",
    "    Set connection to or from this table, by default None\n",
    "* **foreign_key_columns**: List of 2-dimensional tuples [(str, str), ..], optional\n",
    "    Each 2D-tuple consists of a 'sourceColumnName' and 'targetColumnName' which represents the foreign_key\n",
    "    e.g. foreign_key_columns=[('Col1', 'Col3'), ('Col2', 'Col2'), ..] between two tables, by default None\n",
    "* **connection**: DataConnection or str, optional\n",
    "    The :class:`DataConnection` that the table is in, uses Global if not specified, \n",
    "    by default None\n",
    "* **reload**: str, optional\n",
    "    Reload can be one of \"FROM_CACHE\", \"FORCE_COMPLETE\", or \"PARTIAL_ON_TABLE\",\n",
    "    by default None"
   ]
  },
  {
   "cell_type": "markdown",
   "metadata": {},
   "source": [
    "**Option 1**"
   ]
  },
  {
   "cell_type": "code",
   "execution_count": 9,
   "metadata": {},
   "outputs": [
    {
     "name": "stdout",
     "output_type": "stream",
     "text": [
      "2020-12-11 10:56:14 - pycelonis: Partial Data Model reload started...\n"
     ]
    },
    {
     "data": {
      "text/plain": [
       "[{'id': '7923f271-8340-4ff5-9237-7479dd7353f8',\n",
       "  'dataModelId': 'b5e4f8c2-71fd-4ffa-9b1f-d6efa4adf864',\n",
       "  'dataSourceId': None,\n",
       "  'name': 'MY_NEW_TABLE',\n",
       "  'alias': 'MY_NEW_TABLE',\n",
       "  'columns': [],\n",
       "  'useDirectStorage': False,\n",
       "  'aliasOrName': 'MY_NEW_TABLE'}]"
      ]
     },
     "execution_count": 9,
     "metadata": {},
     "output_type": "execute_result"
    }
   ],
   "source": [
    "# OPTION 1:\n",
    "data_model.add_table_from_pool(table_name=\"MY_NEW_TABLE\",\n",
    "                               alias= \"MY_NEW_TABLE\",\n",
    "                               added_table_join_type=\"source\",\n",
    "                               new_foreign_key_to_table=\"CASE_TABLE\",\n",
    "                               foreign_key_columns=[(\"C_KEY\",\"KEY\")],\n",
    "                               reload=\"PARTIAL_ON_TABLE\")"
   ]
  },
  {
   "cell_type": "markdown",
   "metadata": {},
   "source": [
    "**Option 2**"
   ]
  },
  {
   "cell_type": "code",
   "execution_count": 10,
   "metadata": {},
   "outputs": [],
   "source": [
    "# OPTION 2: Same result as OPTION 1, but broken down in multiple steps\n",
    "\n",
    "# only add table\n",
    "data_model.add_table_from_pool(table_name=\"MY_NEW_TABLE\",\n",
    "                               alias= \"MY_NEW_TABLE\")\n",
    "\n",
    "# create foreign key\n",
    "data_model.create_foreign_key(source_table=\"MY_NEW_TABLE\",target_table=\"CASE_TABLE\",columns=[(\"C_KEY\",\"KEY\")])\n",
    "\n",
    "# reload datamodel\n",
    "data_model.reload(tables='MY_TABLE')"
   ]
  }
 ],
 "metadata": {
  "jupytext": {
   "formats": "ipynb,py:percent"
  },
  "kernelspec": {
   "display_name": "Python 3",
   "language": "python",
   "name": "python3"
  },
  "language_info": {
   "codemirror_mode": {
    "name": "ipython",
    "version": 3
   },
   "file_extension": ".py",
   "mimetype": "text/x-python",
   "name": "python",
   "nbconvert_exporter": "python",
   "pygments_lexer": "ipython3",
   "version": "3.8.6"
  }
 },
 "nbformat": 4,
 "nbformat_minor": 4
}