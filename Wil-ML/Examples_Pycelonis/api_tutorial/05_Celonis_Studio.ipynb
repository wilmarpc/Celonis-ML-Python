{
 "cells": [
  {
   "cell_type": "markdown",
   "metadata": {},
   "source": [
    "# Studio\n",
    "In this tutorial you can see the basic way of how interact with the Celonis studio.\n",
    "Be aware that any change you make will only appear in the Celonis Studio **after you publish the package via .publish()**"
   ]
  },
  {
   "cell_type": "markdown",
   "metadata": {
    "pycharm": {
     "name": "#%% md\n"
    }
   },
   "source": [
    "## 1. Connect to Celonis"
   ]
  },
  {
   "cell_type": "code",
   "execution_count": 1,
   "outputs": [],
   "source": [
    "from pycelonis import get_celonis\n",
    "celonis = get_celonis()"
   ],
   "metadata": {
    "collapsed": false,
    "pycharm": {
     "name": "#%%\n"
    }
   }
  },
  {
   "cell_type": "markdown",
   "metadata": {},
   "source": [
    "## 2. Find or Create a space and package\n",
    "You can find spaces and packages using key, id or name."
   ]
  },
  {
   "cell_type": "code",
   "execution_count": 2,
   "metadata": {},
   "outputs": [
    {
     "data": {
      "text/plain": [
       "<Space, id fac75d2a-5967-43ae-bb74-869b59efc0c4, name test-space>"
      ]
     },
     "execution_count": 2,
     "metadata": {},
     "output_type": "execute_result"
    }
   ],
   "source": [
    "space = celonis.create_space(\"test-space\") # Create space\n",
    "space = celonis.spaces.find(\"test-space\") # Find space\n",
    "space"
   ]
  },
  {
   "cell_type": "code",
   "execution_count": 3,
   "metadata": {},
   "outputs": [],
   "source": [
    "package = space.create_package(\"name_or_key\")"
   ]
  },
  {
   "cell_type": "code",
   "execution_count": 4,
   "metadata": {},
   "outputs": [],
   "source": [
    "package = space.packages.find(\"name_or_key\")\n",
    "package.publish(version=\"1.1.1\")"
   ]
  },
  {
   "cell_type": "code",
   "execution_count": 5,
   "metadata": {},
   "outputs": [
    {
     "data": {
      "text/plain": [
       "<Package, id 9994ac3c-af82-4065-8444-f5b64a1cfca5, name name_or_key>"
      ]
     },
     "execution_count": 5,
     "metadata": {},
     "output_type": "execute_result"
    }
   ],
   "source": [
    "package"
   ]
  },
  {
   "cell_type": "markdown",
   "metadata": {},
   "source": [
    "**Package Information**"
   ]
  },
  {
   "cell_type": "code",
   "execution_count": 6,
   "metadata": {},
   "outputs": [
    {
     "data": {
      "text/plain": [
       "'test-package'"
      ]
     },
     "execution_count": 6,
     "metadata": {},
     "output_type": "execute_result"
    }
   ],
   "source": [
    "package.name"
   ]
  },
  {
   "cell_type": "code",
   "execution_count": 7,
   "metadata": {},
   "outputs": [
    {
     "data": {
      "text/plain": [
       "[{'key': 'test-package',\n",
       "  'name': 'test-package',\n",
       "  'version': None,\n",
       "  'date': 1612779377367,\n",
       "  'active': False,\n",
       "  'authorId': '32a2e630-8e1b-4add-a1be-4e9d9ec02a42',\n",
       "  'draftId': '2bf15b80-7ce8-43d8-89d9-c732259d2c62'}]"
      ]
     },
     "execution_count": 7,
     "metadata": {},
     "output_type": "execute_result"
    }
   ],
   "source": [
    "package.history"
   ]
  },
  {
   "cell_type": "code",
   "execution_count": 8,
   "metadata": {},
   "outputs": [
    {
     "data": {
      "text/plain": [
       "[{'description': 'test_var_descr', 'key': 'create-test', 'type': 'DATA_MODEL'},\n",
       " {'description': 'test_var_descr',\n",
       "  'key': 'create-test2',\n",
       "  'type': 'DATA_MODEL'}]"
      ]
     },
     "execution_count": 8,
     "metadata": {},
     "output_type": "execute_result"
    }
   ],
   "source": [
    "package.variables"
   ]
  },
  {
   "cell_type": "code",
   "execution_count": 9,
   "metadata": {},
   "outputs": [
    {
     "data": {
      "text/plain": [
       "[<KnowledgeModel, id d0cf6e40-8b12-4014-88f9-fe65b967e928, name test-km-123>,]"
      ]
     },
     "execution_count": 9,
     "metadata": {},
     "output_type": "execute_result"
    }
   ],
   "source": [
    "package.knowledge_models"
   ]
  },
  {
   "cell_type": "code",
   "execution_count": 10,
   "metadata": {},
   "outputs": [
    {
     "data": {
      "text/plain": [
       "[]"
      ]
     },
     "execution_count": 10,
     "metadata": {},
     "output_type": "execute_result"
    }
   ],
   "source": [
    "package.folders"
   ]
  },
  {
   "cell_type": "code",
   "execution_count": 11,
   "metadata": {},
   "outputs": [
    {
     "data": {
      "text/plain": [
       "[]"
      ]
     },
     "execution_count": 11,
     "metadata": {},
     "output_type": "execute_result"
    }
   ],
   "source": [
    "package.nodes"
   ]
  },
  {
   "cell_type": "code",
   "execution_count": 12,
   "metadata": {},
   "outputs": [
    {
     "data": {
      "text/plain": [
       "[{'key': 'create-test',\n",
       "  'value': '14182f83-9841-4416-8e4b-e2613183bc55',\n",
       "  'type': 'DATA_MODEL'},\n",
       " {'key': 'create-test2',\n",
       "  'value': '14182f83-9841-4416-8e4b-e2613183bc55',\n",
       "  'type': 'DATA_MODEL'}]"
      ]
     },
     "execution_count": 12,
     "metadata": {},
     "output_type": "execute_result"
    }
   ],
   "source": [
    "package.variable_assignments"
   ]
  },
  {
   "cell_type": "markdown",
   "metadata": {},
   "source": [
    "**Create a Variable in the Package**"
   ]
  },
  {
   "cell_type": "code",
   "execution_count": 13,
   "metadata": {},
   "outputs": [],
   "source": [
    "package.create_variable(\n",
    "    \"create-test2\",\n",
    "    '14182f83-9841-4416-8e4b-e2613183bc55',\n",
    "    variable_type='DATA_MODEL',\n",
    "    description='test_var_descr',\n",
    ")\n"
   ]
  },
  {
   "cell_type": "code",
   "execution_count": 14,
   "metadata": {},
   "outputs": [
    {
     "data": {
      "text/plain": [
       "[{'description': 'test_var_descr', 'key': 'create-test', 'type': 'DATA_MODEL'},\n",
       " {'description': 'test_var_descr',\n",
       "  'key': 'create-test2',\n",
       "  'type': 'DATA_MODEL'}]"
      ]
     },
     "execution_count": 14,
     "metadata": {},
     "output_type": "execute_result"
    }
   ],
   "source": [
    "package.variables"
   ]
  },
  {
   "cell_type": "markdown",
   "metadata": {},
   "source": [
    "## 3. Find or Create Knowledge Model in Package"
   ]
  },
  {
   "cell_type": "code",
   "execution_count": 15,
   "metadata": {},
   "outputs": [],
   "source": [
    "km = package.create_knowledge_model(\n",
    "    \"test-km-123\",\n",
    "    key=None,\n",
    "    data_model_id='abc12345',\n",
    "    data_model_variable='',\n",
    ")"
   ]
  },
  {
   "cell_type": "code",
   "execution_count": 16,
   "metadata": {},
   "outputs": [],
   "source": [
    "km = package.knowledge_models.find(\"test-km-123\")"
   ]
  },
  {
   "cell_type": "code",
   "execution_count": 17,
   "metadata": {},
   "outputs": [
    {
     "data": {
      "text/plain": [
       "<KnowledgeModel, id d0cf6e40-8b12-4014-88f9-fe65b967e928, name test-km-123>"
      ]
     },
     "execution_count": 17,
     "metadata": {},
     "output_type": "execute_result"
    }
   ],
   "source": [
    "km"
   ]
  },
  {
   "cell_type": "code",
   "execution_count": 18,
   "metadata": {},
   "outputs": [
    {
     "data": {
      "text/plain": [
       "{'customObjects': [{'customAttributes': {'attr1': 'value1'},\n",
       "   'displayName': 'testname',\n",
       "   'id': 'testid'}],\n",
       " 'dataModelId': 'abc12345',\n",
       " 'kind': 'BASE',\n",
       " 'kpis': [],\n",
       " 'metadata': {'displayName': 'test-km-123', 'key': 'test-km-123'},\n",
       " 'variables': []}"
      ]
     },
     "execution_count": 18,
     "metadata": {},
     "output_type": "execute_result"
    }
   ],
   "source": [
    "km.content"
   ]
  },
  {
   "cell_type": "markdown",
   "metadata": {},
   "source": [
    "**Knowledge Model Information**"
   ]
  },
  {
   "cell_type": "code",
   "execution_count": 19,
   "metadata": {},
   "outputs": [
    {
     "data": {
      "text/plain": [
       "[{'customAttributes': {'attr1': 'value1'},\n",
       "  'displayName': 'testname',\n",
       "  'id': 'testid'}]"
      ]
     },
     "execution_count": 19,
     "metadata": {},
     "output_type": "execute_result"
    }
   ],
   "source": [
    "km.custom_objects"
   ]
  },
  {
   "cell_type": "code",
   "execution_count": 20,
   "metadata": {},
   "outputs": [
    {
     "data": {
      "text/plain": [
       "[]"
      ]
     },
     "execution_count": 20,
     "metadata": {},
     "output_type": "execute_result"
    }
   ],
   "source": [
    "km.kpis # km.variables"
   ]
  },
  {
   "cell_type": "markdown",
   "metadata": {},
   "source": [
    "**Add and remove Custom Objects to Knowledge Model**"
   ]
  },
  {
   "cell_type": "code",
   "execution_count": 21,
   "metadata": {},
   "outputs": [],
   "source": [
    "km.add_custom_object(\"testid2\", \"testname2\", custom_attributes={\"attr1\": \"value1\"})"
   ]
  },
  {
   "cell_type": "code",
   "execution_count": 22,
   "metadata": {},
   "outputs": [],
   "source": [
    "km.remove_custom_object(id=\"12345\")"
   ]
  },
  {
   "cell_type": "markdown",
   "metadata": {},
   "source": [
    "**Execute PQL from Knowledgemodel**"
   ]
  },
  {
   "cell_type": "code",
   "execution_count": 23,
   "metadata": {},
   "outputs": [],
   "source": [
    "from pycelonis.celonis_api.pql.pql import PQL\n",
    "\n",
    "#### Executing KPI - PQL from Knowledge Model\n",
    "space = celonis.spaces.find(\"space-name\")\n",
    "p = space.packages.find(\"package-name\")\n",
    "km = p.knowledge_models.find(\"km-name\")\n",
    "dm = celonis.datamodels.find(\"dm-id\")\n",
    "\n",
    "# Appending KPI\n",
    "query = PQL()\n",
    "query += km.kpis.find(\"kpi-name\")\n",
    "\n",
    "# Verify evaluated query\n",
    "print(km.kpis.find(\"kpi-name\").query)\n",
    "result = dm.get_data_frame(query)\n",
    "result.head()"
   ]
  },
  {
   "cell_type": "code",
   "execution_count": 24,
   "metadata": {},
   "outputs": [],
   "source": [
    "#### Executing Records - PQL from Knowledge Model\n",
    "space = celonis.spaces.find(\"space-name\")\n",
    "p = space.packages.find(\"package-name\")\n",
    "km = p.knowledge_models.find(\"km-name\")\n",
    "dm = celonis.datamodels.find(\"dm-id\")\n",
    "\n",
    "# Appending record\n",
    "query = PQL()\n",
    "query += km.records.find(\"record-name\")\n",
    "\n",
    "# Verify evaluated query\n",
    "print(\"Record: \",km.records.find(\"record-name\"))\n",
    "result = dm.get_data_frame(query)\n",
    "result.head()"
   ]
  },
  {
   "cell_type": "code",
   "execution_count": 25,
   "metadata": {},
   "outputs": [],
   "source": [
    "#### Executing Records (Identifier and Attributes separately) - PQL from Knowledge Model\n",
    "space = celonis.spaces.find(\"space-name\")\n",
    "p = space.packages.find(\"package-name\")\n",
    "km = p.knowledge_models.find(\"km-name\")\n",
    "dm = celonis.datamodels.find(\"dm-id\")\n",
    "\n",
    "# Appending record identifier\n",
    "query = PQL()\n",
    "query += km.records.find(\"record-name\").identifier\n",
    "\n",
    "# Appending record attributes\n",
    "query += km.records.find(\"record-name\").attributes\n",
    "\n",
    "# Verify evaluated query\n",
    "print(\"Record identifier: \",km.records.find(\"record-name\").identifier)\n",
    "print(\"Record attributes: \",km.records.find(\"record-name\").attributes)\n",
    "result = dm.get_data_frame(query)\n",
    "result.head()"
   ]
  },
  {
   "cell_type": "markdown",
   "metadata": {},
   "source": [
    "## 4. Publish a package"
   ]
  },
  {
   "cell_type": "code",
   "execution_count": 26,
   "metadata": {},
   "outputs": [],
   "source": [
    "# explicit version\n",
    "package.publish(version=\"2.0.3\")"
   ]
  },
  {
   "cell_type": "code",
   "execution_count": 27,
   "metadata": {},
   "outputs": [
    {
     "name": "stdout",
     "output_type": "stream",
     "text": [
      "2021-02-08 10:20:34 - pycelonis: Successfully published version 0.0.1 of package.\n"
     ]
    }
   ],
   "source": [
    "# or simply next version number\n",
    "package.publish()"
   ]
  },
  {
   "cell_type": "markdown",
   "metadata": {},
   "source": [
    "## 5. Working with analyses in Studio"
   ]
  },
  {
   "cell_type": "markdown",
   "metadata": {},
   "source": [
    "**Retrieve analysis:**"
   ]
  },
  {
   "cell_type": "code",
   "execution_count": 28,
   "metadata": {},
   "outputs": [
    {
     "data": {
      "text/plain": [
       "<Analysis, id 2a686c53-f4e6-40bf-8647-d410a004bd29, name celosphere21_analysis>"
      ]
     },
     "execution_count": 28,
     "metadata": {},
     "output_type": "execute_result"
    }
   ],
   "source": [
    "a = package.analyses.find(\"celosphere21_analysis\")\n",
    "a"
   ]
  },
  {
   "cell_type": "markdown",
   "metadata": {},
   "source": [
    "**Work with variables and formulas:**"
   ]
  },
  {
   "cell_type": "code",
   "execution_count": 29,
   "metadata": {},
   "outputs": [
    {
     "data": {
      "text/plain": [
       "[]"
      ]
     },
     "execution_count": 29,
     "metadata": {},
     "output_type": "execute_result"
    }
   ],
   "source": [
    "a.draft.variables"
   ]
  },
  {
   "cell_type": "code",
   "execution_count": 30,
   "metadata": {},
   "outputs": [
    {
     "data": {
      "text/plain": [
       "{'name': 'TEST_VAR', 'type': 'text_replacement', 'value': 'TEST_VALUE'}"
      ]
     },
     "execution_count": 30,
     "metadata": {},
     "output_type": "execute_result"
    }
   ],
   "source": [
    "a.draft.create_variable(\"TEST_VAR\", \"TEST_VALUE\", var_type=\"text_replacement\")"
   ]
  },
  {
   "cell_type": "code",
   "execution_count": 31,
   "metadata": {},
   "outputs": [
    {
     "data": {
      "text/plain": [
       "[]"
      ]
     },
     "execution_count": 31,
     "metadata": {},
     "output_type": "execute_result"
    }
   ],
   "source": [
    "a.saved_formulas"
   ]
  },
  {
   "cell_type": "code",
   "execution_count": 32,
   "metadata": {},
   "outputs": [
    {
     "data": {
      "text/plain": [
       "<BaseAnalysisSavedFormula, id 20a63ffa-4236-499d-8db7-ca28f5c4a8f2, name TEST_FORMULA>"
      ]
     },
     "execution_count": 32,
     "metadata": {},
     "output_type": "execute_result"
    }
   ],
   "source": [
    "a.create_saved_formula(\n",
    "    name=\"TEST_FORMULA\", \n",
    "    description=\"TEST_DESCRIPTION\",\n",
    "    template=\"\"\" COUNT_TABLE(\"VBAP\") \"\"\"\n",
    ")"
   ]
  },
  {
   "cell_type": "markdown",
   "metadata": {},
   "source": [
    "**Interact with sheets and components:**"
   ]
  },
  {
   "cell_type": "code",
   "execution_count": 33,
   "metadata": {},
   "outputs": [
    {
     "data": {
      "text/plain": [
       "[<BaseAnalysisSheet, id 88ddb7b2-dffd-4b2c-8725-fe06bc4ccace, name Data Overview>,\n",
       "<BaseAnalysisSheet, id dd437fef-f36d-486f-8123-7af2f69b8254, name Anomalies>,]"
      ]
     },
     "execution_count": 33,
     "metadata": {},
     "output_type": "execute_result"
    }
   ],
   "source": [
    "a.draft.sheets"
   ]
  },
  {
   "cell_type": "code",
   "execution_count": 34,
   "metadata": {},
   "outputs": [
    {
     "data": {
      "text/plain": [
       "[<BaseAnalysisTable, id 179e6d61-7a2f-4bd8-a92f-13e5de4950b0, name # New Sales Order Items>,\n",
       "<BaseAnalysisTable, id 0c1bc604-2bae-4d7b-af2a-1570e445278a, name #{# New Sales Order Items Per Customer}>,\n",
       "<BaseAnalysisTable, id 66c2f2b8-1f34-483b-ba89-6b3a0d56e645, name #{# New Sales Order Items Per Material}>,\n",
       "<BaseAnalysisComponent, id b7fe435d-6be1-4780-b24b-fc3c119642a0, name >,\n",
       "<BaseAnalysisComponent, id 3e41a063-40ed-4100-a240-913c06ef9e97, name >,\n",
       "<BaseAnalysisTable, id be0e8b09-e560-4f98-805b-8dc3ed14c4f3, name #{Most Recent Anomalies}>,\n",
       "<BaseAnalysisComponent, id f18e05bf-423d-4332-b49b-de9942d2d7d5, name >,\n",
       "<BaseAnalysisComponent, id c5af935b-cc89-4860-b293-b922c798c349, name >,\n",
       "<BaseAnalysisTable, id 6a58028e-7ff3-479f-a8a2-32d8f31e3f33, name #{#Anomalies per Day}>,\n",
       "<BaseAnalysisTable, id dc47ef8b-a3eb-41e1-abe7-2ea68d3dc5e9, name # New Sales Order Items>,]"
      ]
     },
     "execution_count": 34,
     "metadata": {},
     "output_type": "execute_result"
    }
   ],
   "source": [
    "a.draft.components"
   ]
  },
  {
   "cell_type": "markdown",
   "metadata": {
    "pycharm": {
     "name": "#%% md\n"
    }
   },
   "source": [
    "**Information on how to pull data from analysis can be found in notebook 01_Pulling_data.ipynb**"
   ]
  }
 ],
 "metadata": {
  "kernelspec": {
   "display_name": "pycelonis",
   "language": "python",
   "name": "pycelonis"
  },
  "language_info": {
   "codemirror_mode": {
    "name": "ipython",
    "version": 3
   },
   "file_extension": ".py",
   "mimetype": "text/x-python",
   "name": "python",
   "nbconvert_exporter": "python",
   "pygments_lexer": "ipython3",
   "version": "3.8.2"
  }
 },
 "nbformat": 4,
 "nbformat_minor": 4
}